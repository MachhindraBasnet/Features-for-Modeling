{
 "cells": [
  {
   "cell_type": "code",
   "execution_count": 35,
   "metadata": {},
   "outputs": [],
   "source": [
    "import math\n",
    "import warnings\n",
    "\n",
    "from IPython.display import display\n",
    "from matplotlib import pyplot as plt\n",
    "import numpy as np\n",
    "import pandas as pd\n",
    "import seaborn as sns\n",
    "from sklearn import linear_model\n",
    "import statsmodels.formula.api as smf\n",
    "\n",
    "# Display preferences.\n",
    "%matplotlib inline\n",
    "pd.options.display.float_format = '{:.3f}'.format\n",
    "\n",
    "# Suppress annoying harmless error.\n",
    "warnings.filterwarnings(\n",
    "    action=\"ignore\",\n",
    "    module=\"scipy\",\n",
    "    message=\"^internal gelsd\"\n",
    ")"
   ]
  },
  {
   "cell_type": "code",
   "execution_count": 36,
   "metadata": {},
   "outputs": [
    {
     "data": {
      "text/plain": [
       "'C:\\\\Users\\\\18644\\\\Desktop\\\\THINKFUL\\\\Data Science Bootcamp\\\\UNIT 2\\\\Lesson 2'"
      ]
     },
     "execution_count": 36,
     "metadata": {},
     "output_type": "execute_result"
    }
   ],
   "source": [
    "pwd"
   ]
  },
  {
   "cell_type": "code",
   "execution_count": 37,
   "metadata": {},
   "outputs": [],
   "source": [
    "df = pd.read_csv('table_8_offenses_known_to_law_enforcement_new_york_by_city_2013.csv')"
   ]
  },
  {
   "cell_type": "code",
   "execution_count": 38,
   "metadata": {},
   "outputs": [
    {
     "data": {
      "text/html": [
       "<div>\n",
       "<style scoped>\n",
       "    .dataframe tbody tr th:only-of-type {\n",
       "        vertical-align: middle;\n",
       "    }\n",
       "\n",
       "    .dataframe tbody tr th {\n",
       "        vertical-align: top;\n",
       "    }\n",
       "\n",
       "    .dataframe thead th {\n",
       "        text-align: right;\n",
       "    }\n",
       "</style>\n",
       "<table border=\"1\" class=\"dataframe\">\n",
       "  <thead>\n",
       "    <tr style=\"text-align: right;\">\n",
       "      <th></th>\n",
       "      <th>City</th>\n",
       "      <th>Population</th>\n",
       "      <th>Violent\n",
       "crime</th>\n",
       "      <th>Murder</th>\n",
       "      <th>Rape\n",
       "(revised\n",
       "definition)1</th>\n",
       "      <th>Rape\n",
       "(legacy\n",
       "definition)2</th>\n",
       "      <th>Robbery</th>\n",
       "      <th>Aggravated\n",
       "assault</th>\n",
       "      <th>Property crime</th>\n",
       "      <th>Burglary</th>\n",
       "      <th>Larceny-\n",
       "theft</th>\n",
       "      <th>Motor\n",
       "vehicle\n",
       "theft</th>\n",
       "      <th>Arson3</th>\n",
       "    </tr>\n",
       "  </thead>\n",
       "  <tbody>\n",
       "    <tr>\n",
       "      <th>0</th>\n",
       "      <td>Adams Village</td>\n",
       "      <td>1,861</td>\n",
       "      <td>0</td>\n",
       "      <td>0.000</td>\n",
       "      <td>nan</td>\n",
       "      <td>0</td>\n",
       "      <td>0</td>\n",
       "      <td>0</td>\n",
       "      <td>12</td>\n",
       "      <td>2</td>\n",
       "      <td>10</td>\n",
       "      <td>0</td>\n",
       "      <td>0.000</td>\n",
       "    </tr>\n",
       "    <tr>\n",
       "      <th>1</th>\n",
       "      <td>Addison Town and Village</td>\n",
       "      <td>2,577</td>\n",
       "      <td>3</td>\n",
       "      <td>0.000</td>\n",
       "      <td>nan</td>\n",
       "      <td>0</td>\n",
       "      <td>0</td>\n",
       "      <td>3</td>\n",
       "      <td>24</td>\n",
       "      <td>3</td>\n",
       "      <td>20</td>\n",
       "      <td>1</td>\n",
       "      <td>0.000</td>\n",
       "    </tr>\n",
       "    <tr>\n",
       "      <th>2</th>\n",
       "      <td>Akron Village</td>\n",
       "      <td>2,846</td>\n",
       "      <td>3</td>\n",
       "      <td>0.000</td>\n",
       "      <td>nan</td>\n",
       "      <td>0</td>\n",
       "      <td>0</td>\n",
       "      <td>3</td>\n",
       "      <td>16</td>\n",
       "      <td>1</td>\n",
       "      <td>15</td>\n",
       "      <td>0</td>\n",
       "      <td>0.000</td>\n",
       "    </tr>\n",
       "    <tr>\n",
       "      <th>3</th>\n",
       "      <td>Albany</td>\n",
       "      <td>97,956</td>\n",
       "      <td>791</td>\n",
       "      <td>8.000</td>\n",
       "      <td>nan</td>\n",
       "      <td>30</td>\n",
       "      <td>227</td>\n",
       "      <td>526</td>\n",
       "      <td>4,090</td>\n",
       "      <td>705</td>\n",
       "      <td>3,243</td>\n",
       "      <td>142</td>\n",
       "      <td>nan</td>\n",
       "    </tr>\n",
       "    <tr>\n",
       "      <th>4</th>\n",
       "      <td>Albion Village</td>\n",
       "      <td>6,388</td>\n",
       "      <td>23</td>\n",
       "      <td>0.000</td>\n",
       "      <td>nan</td>\n",
       "      <td>3</td>\n",
       "      <td>4</td>\n",
       "      <td>16</td>\n",
       "      <td>223</td>\n",
       "      <td>53</td>\n",
       "      <td>165</td>\n",
       "      <td>5</td>\n",
       "      <td>nan</td>\n",
       "    </tr>\n",
       "  </tbody>\n",
       "</table>\n",
       "</div>"
      ],
      "text/plain": [
       "                       City Population Violent\\ncrime  Murder  \\\n",
       "0             Adams Village      1,861              0   0.000   \n",
       "1  Addison Town and Village      2,577              3   0.000   \n",
       "2             Akron Village      2,846              3   0.000   \n",
       "3                    Albany     97,956            791   8.000   \n",
       "4            Albion Village      6,388             23   0.000   \n",
       "\n",
       "   Rape\\n(revised\\ndefinition)1 Rape\\n(legacy\\ndefinition)2 Robbery  \\\n",
       "0                           nan                           0       0   \n",
       "1                           nan                           0       0   \n",
       "2                           nan                           0       0   \n",
       "3                           nan                          30     227   \n",
       "4                           nan                           3       4   \n",
       "\n",
       "  Aggravated\\nassault Property crime Burglary Larceny-\\ntheft  \\\n",
       "0                   0             12        2              10   \n",
       "1                   3             24        3              20   \n",
       "2                   3             16        1              15   \n",
       "3                 526          4,090      705           3,243   \n",
       "4                  16            223       53             165   \n",
       "\n",
       "  Motor\\nvehicle\\ntheft  Arson3  \n",
       "0                     0   0.000  \n",
       "1                     1   0.000  \n",
       "2                     0   0.000  \n",
       "3                   142     nan  \n",
       "4                     5     nan  "
      ]
     },
     "execution_count": 38,
     "metadata": {},
     "output_type": "execute_result"
    }
   ],
   "source": [
    "df.head()"
   ]
  },
  {
   "cell_type": "code",
   "execution_count": 39,
   "metadata": {},
   "outputs": [
    {
     "name": "stdout",
     "output_type": "stream",
     "text": [
      "<class 'pandas.core.frame.DataFrame'>\n",
      "RangeIndex: 351 entries, 0 to 350\n",
      "Data columns (total 13 columns):\n",
      "City                          351 non-null object\n",
      "Population                    348 non-null object\n",
      "Violent\n",
      "crime                 348 non-null object\n",
      "Murder                        348 non-null float64\n",
      "Rape\n",
      "(revised\n",
      "definition)1    0 non-null float64\n",
      "Rape\n",
      "(legacy\n",
      "definition)2     348 non-null object\n",
      "Robbery                       348 non-null object\n",
      "Aggravated\n",
      "assault            348 non-null object\n",
      "Property crime                348 non-null object\n",
      "Burglary                      348 non-null object\n",
      "Larceny-\n",
      "theft                348 non-null object\n",
      "Motor\n",
      "vehicle\n",
      "theft           348 non-null object\n",
      "Arson3                        187 non-null float64\n",
      "dtypes: float64(3), object(10)\n",
      "memory usage: 35.7+ KB\n"
     ]
    }
   ],
   "source": [
    "df.info()"
   ]
  },
  {
   "cell_type": "code",
   "execution_count": 40,
   "metadata": {},
   "outputs": [
    {
     "data": {
      "text/plain": [
       "City                             object\n",
       "Population                       object\n",
       "Violent\\ncrime                   object\n",
       "Murder                          float64\n",
       "Rape\\n(revised\\ndefinition)1    float64\n",
       "Rape\\n(legacy\\ndefinition)2      object\n",
       "Robbery                          object\n",
       "Aggravated\\nassault              object\n",
       "Property crime                   object\n",
       "Burglary                         object\n",
       "Larceny-\\ntheft                  object\n",
       "Motor\\nvehicle\\ntheft            object\n",
       "Arson3                          float64\n",
       "dtype: object"
      ]
     },
     "execution_count": 40,
     "metadata": {},
     "output_type": "execute_result"
    }
   ],
   "source": [
    "df.dtypes"
   ]
  },
  {
   "cell_type": "markdown",
   "metadata": {},
   "source": [
    "Converting Population, Murder, Robbery and Property crime to the rewquired datatypes"
   ]
  },
  {
   "cell_type": "code",
   "execution_count": 41,
   "metadata": {},
   "outputs": [],
   "source": [
    "df['Population']= df['Population'].apply(lambda x: str(x).replace(',', ''))\n",
    "df['Population']= df['Population'].apply(lambda x: float(x))\n"
   ]
  },
  {
   "cell_type": "code",
   "execution_count": 42,
   "metadata": {},
   "outputs": [],
   "source": [
    "df['Murder']= df['Murder'].apply(lambda x: str(x).replace(',', ''))\n",
    "df['Murder']= df['Murder'].apply(lambda x: float(x))"
   ]
  },
  {
   "cell_type": "code",
   "execution_count": 43,
   "metadata": {},
   "outputs": [],
   "source": [
    "df['Robbery']= df['Robbery'].apply(lambda x: str(x).replace(',', ''))\n",
    "df['Robbery'] = df['Robbery'].apply(lambda x: float(x))"
   ]
  },
  {
   "cell_type": "code",
   "execution_count": 44,
   "metadata": {},
   "outputs": [],
   "source": [
    "df['Property crime']= df['Property crime'].apply(lambda x: str(x).replace(',', ''))\n",
    "df['Property crime'] = df['Property crime'].apply(lambda x : float(x))"
   ]
  },
  {
   "cell_type": "code",
   "execution_count": 45,
   "metadata": {},
   "outputs": [
    {
     "data": {
      "text/plain": [
       "City                             object\n",
       "Population                      float64\n",
       "Violent\\ncrime                   object\n",
       "Murder                          float64\n",
       "Rape\\n(revised\\ndefinition)1    float64\n",
       "Rape\\n(legacy\\ndefinition)2      object\n",
       "Robbery                         float64\n",
       "Aggravated\\nassault              object\n",
       "Property crime                  float64\n",
       "Burglary                         object\n",
       "Larceny-\\ntheft                  object\n",
       "Motor\\nvehicle\\ntheft            object\n",
       "Arson3                          float64\n",
       "dtype: object"
      ]
     },
     "execution_count": 45,
     "metadata": {},
     "output_type": "execute_result"
    }
   ],
   "source": [
    "df.dtypes"
   ]
  },
  {
   "cell_type": "code",
   "execution_count": 46,
   "metadata": {},
   "outputs": [
    {
     "data": {
      "text/html": [
       "<div>\n",
       "<style scoped>\n",
       "    .dataframe tbody tr th:only-of-type {\n",
       "        vertical-align: middle;\n",
       "    }\n",
       "\n",
       "    .dataframe tbody tr th {\n",
       "        vertical-align: top;\n",
       "    }\n",
       "\n",
       "    .dataframe thead th {\n",
       "        text-align: right;\n",
       "    }\n",
       "</style>\n",
       "<table border=\"1\" class=\"dataframe\">\n",
       "  <thead>\n",
       "    <tr style=\"text-align: right;\">\n",
       "      <th></th>\n",
       "      <th>City</th>\n",
       "      <th>Population</th>\n",
       "      <th>Violent\n",
       "crime</th>\n",
       "      <th>Murder</th>\n",
       "      <th>Rape\n",
       "(revised\n",
       "definition)1</th>\n",
       "      <th>Rape\n",
       "(legacy\n",
       "definition)2</th>\n",
       "      <th>Robbery</th>\n",
       "      <th>Aggravated\n",
       "assault</th>\n",
       "      <th>Property crime</th>\n",
       "      <th>Burglary</th>\n",
       "      <th>Larceny-\n",
       "theft</th>\n",
       "      <th>Motor\n",
       "vehicle\n",
       "theft</th>\n",
       "      <th>Arson3</th>\n",
       "    </tr>\n",
       "  </thead>\n",
       "  <tbody>\n",
       "    <tr>\n",
       "      <th>0</th>\n",
       "      <td>Adams Village</td>\n",
       "      <td>1861.000</td>\n",
       "      <td>0</td>\n",
       "      <td>0.000</td>\n",
       "      <td>nan</td>\n",
       "      <td>0</td>\n",
       "      <td>0.000</td>\n",
       "      <td>0</td>\n",
       "      <td>12.000</td>\n",
       "      <td>2</td>\n",
       "      <td>10</td>\n",
       "      <td>0</td>\n",
       "      <td>0.000</td>\n",
       "    </tr>\n",
       "    <tr>\n",
       "      <th>1</th>\n",
       "      <td>Addison Town and Village</td>\n",
       "      <td>2577.000</td>\n",
       "      <td>3</td>\n",
       "      <td>0.000</td>\n",
       "      <td>nan</td>\n",
       "      <td>0</td>\n",
       "      <td>0.000</td>\n",
       "      <td>3</td>\n",
       "      <td>24.000</td>\n",
       "      <td>3</td>\n",
       "      <td>20</td>\n",
       "      <td>1</td>\n",
       "      <td>0.000</td>\n",
       "    </tr>\n",
       "    <tr>\n",
       "      <th>2</th>\n",
       "      <td>Akron Village</td>\n",
       "      <td>2846.000</td>\n",
       "      <td>3</td>\n",
       "      <td>0.000</td>\n",
       "      <td>nan</td>\n",
       "      <td>0</td>\n",
       "      <td>0.000</td>\n",
       "      <td>3</td>\n",
       "      <td>16.000</td>\n",
       "      <td>1</td>\n",
       "      <td>15</td>\n",
       "      <td>0</td>\n",
       "      <td>0.000</td>\n",
       "    </tr>\n",
       "    <tr>\n",
       "      <th>3</th>\n",
       "      <td>Albany</td>\n",
       "      <td>97956.000</td>\n",
       "      <td>791</td>\n",
       "      <td>8.000</td>\n",
       "      <td>nan</td>\n",
       "      <td>30</td>\n",
       "      <td>227.000</td>\n",
       "      <td>526</td>\n",
       "      <td>4090.000</td>\n",
       "      <td>705</td>\n",
       "      <td>3,243</td>\n",
       "      <td>142</td>\n",
       "      <td>nan</td>\n",
       "    </tr>\n",
       "    <tr>\n",
       "      <th>4</th>\n",
       "      <td>Albion Village</td>\n",
       "      <td>6388.000</td>\n",
       "      <td>23</td>\n",
       "      <td>0.000</td>\n",
       "      <td>nan</td>\n",
       "      <td>3</td>\n",
       "      <td>4.000</td>\n",
       "      <td>16</td>\n",
       "      <td>223.000</td>\n",
       "      <td>53</td>\n",
       "      <td>165</td>\n",
       "      <td>5</td>\n",
       "      <td>nan</td>\n",
       "    </tr>\n",
       "  </tbody>\n",
       "</table>\n",
       "</div>"
      ],
      "text/plain": [
       "                       City  Population Violent\\ncrime  Murder  \\\n",
       "0             Adams Village    1861.000              0   0.000   \n",
       "1  Addison Town and Village    2577.000              3   0.000   \n",
       "2             Akron Village    2846.000              3   0.000   \n",
       "3                    Albany   97956.000            791   8.000   \n",
       "4            Albion Village    6388.000             23   0.000   \n",
       "\n",
       "   Rape\\n(revised\\ndefinition)1 Rape\\n(legacy\\ndefinition)2  Robbery  \\\n",
       "0                           nan                           0    0.000   \n",
       "1                           nan                           0    0.000   \n",
       "2                           nan                           0    0.000   \n",
       "3                           nan                          30  227.000   \n",
       "4                           nan                           3    4.000   \n",
       "\n",
       "  Aggravated\\nassault  Property crime Burglary Larceny-\\ntheft  \\\n",
       "0                   0          12.000        2              10   \n",
       "1                   3          24.000        3              20   \n",
       "2                   3          16.000        1              15   \n",
       "3                 526        4090.000      705           3,243   \n",
       "4                  16         223.000       53             165   \n",
       "\n",
       "  Motor\\nvehicle\\ntheft  Arson3  \n",
       "0                     0   0.000  \n",
       "1                     1   0.000  \n",
       "2                     0   0.000  \n",
       "3                   142     nan  \n",
       "4                     5     nan  "
      ]
     },
     "execution_count": 46,
     "metadata": {},
     "output_type": "execute_result"
    }
   ],
   "source": [
    "df.head()"
   ]
  },
  {
   "cell_type": "code",
   "execution_count": 47,
   "metadata": {},
   "outputs": [
    {
     "data": {
      "image/png": "[encoded data removed]",
      "text/plain": [
       "<Figure size 432x288 with 1 Axes>"
      ]
     },
     "metadata": {
      "needs_background": "light"
     },
     "output_type": "display_data"
    },
    {
     "name": "stdout",
     "output_type": "stream",
     "text": [
      "Median  7233.5\n",
      "Std  450037.3675209857\n",
      "Outliers above  907308.2350419714\n"
     ]
    },
    {
     "data": {
      "image/png": "[encoded data removed]",
      "text/plain": [
       "<Figure size 432x288 with 1 Axes>"
      ]
     },
     "metadata": {
      "needs_background": "light"
     },
     "output_type": "display_data"
    },
    {
     "name": "stdout",
     "output_type": "stream",
     "text": [
      "Median 0.0\n",
      "Std 18.303672792887784\n",
      "Outliers above 36.60734558577557\n"
     ]
    },
    {
     "data": {
      "image/png": "[encoded data removed]",
      "text/plain": [
       "<Figure size 432x288 with 1 Axes>"
      ]
     },
     "metadata": {
      "needs_background": "light"
     },
     "output_type": "display_data"
    },
    {
     "name": "stdout",
     "output_type": "stream",
     "text": [
      "Median 1.0\n",
      "Std 1031.032873295524\n",
      "Outliers above 2063.065746591048\n"
     ]
    },
    {
     "data": {
      "image/png": "[encoded data removed]",
      "text/plain": [
       "<Figure size 432x288 with 1 Axes>"
      ]
     },
     "metadata": {
      "needs_background": "light"
     },
     "output_type": "display_data"
    },
    {
     "name": "stdout",
     "output_type": "stream",
     "text": [
      "Median 112.5\n",
      "Std 7659.724745633146\n",
      "Outliers above 15431.949491266292\n"
     ]
    }
   ],
   "source": [
    "#Distributions of variables\n",
    "# Population\n",
    "df['Population'].hist(bins=100)\n",
    "plt.title('Population')\n",
    "plt.show()\n",
    "\n",
    "#Median, standard deviation and the limit for outliers\n",
    "median = df.Population.median()\n",
    "std = df.Population.std()\n",
    "pop_outlier = median + 2* std\n",
    "\n",
    "print('Median ', median)\n",
    "print('Std ', std)\n",
    "print('Outliers above ', pop_outlier)\n",
    "\n",
    "#Murder\n",
    "df['Murder'].hist(bins=100)\n",
    "plt.title('Murder')\n",
    "plt.show()\n",
    "\n",
    "#Median, standard deviation and the limit of outliers\n",
    "median = df.Murder.median()\n",
    "std = df.Murder.std()\n",
    "mur_outlier = median + 2* std\n",
    "\n",
    "print('Median', median)\n",
    "print('Std', std)\n",
    "print('Outliers above', mur_outlier)\n",
    "\n",
    "\n",
    "\n",
    "#For Robbery\n",
    "df['Robbery'].hist(bins=100)\n",
    "plt.title('Robbery')\n",
    "plt.show()\n",
    "\n",
    "#Median, standard deviation and outliers above\n",
    "median = df.Robbery.median()\n",
    "std = df.Robbery.std()\n",
    "rob_outlier = median + 2* std\n",
    "\n",
    "print('Median', median)\n",
    "print('Std', std)\n",
    "print('Outliers above', rob_outlier)\n",
    "\n",
    "\n",
    "#Property crime\n",
    "df['Property crime'].hist(bins = 100)\n",
    "plt.title('Property crime')\n",
    "plt.show()\n",
    "\n",
    "#Median, standard deviation and outliers above\n",
    "\n",
    "median= df['Property crime'].median()\n",
    "std = df['Property crime'].std()\n",
    "property_outlier = median + 2*std\n",
    "\n",
    "print('Median', median)\n",
    "print('Std', std)\n",
    "print('Outliers above', property_outlier)"
   ]
  },
  {
   "cell_type": "code",
   "execution_count": 48,
   "metadata": {},
   "outputs": [],
   "source": [
    "#Removing the outliers:\n",
    "df['Population']= df.Population.map(lambda x: x if x < pop_outlier else None)\n",
    "df['Murder']= df.Murder.map(lambda x: x if x < mur_outlier else None)\n",
    "df['Robbery'] = df.Robbery.map(lambda x: x if x < rob_outlier else None)\n",
    "df['Property crime']= df['Property crime'].map(lambda x: x if x < property_outlier else None)"
   ]
  },
  {
   "cell_type": "code",
   "execution_count": 49,
   "metadata": {},
   "outputs": [
    {
     "name": "stdout",
     "output_type": "stream",
     "text": [
      "35    258789.000\n",
      "272   210562.000\n",
      "346   199134.000\n",
      "310   143834.000\n",
      "7     118296.000\n",
      "Name: Population, dtype: float64\n",
      "310   21.000\n",
      "140   10.000\n",
      "3      8.000\n",
      "285    8.000\n",
      "321    7.000\n",
      "Name: Murder, dtype: float64\n",
      "35    1322.000\n",
      "272    918.000\n",
      "310    400.000\n",
      "346    390.000\n",
      "206    228.000\n",
      "Name: Robbery, dtype: float64\n",
      "35    12491.000\n",
      "272   10051.000\n",
      "310    6473.000\n",
      "3      4090.000\n",
      "218    2807.000\n",
      "Name: Property crime, dtype: float64\n"
     ]
    }
   ],
   "source": [
    "#Droping the missing values and observing the extreme values\n",
    "print(df.Population.dropna().sort_values(ascending = False).head())\n",
    "print(df.Murder.dropna().sort_values(ascending = False).head())\n",
    "print(df.Robbery.dropna().sort_values(ascending = False).head())\n",
    "print(df['Property crime'].dropna().sort_values(ascending = False).head())"
   ]
  },
  {
   "cell_type": "code",
   "execution_count": 50,
   "metadata": {},
   "outputs": [
    {
     "data": {
      "image/png": "[encoded data removed]",
      "text/plain": [
       "<Figure size 432x288 with 1 Axes>"
      ]
     },
     "metadata": {
      "needs_background": "light"
     },
     "output_type": "display_data"
    }
   ],
   "source": [
    "#Population squared feature\n",
    "df['Popsquared']= df['Population']** 2\n",
    "df['Popsquared'].hist(bins = 100)\n",
    "plt.title ('Population squared in Newyork')\n",
    "plt.show()"
   ]
  },
  {
   "cell_type": "code",
   "execution_count": 51,
   "metadata": {},
   "outputs": [],
   "source": [
    "#Converting Murder and Robbery to categorical responsed\n",
    "df['Murder_category']=df.Murder.apply(lambda x: 1 if x > 0 else 0) \n",
    "df['Robbery_category']= df.Robbery.apply(lambda x: 1 if x > 0 else 0) "
   ]
  },
  {
   "cell_type": "code",
   "execution_count": 52,
   "metadata": {},
   "outputs": [
    {
     "data": {
      "text/html": [
       "<div>\n",
       "<style scoped>\n",
       "    .dataframe tbody tr th:only-of-type {\n",
       "        vertical-align: middle;\n",
       "    }\n",
       "\n",
       "    .dataframe tbody tr th {\n",
       "        vertical-align: top;\n",
       "    }\n",
       "\n",
       "    .dataframe thead th {\n",
       "        text-align: right;\n",
       "    }\n",
       "</style>\n",
       "<table border=\"1\" class=\"dataframe\">\n",
       "  <thead>\n",
       "    <tr style=\"text-align: right;\">\n",
       "      <th></th>\n",
       "      <th>City</th>\n",
       "      <th>Population</th>\n",
       "      <th>Violent\n",
       "crime</th>\n",
       "      <th>Murder</th>\n",
       "      <th>Rape\n",
       "(revised\n",
       "definition)1</th>\n",
       "      <th>Rape\n",
       "(legacy\n",
       "definition)2</th>\n",
       "      <th>Robbery</th>\n",
       "      <th>Aggravated\n",
       "assault</th>\n",
       "      <th>Property crime</th>\n",
       "      <th>Burglary</th>\n",
       "      <th>Larceny-\n",
       "theft</th>\n",
       "      <th>Motor\n",
       "vehicle\n",
       "theft</th>\n",
       "      <th>Arson3</th>\n",
       "      <th>Popsquared</th>\n",
       "      <th>Murder_category</th>\n",
       "      <th>Robbery_category</th>\n",
       "    </tr>\n",
       "  </thead>\n",
       "  <tbody>\n",
       "    <tr>\n",
       "      <th>0</th>\n",
       "      <td>Adams Village</td>\n",
       "      <td>1861.000</td>\n",
       "      <td>0</td>\n",
       "      <td>0.000</td>\n",
       "      <td>nan</td>\n",
       "      <td>0</td>\n",
       "      <td>0.000</td>\n",
       "      <td>0</td>\n",
       "      <td>12.000</td>\n",
       "      <td>2</td>\n",
       "      <td>10</td>\n",
       "      <td>0</td>\n",
       "      <td>0.000</td>\n",
       "      <td>3463321.000</td>\n",
       "      <td>0</td>\n",
       "      <td>0</td>\n",
       "    </tr>\n",
       "    <tr>\n",
       "      <th>1</th>\n",
       "      <td>Addison Town and Village</td>\n",
       "      <td>2577.000</td>\n",
       "      <td>3</td>\n",
       "      <td>0.000</td>\n",
       "      <td>nan</td>\n",
       "      <td>0</td>\n",
       "      <td>0.000</td>\n",
       "      <td>3</td>\n",
       "      <td>24.000</td>\n",
       "      <td>3</td>\n",
       "      <td>20</td>\n",
       "      <td>1</td>\n",
       "      <td>0.000</td>\n",
       "      <td>6640929.000</td>\n",
       "      <td>0</td>\n",
       "      <td>0</td>\n",
       "    </tr>\n",
       "    <tr>\n",
       "      <th>2</th>\n",
       "      <td>Akron Village</td>\n",
       "      <td>2846.000</td>\n",
       "      <td>3</td>\n",
       "      <td>0.000</td>\n",
       "      <td>nan</td>\n",
       "      <td>0</td>\n",
       "      <td>0.000</td>\n",
       "      <td>3</td>\n",
       "      <td>16.000</td>\n",
       "      <td>1</td>\n",
       "      <td>15</td>\n",
       "      <td>0</td>\n",
       "      <td>0.000</td>\n",
       "      <td>8099716.000</td>\n",
       "      <td>0</td>\n",
       "      <td>0</td>\n",
       "    </tr>\n",
       "    <tr>\n",
       "      <th>3</th>\n",
       "      <td>Albany</td>\n",
       "      <td>97956.000</td>\n",
       "      <td>791</td>\n",
       "      <td>8.000</td>\n",
       "      <td>nan</td>\n",
       "      <td>30</td>\n",
       "      <td>227.000</td>\n",
       "      <td>526</td>\n",
       "      <td>4090.000</td>\n",
       "      <td>705</td>\n",
       "      <td>3,243</td>\n",
       "      <td>142</td>\n",
       "      <td>nan</td>\n",
       "      <td>9595377936.000</td>\n",
       "      <td>1</td>\n",
       "      <td>1</td>\n",
       "    </tr>\n",
       "    <tr>\n",
       "      <th>4</th>\n",
       "      <td>Albion Village</td>\n",
       "      <td>6388.000</td>\n",
       "      <td>23</td>\n",
       "      <td>0.000</td>\n",
       "      <td>nan</td>\n",
       "      <td>3</td>\n",
       "      <td>4.000</td>\n",
       "      <td>16</td>\n",
       "      <td>223.000</td>\n",
       "      <td>53</td>\n",
       "      <td>165</td>\n",
       "      <td>5</td>\n",
       "      <td>nan</td>\n",
       "      <td>40806544.000</td>\n",
       "      <td>0</td>\n",
       "      <td>1</td>\n",
       "    </tr>\n",
       "  </tbody>\n",
       "</table>\n",
       "</div>"
      ],
      "text/plain": [
       "                       City  Population Violent\\ncrime  Murder  \\\n",
       "0             Adams Village    1861.000              0   0.000   \n",
       "1  Addison Town and Village    2577.000              3   0.000   \n",
       "2             Akron Village    2846.000              3   0.000   \n",
       "3                    Albany   97956.000            791   8.000   \n",
       "4            Albion Village    6388.000             23   0.000   \n",
       "\n",
       "   Rape\\n(revised\\ndefinition)1 Rape\\n(legacy\\ndefinition)2  Robbery  \\\n",
       "0                           nan                           0    0.000   \n",
       "1                           nan                           0    0.000   \n",
       "2                           nan                           0    0.000   \n",
       "3                           nan                          30  227.000   \n",
       "4                           nan                           3    4.000   \n",
       "\n",
       "  Aggravated\\nassault  Property crime Burglary Larceny-\\ntheft  \\\n",
       "0                   0          12.000        2              10   \n",
       "1                   3          24.000        3              20   \n",
       "2                   3          16.000        1              15   \n",
       "3                 526        4090.000      705           3,243   \n",
       "4                  16         223.000       53             165   \n",
       "\n",
       "  Motor\\nvehicle\\ntheft  Arson3     Popsquared  Murder_category  \\\n",
       "0                     0   0.000    3463321.000                0   \n",
       "1                     1   0.000    6640929.000                0   \n",
       "2                     0   0.000    8099716.000                0   \n",
       "3                   142     nan 9595377936.000                1   \n",
       "4                     5     nan   40806544.000                0   \n",
       "\n",
       "   Robbery_category  \n",
       "0                 0  \n",
       "1                 0  \n",
       "2                 0  \n",
       "3                 1  \n",
       "4                 1  "
      ]
     },
     "execution_count": 52,
     "metadata": {},
     "output_type": "execute_result"
    }
   ],
   "source": [
    "df.head()"
   ]
  },
  {
   "cell_type": "code",
   "execution_count": 53,
   "metadata": {},
   "outputs": [],
   "source": [
    "features = df[['Population', 'Popsquared', 'Murder_category', 'Robbery_category', 'Property crime']].dropna()"
   ]
  },
  {
   "cell_type": "code",
   "execution_count": 54,
   "metadata": {},
   "outputs": [
    {
     "data": {
      "text/html": [
       "<div>\n",
       "<style scoped>\n",
       "    .dataframe tbody tr th:only-of-type {\n",
       "        vertical-align: middle;\n",
       "    }\n",
       "\n",
       "    .dataframe tbody tr th {\n",
       "        vertical-align: top;\n",
       "    }\n",
       "\n",
       "    .dataframe thead th {\n",
       "        text-align: right;\n",
       "    }\n",
       "</style>\n",
       "<table border=\"1\" class=\"dataframe\">\n",
       "  <thead>\n",
       "    <tr style=\"text-align: right;\">\n",
       "      <th></th>\n",
       "      <th>Population</th>\n",
       "      <th>Popsquared</th>\n",
       "      <th>Murder_category</th>\n",
       "      <th>Robbery_category</th>\n",
       "      <th>Property crime</th>\n",
       "    </tr>\n",
       "  </thead>\n",
       "  <tbody>\n",
       "    <tr>\n",
       "      <th>0</th>\n",
       "      <td>1861.000</td>\n",
       "      <td>3463321.000</td>\n",
       "      <td>0</td>\n",
       "      <td>0</td>\n",
       "      <td>12.000</td>\n",
       "    </tr>\n",
       "    <tr>\n",
       "      <th>1</th>\n",
       "      <td>2577.000</td>\n",
       "      <td>6640929.000</td>\n",
       "      <td>0</td>\n",
       "      <td>0</td>\n",
       "      <td>24.000</td>\n",
       "    </tr>\n",
       "    <tr>\n",
       "      <th>2</th>\n",
       "      <td>2846.000</td>\n",
       "      <td>8099716.000</td>\n",
       "      <td>0</td>\n",
       "      <td>0</td>\n",
       "      <td>16.000</td>\n",
       "    </tr>\n",
       "    <tr>\n",
       "      <th>3</th>\n",
       "      <td>97956.000</td>\n",
       "      <td>9595377936.000</td>\n",
       "      <td>1</td>\n",
       "      <td>1</td>\n",
       "      <td>4090.000</td>\n",
       "    </tr>\n",
       "    <tr>\n",
       "      <th>4</th>\n",
       "      <td>6388.000</td>\n",
       "      <td>40806544.000</td>\n",
       "      <td>0</td>\n",
       "      <td>1</td>\n",
       "      <td>223.000</td>\n",
       "    </tr>\n",
       "    <tr>\n",
       "      <th>5</th>\n",
       "      <td>4089.000</td>\n",
       "      <td>16719921.000</td>\n",
       "      <td>0</td>\n",
       "      <td>1</td>\n",
       "      <td>46.000</td>\n",
       "    </tr>\n",
       "    <tr>\n",
       "      <th>6</th>\n",
       "      <td>1781.000</td>\n",
       "      <td>3171961.000</td>\n",
       "      <td>0</td>\n",
       "      <td>0</td>\n",
       "      <td>10.000</td>\n",
       "    </tr>\n",
       "    <tr>\n",
       "      <th>7</th>\n",
       "      <td>118296.000</td>\n",
       "      <td>13993943616.000</td>\n",
       "      <td>1</td>\n",
       "      <td>1</td>\n",
       "      <td>2118.000</td>\n",
       "    </tr>\n",
       "    <tr>\n",
       "      <th>8</th>\n",
       "      <td>9519.000</td>\n",
       "      <td>90611361.000</td>\n",
       "      <td>0</td>\n",
       "      <td>1</td>\n",
       "      <td>210.000</td>\n",
       "    </tr>\n",
       "    <tr>\n",
       "      <th>9</th>\n",
       "      <td>18182.000</td>\n",
       "      <td>330585124.000</td>\n",
       "      <td>0</td>\n",
       "      <td>1</td>\n",
       "      <td>405.000</td>\n",
       "    </tr>\n",
       "  </tbody>\n",
       "</table>\n",
       "</div>"
      ],
      "text/plain": [
       "   Population      Popsquared  Murder_category  Robbery_category  \\\n",
       "0    1861.000     3463321.000                0                 0   \n",
       "1    2577.000     6640929.000                0                 0   \n",
       "2    2846.000     8099716.000                0                 0   \n",
       "3   97956.000  9595377936.000                1                 1   \n",
       "4    6388.000    40806544.000                0                 1   \n",
       "5    4089.000    16719921.000                0                 1   \n",
       "6    1781.000     3171961.000                0                 0   \n",
       "7  118296.000 13993943616.000                1                 1   \n",
       "8    9519.000    90611361.000                0                 1   \n",
       "9   18182.000   330585124.000                0                 1   \n",
       "\n",
       "   Property crime  \n",
       "0          12.000  \n",
       "1          24.000  \n",
       "2          16.000  \n",
       "3        4090.000  \n",
       "4         223.000  \n",
       "5          46.000  \n",
       "6          10.000  \n",
       "7        2118.000  \n",
       "8         210.000  \n",
       "9         405.000  "
      ]
     },
     "execution_count": 54,
     "metadata": {},
     "output_type": "execute_result"
    }
   ],
   "source": [
    "features.head(10)"
   ]
  },
  {
   "cell_type": "code",
   "execution_count": 55,
   "metadata": {},
   "outputs": [
    {
     "name": "stdout",
     "output_type": "stream",
     "text": [
      "<class 'pandas.core.frame.DataFrame'>\n",
      "Int64Index: 347 entries, 0 to 347\n",
      "Data columns (total 5 columns):\n",
      "Population          347 non-null float64\n",
      "Popsquared          347 non-null float64\n",
      "Murder_category     347 non-null int64\n",
      "Robbery_category    347 non-null int64\n",
      "Property crime      347 non-null float64\n",
      "dtypes: float64(3), int64(2)\n",
      "memory usage: 16.3 KB\n"
     ]
    }
   ],
   "source": [
    "features.info()"
   ]
  },
  {
   "cell_type": "code",
   "execution_count": 56,
   "metadata": {},
   "outputs": [
    {
     "name": "stdout",
     "output_type": "stream",
     "text": [
      "\n",
      "Coefficients: \n",
      " [[1.40107315e-02 1.13425350e-07 8.42401093e+01 1.00084978e+02]]\n",
      "\n",
      "Intercept: \n",
      " [-20.79258675]\n",
      "\n",
      "R-squared:\n",
      "0.8421049462865594\n"
     ]
    }
   ],
   "source": [
    "# Instantiate and fit our model.\n",
    "regr = linear_model.LinearRegression()\n",
    "Y = features['Property crime'].values.reshape(-1, 1)\n",
    "X = features[['Population', 'Popsquared', 'Murder_category', 'Robbery_category']]\n",
    "regr.fit(X, Y)\n",
    "\n",
    "# Inspect the results.\n",
    "print('\\nCoefficients: \\n', regr.coef_)\n",
    "print('\\nIntercept: \\n', regr.intercept_)\n",
    "print('\\nR-squared:')\n",
    "print(regr.score(X, Y))"
   ]
  },
  {
   "cell_type": "markdown",
   "metadata": {},
   "source": [
    "The outcome property crime is predicted by the features Population, population squared, murder_category and robbery_category explains 84.21% of the variance in property crime. We don't know from these results how much of that variance is explained by each of the four features. \n",
    "\n",
    "Looking at the coefficients, there appears to be a base rate of property crime  (intercept: -20) and property crime have the highest per-unit increase when it is murder category."
   ]
  },
  {
   "cell_type": "code",
   "execution_count": 57,
   "metadata": {},
   "outputs": [
    {
     "data": {
      "image/png": "[encoded data removed]",
      "text/plain": [
       "<Figure size 432x288 with 1 Axes>"
      ]
     },
     "metadata": {
      "needs_background": "light"
     },
     "output_type": "display_data"
    }
   ],
   "source": [
    "# Extracting the predicted values\n",
    "predicted = regr.predict(X).ravel()\n",
    "actual = features['Property crime']\n",
    "\n",
    "#calculate the error(residual)\n",
    "residual = actual - predicted\n",
    "\n",
    "\n",
    "plt.hist(residual)\n",
    "plt.xlabel('Residual')\n",
    "plt.ylabel('Count')\n",
    "plt.title('Residual Count')\n",
    "plt.show()\n",
    "\n"
   ]
  },
  {
   "cell_type": "code",
   "execution_count": 58,
   "metadata": {},
   "outputs": [
    {
     "data": {
      "image/png": "[encoded data removed]",
      "text/plain": [
       "<Figure size 432x288 with 1 Axes>"
      ]
     },
     "metadata": {
      "needs_background": "light"
     },
     "output_type": "display_data"
    }
   ],
   "source": [
    "# Homoscedasticity\n",
    "plt.scatter(predicted, residual)\n",
    "plt.xlabel('Predicted')\n",
    "plt.ylabel('Residual')\n",
    "plt.axhline(y=0)\n",
    "plt.title('Residual vs Predicted')\n",
    "plt.show()\n"
   ]
  },
  {
   "cell_type": "code",
   "execution_count": 59,
   "metadata": {},
   "outputs": [
    {
     "data": {
      "text/html": [
       "<div>\n",
       "<style scoped>\n",
       "    .dataframe tbody tr th:only-of-type {\n",
       "        vertical-align: middle;\n",
       "    }\n",
       "\n",
       "    .dataframe tbody tr th {\n",
       "        vertical-align: top;\n",
       "    }\n",
       "\n",
       "    .dataframe thead th {\n",
       "        text-align: right;\n",
       "    }\n",
       "</style>\n",
       "<table border=\"1\" class=\"dataframe\">\n",
       "  <thead>\n",
       "    <tr style=\"text-align: right;\">\n",
       "      <th></th>\n",
       "      <th>Population</th>\n",
       "      <th>Popsquared</th>\n",
       "      <th>Murder_category</th>\n",
       "      <th>Robbery_category</th>\n",
       "    </tr>\n",
       "  </thead>\n",
       "  <tbody>\n",
       "    <tr>\n",
       "      <th>Population</th>\n",
       "      <td>1.000</td>\n",
       "      <td>0.889</td>\n",
       "      <td>0.374</td>\n",
       "      <td>0.344</td>\n",
       "    </tr>\n",
       "    <tr>\n",
       "      <th>Popsquared</th>\n",
       "      <td>0.889</td>\n",
       "      <td>1.000</td>\n",
       "      <td>0.167</td>\n",
       "      <td>0.152</td>\n",
       "    </tr>\n",
       "    <tr>\n",
       "      <th>Murder_category</th>\n",
       "      <td>0.374</td>\n",
       "      <td>0.167</td>\n",
       "      <td>1.000</td>\n",
       "      <td>0.302</td>\n",
       "    </tr>\n",
       "    <tr>\n",
       "      <th>Robbery_category</th>\n",
       "      <td>0.344</td>\n",
       "      <td>0.152</td>\n",
       "      <td>0.302</td>\n",
       "      <td>1.000</td>\n",
       "    </tr>\n",
       "  </tbody>\n",
       "</table>\n",
       "</div>"
      ],
      "text/plain": [
       "                  Population  Popsquared  Murder_category  Robbery_category\n",
       "Population             1.000       0.889            0.374             0.344\n",
       "Popsquared             0.889       1.000            0.167             0.152\n",
       "Murder_category        0.374       0.167            1.000             0.302\n",
       "Robbery_category       0.344       0.152            0.302             1.000"
      ]
     },
     "metadata": {},
     "output_type": "display_data"
    }
   ],
   "source": [
    "#Multicollinearity\n",
    "correlation_matrix = X.corr()\n",
    "display(correlation_matrix)\n"
   ]
  },
  {
   "cell_type": "code",
   "execution_count": 60,
   "metadata": {},
   "outputs": [
    {
     "data": {
      "text/plain": [
       "<matplotlib.axes._subplots.AxesSubplot at 0x1f48ada87b8>"
      ]
     },
     "execution_count": 60,
     "metadata": {},
     "output_type": "execute_result"
    },
    {
     "data": {
      "image/png": "[encoded data removed]",
      "text/plain": [
       "<Figure size 432x288 with 2 Axes>"
      ]
     },
     "metadata": {
      "needs_background": "light"
     },
     "output_type": "display_data"
    }
   ],
   "source": [
    "sns.heatmap(X.corr())"
   ]
  },
  {
   "cell_type": "code",
   "execution_count": 61,
   "metadata": {},
   "outputs": [],
   "source": [
    "# Validating the model"
   ]
  },
  {
   "cell_type": "code",
   "execution_count": 62,
   "metadata": {},
   "outputs": [],
   "source": [
    "import statsmodels.api as sm"
   ]
  },
  {
   "cell_type": "code",
   "execution_count": 63,
   "metadata": {},
   "outputs": [],
   "source": [
    "Y = features['Property crime'].values.reshape(-1, 1)\n",
    "X = features[['Population', 'Popsquared', 'Murder_category', 'Robbery_category']]"
   ]
  },
  {
   "cell_type": "code",
   "execution_count": 64,
   "metadata": {},
   "outputs": [],
   "source": [
    "#Fitting the model to our data\n",
    "X = sm.add_constant(X)\n",
    "model = sm.OLS(Y,X)\n",
    "model= model.fit()\n",
    "X = sm.add_constant(X)"
   ]
  },
  {
   "cell_type": "code",
   "execution_count": 65,
   "metadata": {},
   "outputs": [
    {
     "name": "stdout",
     "output_type": "stream",
     "text": [
      "R squared:  0.8421049462865594\n",
      "\n",
      "Parameters\n",
      "\n",
      " const              -20.793\n",
      "Population           0.014\n",
      "Popsquared           0.000\n",
      "Murder_category     84.240\n",
      "Robbery_category   100.085\n",
      "dtype: float64\n",
      "\n",
      "P-values\n",
      "\n",
      " const              0.568\n",
      "Population         0.000\n",
      "Popsquared         0.000\n",
      "Murder_category    0.273\n",
      "Robbery_category   0.054\n",
      "dtype: float64\n",
      "\n",
      "Confidence Intervals\n"
     ]
    },
    {
     "data": {
      "text/html": [
       "<div>\n",
       "<style scoped>\n",
       "    .dataframe tbody tr th:only-of-type {\n",
       "        vertical-align: middle;\n",
       "    }\n",
       "\n",
       "    .dataframe tbody tr th {\n",
       "        vertical-align: top;\n",
       "    }\n",
       "\n",
       "    .dataframe thead th {\n",
       "        text-align: right;\n",
       "    }\n",
       "</style>\n",
       "<table border=\"1\" class=\"dataframe\">\n",
       "  <thead>\n",
       "    <tr style=\"text-align: right;\">\n",
       "      <th></th>\n",
       "      <th>0</th>\n",
       "      <th>1</th>\n",
       "    </tr>\n",
       "  </thead>\n",
       "  <tbody>\n",
       "    <tr>\n",
       "      <th>const</th>\n",
       "      <td>-92.278</td>\n",
       "      <td>50.692</td>\n",
       "    </tr>\n",
       "    <tr>\n",
       "      <th>Population</th>\n",
       "      <td>0.010</td>\n",
       "      <td>0.018</td>\n",
       "    </tr>\n",
       "    <tr>\n",
       "      <th>Popsquared</th>\n",
       "      <td>0.000</td>\n",
       "      <td>0.000</td>\n",
       "    </tr>\n",
       "    <tr>\n",
       "      <th>Murder_category</th>\n",
       "      <td>-66.773</td>\n",
       "      <td>235.253</td>\n",
       "    </tr>\n",
       "    <tr>\n",
       "      <th>Robbery_category</th>\n",
       "      <td>-1.742</td>\n",
       "      <td>201.912</td>\n",
       "    </tr>\n",
       "  </tbody>\n",
       "</table>\n",
       "</div>"
      ],
      "text/plain": [
       "                       0       1\n",
       "const            -92.278  50.692\n",
       "Population         0.010   0.018\n",
       "Popsquared         0.000   0.000\n",
       "Murder_category  -66.773 235.253\n",
       "Robbery_category  -1.742 201.912"
      ]
     },
     "metadata": {},
     "output_type": "display_data"
    }
   ],
   "source": [
    "print (\"R squared: \", model.rsquared)\n",
    "print (\"\\nParameters\\n\\n\", model.params)\n",
    "print (\"\\nP-values\\n\\n\", model.pvalues)\n",
    "print (\"\\nConfidence Intervals\")\n",
    "display(model.conf_int())\n"
   ]
  },
  {
   "cell_type": "code",
   "execution_count": 66,
   "metadata": {},
   "outputs": [
    {
     "name": "stdout",
     "output_type": "stream",
     "text": [
      "\n",
      "Training Coefficients: \n",
      " [[ 0.00000000e+00  1.24541977e-02  1.19483289e-07 -9.20361714e+00\n",
      "   1.18141556e+02]]\n",
      "\n",
      "Training Intercept: \n",
      " [-8.94836923]\n",
      "\n",
      "Training R-squared:\n",
      "0.8403200265599315\n",
      "\n",
      "Testing Coefficients: \n",
      " [[0.00000000e+00 2.10915314e-03 3.14249345e-07 3.98497990e+02\n",
      "  1.18760549e+02]]\n",
      "\n",
      "Testing Intercept: \n",
      " [15.33854643]\n",
      "\n",
      "Testing R-squared:\n",
      "0.2911242562446553\n"
     ]
    }
   ],
   "source": [
    "# Test the model with different holdout groups.(Train = 80% and Test = 20%)\n",
    "from sklearn.model_selection import train_test_split\n",
    "data_train, data_test, target_train, target_test = train_test_split(X, Y, test_size=0.20, random_state=42)\n",
    "\n",
    "# Classify, storing the result in a training variable and Fit our model to the data.\n",
    "train_pred = regr.fit(data_train, target_train,).predict(data_train)\n",
    "\n",
    "# Display our Training results.\n",
    "print('\\nTraining Coefficients: \\n', regr.coef_)\n",
    "print('\\nTraining Intercept: \\n', regr.intercept_)\n",
    "print('\\nTraining R-squared:')\n",
    "print(regr.score(X, Y))\n",
    "\n",
    "\n",
    "# Classify, storing the result in a testing variable and Fit our model to the data.\n",
    "test_pred = regr.fit(data_test, target_test).predict(data_test)\n",
    "\n",
    "# Display our Testing results\n",
    "print('\\nTesting Coefficients: \\n', regr.coef_)\n",
    "print('\\nTesting Intercept: \\n', regr.intercept_)\n",
    "print('\\nTesting R-squared:')\n",
    "print(regr.score(X, Y))"
   ]
  },
  {
   "cell_type": "markdown",
   "metadata": {},
   "source": [
    "We can see after dataset into training and testing groups, the accuracy remains consistent."
   ]
  }
 ],
 "metadata": {
  "kernelspec": {
   "display_name": "Python 3",
   "language": "python",
   "name": "python3"
  },
  "language_info": {
   "codemirror_mode": {
    "name": "ipython",
    "version": 3
   },
   "file_extension": ".py",
   "mimetype": "text/x-python",
   "name": "python",
   "nbconvert_exporter": "python",
   "pygments_lexer": "ipython3",
   "version": "3.7.1"
  }
 },
 "nbformat": 4,
 "nbformat_minor": 2
}
