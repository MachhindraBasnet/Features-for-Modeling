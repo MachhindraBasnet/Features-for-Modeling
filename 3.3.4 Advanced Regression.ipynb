{
 "cells": [
  {
   "cell_type": "code",
   "execution_count": 49,
   "metadata": {},
   "outputs": [],
   "source": [
    "import numpy as np\n",
    "import pandas as pd\n",
    "import math\n",
    "import seaborn as sns\n",
    "import matplotlib.pyplot as plt\n",
    "%matplotlib inline\n",
    "import sklearn\n",
    "from sklearn import linear_model\n",
    "from sklearn import preprocessing\n",
    "sns.set_style('white')\n"
   ]
  },
  {
   "cell_type": "code",
   "execution_count": 50,
   "metadata": {},
   "outputs": [],
   "source": [
    "df = pd.read_csv('Heart_disease.csv')"
   ]
  },
  {
   "cell_type": "code",
   "execution_count": 51,
   "metadata": {},
   "outputs": [
    {
     "data": {
      "text/html": [
       "<div>\n",
       "<style scoped>\n",
       "    .dataframe tbody tr th:only-of-type {\n",
       "        vertical-align: middle;\n",
       "    }\n",
       "\n",
       "    .dataframe tbody tr th {\n",
       "        vertical-align: top;\n",
       "    }\n",
       "\n",
       "    .dataframe thead th {\n",
       "        text-align: right;\n",
       "    }\n",
       "</style>\n",
       "<table border=\"1\" class=\"dataframe\">\n",
       "  <thead>\n",
       "    <tr style=\"text-align: right;\">\n",
       "      <th></th>\n",
       "      <th>age</th>\n",
       "      <th>sex</th>\n",
       "      <th>chestpain_type</th>\n",
       "      <th>resting_bp</th>\n",
       "      <th>chol</th>\n",
       "      <th>fasting_blood_sugar</th>\n",
       "      <th>restecg_result</th>\n",
       "      <th>maxheart_rate</th>\n",
       "      <th>exercice_in_angina</th>\n",
       "      <th>oldpeak</th>\n",
       "      <th>slope</th>\n",
       "      <th>ca</th>\n",
       "      <th>thal</th>\n",
       "      <th>target</th>\n",
       "    </tr>\n",
       "  </thead>\n",
       "  <tbody>\n",
       "    <tr>\n",
       "      <th>0</th>\n",
       "      <td>63</td>\n",
       "      <td>1</td>\n",
       "      <td>3</td>\n",
       "      <td>145</td>\n",
       "      <td>233</td>\n",
       "      <td>1</td>\n",
       "      <td>0</td>\n",
       "      <td>150</td>\n",
       "      <td>0</td>\n",
       "      <td>2.3</td>\n",
       "      <td>0</td>\n",
       "      <td>0</td>\n",
       "      <td>1</td>\n",
       "      <td>1</td>\n",
       "    </tr>\n",
       "    <tr>\n",
       "      <th>1</th>\n",
       "      <td>37</td>\n",
       "      <td>1</td>\n",
       "      <td>2</td>\n",
       "      <td>130</td>\n",
       "      <td>250</td>\n",
       "      <td>0</td>\n",
       "      <td>1</td>\n",
       "      <td>187</td>\n",
       "      <td>0</td>\n",
       "      <td>3.5</td>\n",
       "      <td>0</td>\n",
       "      <td>0</td>\n",
       "      <td>2</td>\n",
       "      <td>1</td>\n",
       "    </tr>\n",
       "    <tr>\n",
       "      <th>2</th>\n",
       "      <td>41</td>\n",
       "      <td>0</td>\n",
       "      <td>1</td>\n",
       "      <td>130</td>\n",
       "      <td>204</td>\n",
       "      <td>0</td>\n",
       "      <td>0</td>\n",
       "      <td>172</td>\n",
       "      <td>0</td>\n",
       "      <td>1.4</td>\n",
       "      <td>2</td>\n",
       "      <td>0</td>\n",
       "      <td>2</td>\n",
       "      <td>1</td>\n",
       "    </tr>\n",
       "    <tr>\n",
       "      <th>3</th>\n",
       "      <td>56</td>\n",
       "      <td>1</td>\n",
       "      <td>1</td>\n",
       "      <td>120</td>\n",
       "      <td>236</td>\n",
       "      <td>0</td>\n",
       "      <td>1</td>\n",
       "      <td>178</td>\n",
       "      <td>0</td>\n",
       "      <td>0.8</td>\n",
       "      <td>2</td>\n",
       "      <td>0</td>\n",
       "      <td>2</td>\n",
       "      <td>1</td>\n",
       "    </tr>\n",
       "    <tr>\n",
       "      <th>4</th>\n",
       "      <td>57</td>\n",
       "      <td>0</td>\n",
       "      <td>0</td>\n",
       "      <td>120</td>\n",
       "      <td>354</td>\n",
       "      <td>0</td>\n",
       "      <td>1</td>\n",
       "      <td>163</td>\n",
       "      <td>1</td>\n",
       "      <td>0.6</td>\n",
       "      <td>2</td>\n",
       "      <td>0</td>\n",
       "      <td>2</td>\n",
       "      <td>1</td>\n",
       "    </tr>\n",
       "  </tbody>\n",
       "</table>\n",
       "</div>"
      ],
      "text/plain": [
       "   age  sex  chestpain_type  resting_bp  chol  fasting_blood_sugar  \\\n",
       "0   63    1               3         145   233                    1   \n",
       "1   37    1               2         130   250                    0   \n",
       "2   41    0               1         130   204                    0   \n",
       "3   56    1               1         120   236                    0   \n",
       "4   57    0               0         120   354                    0   \n",
       "\n",
       "   restecg_result  maxheart_rate  exercice_in_angina  oldpeak  slope  ca  \\\n",
       "0               0            150                   0      2.3      0   0   \n",
       "1               1            187                   0      3.5      0   0   \n",
       "2               0            172                   0      1.4      2   0   \n",
       "3               1            178                   0      0.8      2   0   \n",
       "4               1            163                   1      0.6      2   0   \n",
       "\n",
       "   thal  target  \n",
       "0     1       1  \n",
       "1     2       1  \n",
       "2     2       1  \n",
       "3     2       1  \n",
       "4     2       1  "
      ]
     },
     "execution_count": 51,
     "metadata": {},
     "output_type": "execute_result"
    }
   ],
   "source": [
    "df.head()"
   ]
  },
  {
   "cell_type": "code",
   "execution_count": 52,
   "metadata": {},
   "outputs": [
    {
     "data": {
      "text/plain": [
       "age                      int64\n",
       "sex                      int64\n",
       "chestpain_type           int64\n",
       "resting_bp               int64\n",
       "chol                     int64\n",
       "fasting_blood_sugar      int64\n",
       "restecg_result           int64\n",
       "maxheart_rate            int64\n",
       "exercice_in_angina       int64\n",
       "oldpeak                float64\n",
       "slope                    int64\n",
       "ca                       int64\n",
       "thal                     int64\n",
       "target                   int64\n",
       "dtype: object"
      ]
     },
     "execution_count": 52,
     "metadata": {},
     "output_type": "execute_result"
    }
   ],
   "source": [
    "df.dtypes"
   ]
  },
  {
   "cell_type": "code",
   "execution_count": 53,
   "metadata": {},
   "outputs": [
    {
     "data": {
      "text/html": [
       "<div>\n",
       "<style scoped>\n",
       "    .dataframe tbody tr th:only-of-type {\n",
       "        vertical-align: middle;\n",
       "    }\n",
       "\n",
       "    .dataframe tbody tr th {\n",
       "        vertical-align: top;\n",
       "    }\n",
       "\n",
       "    .dataframe thead th {\n",
       "        text-align: right;\n",
       "    }\n",
       "</style>\n",
       "<table border=\"1\" class=\"dataframe\">\n",
       "  <thead>\n",
       "    <tr style=\"text-align: right;\">\n",
       "      <th></th>\n",
       "      <th>age</th>\n",
       "      <th>sex</th>\n",
       "      <th>chestpain_type</th>\n",
       "      <th>resting_bp</th>\n",
       "      <th>chol</th>\n",
       "      <th>fasting_blood_sugar</th>\n",
       "      <th>restecg_result</th>\n",
       "      <th>maxheart_rate</th>\n",
       "      <th>exercice_in_angina</th>\n",
       "      <th>oldpeak</th>\n",
       "      <th>slope</th>\n",
       "      <th>ca</th>\n",
       "      <th>thal</th>\n",
       "      <th>target</th>\n",
       "    </tr>\n",
       "  </thead>\n",
       "  <tbody>\n",
       "    <tr>\n",
       "      <th>0</th>\n",
       "      <td>63</td>\n",
       "      <td>1</td>\n",
       "      <td>3</td>\n",
       "      <td>145</td>\n",
       "      <td>233</td>\n",
       "      <td>1</td>\n",
       "      <td>0</td>\n",
       "      <td>150</td>\n",
       "      <td>0</td>\n",
       "      <td>2.3</td>\n",
       "      <td>0</td>\n",
       "      <td>0</td>\n",
       "      <td>1</td>\n",
       "      <td>1</td>\n",
       "    </tr>\n",
       "    <tr>\n",
       "      <th>1</th>\n",
       "      <td>37</td>\n",
       "      <td>1</td>\n",
       "      <td>2</td>\n",
       "      <td>130</td>\n",
       "      <td>250</td>\n",
       "      <td>0</td>\n",
       "      <td>1</td>\n",
       "      <td>187</td>\n",
       "      <td>0</td>\n",
       "      <td>3.5</td>\n",
       "      <td>0</td>\n",
       "      <td>0</td>\n",
       "      <td>2</td>\n",
       "      <td>1</td>\n",
       "    </tr>\n",
       "    <tr>\n",
       "      <th>2</th>\n",
       "      <td>41</td>\n",
       "      <td>0</td>\n",
       "      <td>1</td>\n",
       "      <td>130</td>\n",
       "      <td>204</td>\n",
       "      <td>0</td>\n",
       "      <td>0</td>\n",
       "      <td>172</td>\n",
       "      <td>0</td>\n",
       "      <td>1.4</td>\n",
       "      <td>2</td>\n",
       "      <td>0</td>\n",
       "      <td>2</td>\n",
       "      <td>1</td>\n",
       "    </tr>\n",
       "    <tr>\n",
       "      <th>3</th>\n",
       "      <td>56</td>\n",
       "      <td>1</td>\n",
       "      <td>1</td>\n",
       "      <td>120</td>\n",
       "      <td>236</td>\n",
       "      <td>0</td>\n",
       "      <td>1</td>\n",
       "      <td>178</td>\n",
       "      <td>0</td>\n",
       "      <td>0.8</td>\n",
       "      <td>2</td>\n",
       "      <td>0</td>\n",
       "      <td>2</td>\n",
       "      <td>1</td>\n",
       "    </tr>\n",
       "    <tr>\n",
       "      <th>4</th>\n",
       "      <td>57</td>\n",
       "      <td>0</td>\n",
       "      <td>0</td>\n",
       "      <td>120</td>\n",
       "      <td>354</td>\n",
       "      <td>0</td>\n",
       "      <td>1</td>\n",
       "      <td>163</td>\n",
       "      <td>1</td>\n",
       "      <td>0.6</td>\n",
       "      <td>2</td>\n",
       "      <td>0</td>\n",
       "      <td>2</td>\n",
       "      <td>1</td>\n",
       "    </tr>\n",
       "  </tbody>\n",
       "</table>\n",
       "</div>"
      ],
      "text/plain": [
       "   age  sex  chestpain_type  resting_bp  chol  fasting_blood_sugar  \\\n",
       "0   63    1               3         145   233                    1   \n",
       "1   37    1               2         130   250                    0   \n",
       "2   41    0               1         130   204                    0   \n",
       "3   56    1               1         120   236                    0   \n",
       "4   57    0               0         120   354                    0   \n",
       "\n",
       "   restecg_result  maxheart_rate  exercice_in_angina  oldpeak  slope  ca  \\\n",
       "0               0            150                   0      2.3      0   0   \n",
       "1               1            187                   0      3.5      0   0   \n",
       "2               0            172                   0      1.4      2   0   \n",
       "3               1            178                   0      0.8      2   0   \n",
       "4               1            163                   1      0.6      2   0   \n",
       "\n",
       "   thal  target  \n",
       "0     1       1  \n",
       "1     2       1  \n",
       "2     2       1  \n",
       "3     2       1  \n",
       "4     2       1  "
      ]
     },
     "execution_count": 53,
     "metadata": {},
     "output_type": "execute_result"
    }
   ],
   "source": [
    "df.head()"
   ]
  },
  {
   "cell_type": "code",
   "execution_count": 54,
   "metadata": {},
   "outputs": [],
   "source": [
    "features = df[['age', 'sex', 'chestpain_type', 'resting_bp', 'chol', 'fasting_blood_sugar', 'restecg_result', 'maxheart_rate',\n",
    "              'exercice_in_angina', 'oldpeak', 'slope', 'ca', 'thal']]\n",
    "target = df['target']"
   ]
  },
  {
   "cell_type": "code",
   "execution_count": 55,
   "metadata": {},
   "outputs": [
    {
     "data": {
      "text/plain": [
       "<matplotlib.axes._subplots.AxesSubplot at 0x1b110288470>"
      ]
     },
     "execution_count": 55,
     "metadata": {},
     "output_type": "execute_result"
    },
    {
     "data": {
      "image/png": "[encoded data removed]",
      "text/plain": [
       "<Figure size 432x288 with 2 Axes>"
      ]
     },
     "metadata": {},
     "output_type": "display_data"
    }
   ],
   "source": [
    "sns.heatmap(features.corr())"
   ]
  },
  {
   "cell_type": "code",
   "execution_count": 56,
   "metadata": {},
   "outputs": [],
   "source": [
    "#Splitting the data into train and test groups\n",
    "\n",
    "from sklearn.model_selection import train_test_split\n",
    "\n",
    "X_train,X_test, y_train, y_test = train_test_split(features, target, test_size = 0.3, random_state=50 )"
   ]
  },
  {
   "cell_type": "markdown",
   "metadata": {},
   "source": [
    "Modeling"
   ]
  },
  {
   "cell_type": "markdown",
   "metadata": {},
   "source": [
    "Vanilla Logistic Regression"
   ]
  },
  {
   "cell_type": "code",
   "execution_count": 62,
   "metadata": {},
   "outputs": [
    {
     "name": "stdout",
     "output_type": "stream",
     "text": [
      "Vanilla Logistic Regression Coefficients\n",
      "[[ 0.01235627 -1.47212143  0.87655547 -0.01001303 -0.00599531 -0.34302445\n",
      "   0.36977865  0.0152963  -1.41926136 -0.48906086  0.73905831 -0.85963486\n",
      "  -0.81465763]]\n",
      "[2.41406955]\n",
      "\n",
      " Vanilla Logistic Regression Accuracy\n",
      "target   0    1\n",
      "row_0          \n",
      "0       80   11\n",
      "1       19  102\n",
      "\n",
      " Vanilla Logistic Regression Percentage Accuracy\n",
      "0.8584905660377359\n",
      "\n",
      " Vanilla Logistyic Regression cross validation score\n",
      "[0.86046512 0.88372093 0.86046512 0.78571429 0.70731707]\n"
     ]
    },
    {
     "name": "stderr",
     "output_type": "stream",
     "text": [
      "C:\\Users\\18644\\Anaconda3\\lib\\site-packages\\sklearn\\linear_model\\logistic.py:433: FutureWarning: Default solver will be changed to 'lbfgs' in 0.22. Specify a solver to silence this warning.\n",
      "  FutureWarning)\n",
      "C:\\Users\\18644\\Anaconda3\\lib\\site-packages\\sklearn\\linear_model\\logistic.py:433: FutureWarning: Default solver will be changed to 'lbfgs' in 0.22. Specify a solver to silence this warning.\n",
      "  FutureWarning)\n",
      "C:\\Users\\18644\\Anaconda3\\lib\\site-packages\\sklearn\\linear_model\\logistic.py:433: FutureWarning: Default solver will be changed to 'lbfgs' in 0.22. Specify a solver to silence this warning.\n",
      "  FutureWarning)\n",
      "C:\\Users\\18644\\Anaconda3\\lib\\site-packages\\sklearn\\linear_model\\logistic.py:433: FutureWarning: Default solver will be changed to 'lbfgs' in 0.22. Specify a solver to silence this warning.\n",
      "  FutureWarning)\n",
      "C:\\Users\\18644\\Anaconda3\\lib\\site-packages\\sklearn\\linear_model\\logistic.py:433: FutureWarning: Default solver will be changed to 'lbfgs' in 0.22. Specify a solver to silence this warning.\n",
      "  FutureWarning)\n",
      "C:\\Users\\18644\\Anaconda3\\lib\\site-packages\\sklearn\\linear_model\\logistic.py:433: FutureWarning: Default solver will be changed to 'lbfgs' in 0.22. Specify a solver to silence this warning.\n",
      "  FutureWarning)\n"
     ]
    }
   ],
   "source": [
    "from sklearn.linear_model import LogisticRegression\n",
    "from sklearn.model_selection import cross_val_score\n",
    "lr = LogisticRegression (C=1e9)\n",
    "fit = lr.fit(X_train, y_train)\n",
    "\n",
    "#print accuracy rate\n",
    "print('Vanilla Logistic Regression Coefficients')\n",
    "print(fit.coef_ )\n",
    "print(fit.intercept_)\n",
    "pred_y = lr.predict(X_train)\n",
    "\n",
    "\n",
    "print('\\n Vanilla Logistic Regression Accuracy')\n",
    "print(pd.crosstab(pred_y, y_train))\n",
    "\n",
    "print('\\n Vanilla Logistic Regression Percentage Accuracy')\n",
    "print(lr.score(X_train, y_train))\n",
    "\n",
    "print('\\n Vanilla Logistyic Regression cross validation score' )\n",
    "lr_score = cross_val_score(lr, X_train, y_train, cv=5)\n",
    "print(lr_score)"
   ]
  },
  {
   "cell_type": "markdown",
   "metadata": {},
   "source": [
    "Ridge Regression"
   ]
  },
  {
   "cell_type": "code",
   "execution_count": 64,
   "metadata": {},
   "outputs": [
    {
     "name": "stdout",
     "output_type": "stream",
     "text": [
      "Ridge Regression Coefficients:  [ 0.00449509 -0.13288112  0.10733509 -0.00034013 -0.00028057 -0.03877559\n",
      "  0.04078322  0.00439761 -0.16431541 -0.05756603  0.08785539 -0.10422171\n",
      " -0.08897287]\n",
      "Intercept:  0.0\n",
      "Ridge Regression Percentage Accuracy:  0.43658179181641155\n"
     ]
    }
   ],
   "source": [
    "from sklearn import linear_model\n",
    "\n",
    "ridgeregr = linear_model.Ridge(alpha=10,fit_intercept=False)\n",
    "rr_fit = ridgeregr.fit(X_train,y_train)\n",
    "print(\"Ridge Regression Coefficients: \",rr_fit.coef_)\n",
    "print(\"Intercept: \",rr_fit.intercept_)\n",
    "pred_y = rr_fit.predict(X_train)\n",
    "\n",
    "print(\"Ridge Regression Percentage Accuracy: \",ridgeregr.score(X_test,y_test))"
   ]
  },
  {
   "cell_type": "markdown",
   "metadata": {},
   "source": [
    "Ridge Logistic Regression"
   ]
  },
  {
   "cell_type": "code",
   "execution_count": 78,
   "metadata": {},
   "outputs": [
    {
     "name": "stdout",
     "output_type": "stream",
     "text": [
      "Ridge Logistic Regression Coefficients\n",
      "[[ 0.01235627 -1.47212143  0.87655547 -0.01001303 -0.00599531 -0.34302445\n",
      "   0.36977865  0.0152963  -1.41926136 -0.48906086  0.73905831 -0.85963486\n",
      "  -0.81465763]]\n",
      "[2.41406955]\n",
      "\n",
      " Ridge logistic regression Accuracy:\n",
      "target   0    1\n",
      "row_0          \n",
      "0       80    9\n",
      "1       19  104\n",
      "\\ Ridge Logistic Regression Percentage Accuracy:\n",
      "0.8679245283018868\n",
      "\\Ridge Logistic Regression Cross Validation Score:\n",
      "[0.88372093 0.88372093 0.86046512 0.76190476 0.70731707]\n"
     ]
    },
    {
     "name": "stderr",
     "output_type": "stream",
     "text": [
      "C:\\Users\\18644\\Anaconda3\\lib\\site-packages\\sklearn\\linear_model\\logistic.py:433: FutureWarning: Default solver will be changed to 'lbfgs' in 0.22. Specify a solver to silence this warning.\n",
      "  FutureWarning)\n",
      "C:\\Users\\18644\\Anaconda3\\lib\\site-packages\\sklearn\\linear_model\\logistic.py:433: FutureWarning: Default solver will be changed to 'lbfgs' in 0.22. Specify a solver to silence this warning.\n",
      "  FutureWarning)\n",
      "C:\\Users\\18644\\Anaconda3\\lib\\site-packages\\sklearn\\linear_model\\logistic.py:433: FutureWarning: Default solver will be changed to 'lbfgs' in 0.22. Specify a solver to silence this warning.\n",
      "  FutureWarning)\n",
      "C:\\Users\\18644\\Anaconda3\\lib\\site-packages\\sklearn\\linear_model\\logistic.py:433: FutureWarning: Default solver will be changed to 'lbfgs' in 0.22. Specify a solver to silence this warning.\n",
      "  FutureWarning)\n",
      "C:\\Users\\18644\\Anaconda3\\lib\\site-packages\\sklearn\\linear_model\\logistic.py:433: FutureWarning: Default solver will be changed to 'lbfgs' in 0.22. Specify a solver to silence this warning.\n",
      "  FutureWarning)\n",
      "C:\\Users\\18644\\Anaconda3\\lib\\site-packages\\sklearn\\linear_model\\logistic.py:433: FutureWarning: Default solver will be changed to 'lbfgs' in 0.22. Specify a solver to silence this warning.\n",
      "  FutureWarning)\n"
     ]
    }
   ],
   "source": [
    "ridge_lr= LogisticRegression(C=10, penalty ='l2')\n",
    "fit2 = ridge_lr.fit(X_train, y_train)\n",
    "\n",
    "#Print accuracy rate\n",
    "print('Ridge Logistic Regression Coefficients')\n",
    "print(fit.coef_)\n",
    "print(fit.intercept_)\n",
    "y_pred2 = fit2.predict(X_train)\n",
    "\n",
    "print('\\n Ridge logistic regression Accuracy:')\n",
    "print(pd.crosstab(y_pred2, y_train))\n",
    "\n",
    "print('\\ Ridge Logistic Regression Percentage Accuracy:')\n",
    "print(fit2.score(X_train, y_train))\n",
    "\n",
    "print('\\Ridge Logistic Regression Cross Validation Score:')\n",
    "ridge_lr_score= cross_val_score(fit2, X_train, y_train, cv=5 )\n",
    "print(ridge_lr_score)"
   ]
  },
  {
   "cell_type": "markdown",
   "metadata": {},
   "source": [
    "LASSO Regression"
   ]
  },
  {
   "cell_type": "code",
   "execution_count": 80,
   "metadata": {},
   "outputs": [
    {
     "name": "stdout",
     "output_type": "stream",
     "text": [
      "Lasso Accuracy:  0.18591157612635803\n",
      "Lasso Coefficients:  [-0.         -0.          0.         -0.00291084 -0.00088906 -0.\n",
      "  0.          0.00760107 -0.         -0.          0.         -0.\n",
      " -0.        ]\n",
      "Lasso Cross Validation Scores: \n",
      " [0.16595452 0.18571603 0.00816056]\n"
     ]
    },
    {
     "name": "stderr",
     "output_type": "stream",
     "text": [
      "C:\\Users\\18644\\Anaconda3\\lib\\site-packages\\sklearn\\model_selection\\_split.py:2053: FutureWarning: You should specify a value for 'cv' instead of relying on the default value. The default value will change from 3 to 5 in version 0.22.\n",
      "  warnings.warn(CV_WARNING, FutureWarning)\n"
     ]
    }
   ],
   "source": [
    "from sklearn.linear_model import Lasso\n",
    "\n",
    "lass = Lasso(alpha=0.25, fit_intercept=False)\n",
    "lass.fit(X_train, y_train)\n",
    "print('Lasso Accuracy: ', lass.score(X_train, y_train))\n",
    "print('Lasso Coefficients: ', lass.coef_)\n",
    "print('Lasso Cross Validation Scores: \\n', cross_val_score(lass, X_train, y_train))"
   ]
  },
  {
   "cell_type": "markdown",
   "metadata": {},
   "source": [
    "LASSO Logistic Regression\n"
   ]
  },
  {
   "cell_type": "code",
   "execution_count": 81,
   "metadata": {},
   "outputs": [
    {
     "name": "stdout",
     "output_type": "stream",
     "text": [
      "\n",
      " Logistic Regression Coefficients\n",
      "[[ 0.01822167 -1.39730415  0.86572363 -0.00879257 -0.00547323 -0.34899712\n",
      "   0.3871399   0.01819792 -1.36812851 -0.48420938  0.72880871 -0.84931606\n",
      "  -0.78439475]]\n",
      "[1.22878386]\n",
      "\n",
      " Lasso Logistic regression Accuracy\n",
      "target   0    1\n",
      "row_0          \n",
      "0       80    9\n",
      "1       19  104\n",
      "\n",
      " Lasso Logistic Regression Percentage Accuracy\n",
      "0.8679245283018868\n",
      "\n",
      " Lasso Logistic Regression Cross Validation Accuracy\n",
      "[0.88372093 0.88372093 0.86046512 0.76190476 0.70731707]\n"
     ]
    },
    {
     "name": "stderr",
     "output_type": "stream",
     "text": [
      "C:\\Users\\18644\\Anaconda3\\lib\\site-packages\\sklearn\\linear_model\\logistic.py:433: FutureWarning: Default solver will be changed to 'lbfgs' in 0.22. Specify a solver to silence this warning.\n",
      "  FutureWarning)\n",
      "C:\\Users\\18644\\Anaconda3\\lib\\site-packages\\sklearn\\linear_model\\logistic.py:433: FutureWarning: Default solver will be changed to 'lbfgs' in 0.22. Specify a solver to silence this warning.\n",
      "  FutureWarning)\n",
      "C:\\Users\\18644\\Anaconda3\\lib\\site-packages\\sklearn\\linear_model\\logistic.py:433: FutureWarning: Default solver will be changed to 'lbfgs' in 0.22. Specify a solver to silence this warning.\n",
      "  FutureWarning)\n",
      "C:\\Users\\18644\\Anaconda3\\lib\\site-packages\\sklearn\\linear_model\\logistic.py:433: FutureWarning: Default solver will be changed to 'lbfgs' in 0.22. Specify a solver to silence this warning.\n",
      "  FutureWarning)\n",
      "C:\\Users\\18644\\Anaconda3\\lib\\site-packages\\sklearn\\linear_model\\logistic.py:433: FutureWarning: Default solver will be changed to 'lbfgs' in 0.22. Specify a solver to silence this warning.\n",
      "  FutureWarning)\n",
      "C:\\Users\\18644\\Anaconda3\\lib\\site-packages\\sklearn\\linear_model\\logistic.py:433: FutureWarning: Default solver will be changed to 'lbfgs' in 0.22. Specify a solver to silence this warning.\n",
      "  FutureWarning)\n"
     ]
    }
   ],
   "source": [
    "lr_l1 = LogisticRegression(C=10, penalty='l1')\n",
    "lasso = lr_l2.fit(X_train, y_train)\n",
    "\n",
    "\n",
    "print('\\n Logistic Regression Coefficients')\n",
    "print(lasso.coef_)\n",
    "print(lasso.intercept_)\n",
    "y_pred_lasso= lasso.predict(X_train)\n",
    "\n",
    "print('\\n Lasso Logistic Regression Accuracy')\n",
    "print(pd.crosstab(y_pred_lasso, y_train))\n",
    "\n",
    "\n",
    "print('\\n Lasso Logistic Regression Percentage Accuracy')\n",
    "print(lasso.score(X_train, y_train))\n",
    "\n",
    "print('\\n Lasso Logistic Regression Cross Validation Accuracy')\n",
    "lasso_score = cross_val_score(lasso, X_train, y_train, cv= 5)\n",
    "print(lasso_score)"
   ]
  },
  {
   "cell_type": "code",
   "execution_count": null,
   "metadata": {},
   "outputs": [],
   "source": []
  }
 ],
 "metadata": {
  "kernelspec": {
   "display_name": "Python 3",
   "language": "python",
   "name": "python3"
  },
  "language_info": {
   "codemirror_mode": {
    "name": "ipython",
    "version": 3
   },
   "file_extension": ".py",
   "mimetype": "text/x-python",
   "name": "python",
   "nbconvert_exporter": "python",
   "pygments_lexer": "ipython3",
   "version": "3.7.1"
  }
 },
 "nbformat": 4,
 "nbformat_minor": 2
}
