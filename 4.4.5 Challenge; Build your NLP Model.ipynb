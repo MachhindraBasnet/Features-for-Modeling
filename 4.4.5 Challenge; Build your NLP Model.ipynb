{
 "cells": [
  {
   "cell_type": "markdown",
   "metadata": {},
   "source": [
    "4.4.5 Challenge: Build your own NLP model\n",
    "For this challenge, you will need to choose a corpus of data from nltk or another source that includes categories you can predict and create an analysis pipeline that includes the following steps:\n",
    "\n",
    "Data cleaning / processing / language parsing\n",
    "Create features using two different NLP methods: For example, BoW vs tf-idf.\n",
    "Use the features to fit supervised learning models for each feature set to predict the category outcomes.\n",
    "Assess your models using cross-validation and determine whether one model performed better.\n",
    "Pick one of the models and try to increase accuracy by at least 5 percentage points."
   ]
  },
  {
   "cell_type": "code",
   "execution_count": 2,
   "metadata": {},
   "outputs": [],
   "source": [
    "# Imports\n",
    "import numpy as np\n",
    "import pandas as pd\n",
    "import matplotlib.pyplot as plt\n",
    "import seaborn as sns\n",
    "import requests\n",
    "\n",
    "# NLP \n",
    "import spacy\n",
    "import re\n",
    "from collections import Counter\n",
    "from sklearn.feature_extraction.text import TfidfVectorizer"
   ]
  },
  {
   "cell_type": "code",
   "execution_count": 3,
   "metadata": {},
   "outputs": [],
   "source": [
    "abstract1 = requests.get(r'http://api.plos.org/search?q=title:%22transmission%22&fl=abstract&wt=json&api_key=7ujScsFm2osdMw6ozx4g')\n",
    "abstract2 = requests.get(r'http://api.plos.org/search?q=title:%22disease%22&fl=abstract&wt=json&api_key=7ujScsFm2osdMw6ozx4g')\n",
    "abstract3 = requests.get(r'http://api.plos.org/search?q=title:%22health%22&fl=abstract&wt=json&api_key=7ujScsFm2osdMw6ozx4g')\n",
    "abstract4 = requests.get(r'http://api.plos.org/search?q=title:%22communicable%22&fl=abstract&wt=json&api_key=7ujScsFm2osdMw6ozx4g')\n",
    "abstract5 = requests.get(r'http://api.plos.org/search?q=title:%22prevalence%22&fl=abstract&wt=json&api_key=7ujScsFm2osdMw6ozx4g')\n",
    "abstract6 = requests.get(r'http://api.plos.org/search?q=title:%22healthcare%22&fl=abstract&wt=json&api_key=7ujScsFm2osdMw6ozx4g')"
   ]
  },
  {
   "cell_type": "code",
   "execution_count": 4,
   "metadata": {},
   "outputs": [],
   "source": [
    "transmission_1 = abstract1.json()\n",
    "disease_1= abstract2.json()\n",
    "health_1 = abstract3.json()\n",
    "communicable_1 = abstract4.json()\n",
    "prevalence_1 = abstract5.json()\n",
    "healthcare_1 = abstract6.json()\n"
   ]
  },
  {
   "cell_type": "markdown",
   "metadata": {},
   "source": [
    "Extracting only the abstracts of each article into one string."
   ]
  },
  {
   "cell_type": "code",
   "execution_count": 5,
   "metadata": {},
   "outputs": [
    {
     "data": {
      "text/plain": [
       "\"'\\\\nIn Japan, the fraction of norovirus outbreaks attributable to human-to-human transmission has increased with time, and the timing of the increased fraction has coincided with the increase in the ob\""
      ]
     },
     "execution_count": 5,
     "metadata": {},
     "output_type": "execute_result"
    }
   ],
   "source": [
    "transmission = ''\n",
    "for article in transmission_1['response']['docs']:\n",
    "    art = re.sub(r'[\\[\\]]','', str(article['abstract']))\n",
    "    transmission = transmission + art\n",
    "\n",
    "transmission[0:200]"
   ]
  },
  {
   "cell_type": "code",
   "execution_count": 6,
   "metadata": {},
   "outputs": [
    {
     "data": {
      "text/plain": [
       "\"'Background: Exposure to beryllium may lead to granuloma formation and fibrosis in those who develop chronic beryllium disease (CBD). Although disease presentation varies from mild to severe, little i\""
      ]
     },
     "execution_count": 6,
     "metadata": {},
     "output_type": "execute_result"
    }
   ],
   "source": [
    "disease = ''\n",
    "for article in disease_1['response']['docs']:\n",
    "    art = re.sub(r'[\\[\\]]', '', str(article['abstract']))\n",
    "    disease = disease+art\n",
    "    \n",
    "disease[0:200]\n",
    "                                      "
   ]
  },
  {
   "cell_type": "code",
   "execution_count": 7,
   "metadata": {},
   "outputs": [
    {
     "data": {
      "text/plain": [
       "\"'Background: For most rural households in sub-Saharan Africa, healthy livestock play a key role in averting the burden associated with zoonotic diseases, and in meeting household nutritional and socio\""
      ]
     },
     "execution_count": 7,
     "metadata": {},
     "output_type": "execute_result"
    }
   ],
   "source": [
    "health = ''\n",
    "for article in health_1['response']['docs']:\n",
    "    art = re.sub(r'[\\[\\]]', '', str(article['abstract']))\n",
    "    health = health+art\n",
    "    \n",
    "health[0:200]\n",
    "             "
   ]
  },
  {
   "cell_type": "code",
   "execution_count": 8,
   "metadata": {},
   "outputs": [
    {
     "data": {
      "text/plain": [
       "\"'\\\\nIn sub-Saharan Africa (SSA), epidemiological data for chronic kidney disease (CKD) are scarce. We conducted a prospective cross-sectional study including 952 patients in an outpatient clinic in Tan\""
      ]
     },
     "execution_count": 8,
     "metadata": {},
     "output_type": "execute_result"
    }
   ],
   "source": [
    "communicable = ''\n",
    "for article in communicable_1['response']['docs']:\n",
    "    art = re.sub(r'[\\[\\]]', '', str(article['abstract']))\n",
    "    communicable= communicable+art\n",
    "    \n",
    "communicable[0:200]"
   ]
  },
  {
   "cell_type": "code",
   "execution_count": 9,
   "metadata": {},
   "outputs": [
    {
     "data": {
      "text/plain": [
       "\"'Introduction: Frailty is an important concept in modern healthcare due to its association with adverse outcomes. Its prevalence varies in the literature and there is a paucity of literature looking a\""
      ]
     },
     "execution_count": 9,
     "metadata": {},
     "output_type": "execute_result"
    }
   ],
   "source": [
    "prevalence = ''\n",
    "for article in prevalence_1['response']['docs']:\n",
    "    art = re.sub(r'[\\[\\]]', '', str(article['abstract']))\n",
    "    prevalence= prevalence+art\n",
    "    \n",
    "prevalence[0:200]"
   ]
  },
  {
   "cell_type": "code",
   "execution_count": 10,
   "metadata": {},
   "outputs": [
    {
     "data": {
      "text/plain": [
       "\"'Background: Culturally and linguistically diverse patients access healthcare services less than the host populations and are confronted with different barriers such as language barriers, legal restri\""
      ]
     },
     "execution_count": 10,
     "metadata": {},
     "output_type": "execute_result"
    }
   ],
   "source": [
    "healthcare = ''\n",
    "for article in healthcare_1['response']['docs']:\n",
    "    art = re.sub(r'[\\[\\]]', '', str(article['abstract']))\n",
    "    healthcare= healthcare+art\n",
    "    \n",
    "healthcare[0:200]"
   ]
  },
  {
   "cell_type": "markdown",
   "metadata": {},
   "source": [
    "Text cleaning"
   ]
  },
  {
   "cell_type": "code",
   "execution_count": 11,
   "metadata": {},
   "outputs": [],
   "source": [
    "def text_cleaner(text):\n",
    "    text = re.sub(r'--', ' ', text)\n",
    "    text = re.sub(r'[\\']', '', text)\n",
    "    text = re.sub(r'[\\\\]', '', text)\n",
    "    text = re.sub(r'\\d', '', text)\n",
    "    return text"
   ]
  },
  {
   "cell_type": "code",
   "execution_count": 12,
   "metadata": {},
   "outputs": [],
   "source": [
    "transmission_clean = text_cleaner(transmission)\n",
    "disease_clean = text_cleaner(disease)\n",
    "health_clean = text_cleaner(health)\n",
    "communicable_clean = text_cleaner(communicable)\n",
    "prevalence_clean = text_cleaner(prevalence)\n",
    "healthcare_clean = text_cleaner(healthcare)"
   ]
  },
  {
   "cell_type": "code",
   "execution_count": 13,
   "metadata": {},
   "outputs": [
    {
     "data": {
      "text/plain": [
       "15268"
      ]
     },
     "execution_count": 13,
     "metadata": {},
     "output_type": "execute_result"
    }
   ],
   "source": [
    "len(transmission_clean)"
   ]
  },
  {
   "cell_type": "code",
   "execution_count": 14,
   "metadata": {},
   "outputs": [
    {
     "data": {
      "text/plain": [
       "11803"
      ]
     },
     "execution_count": 14,
     "metadata": {},
     "output_type": "execute_result"
    }
   ],
   "source": [
    "len(disease_clean)"
   ]
  },
  {
   "cell_type": "markdown",
   "metadata": {},
   "source": [
    "Language Parsing using spaCy"
   ]
  },
  {
   "cell_type": "code",
   "execution_count": 15,
   "metadata": {},
   "outputs": [],
   "source": [
    "nlp = spacy.load('en_core_web_sm')"
   ]
  },
  {
   "cell_type": "code",
   "execution_count": 16,
   "metadata": {},
   "outputs": [],
   "source": [
    "transmission_doc = nlp(transmission_clean)\n",
    "disease_doc = nlp(disease_clean)\n",
    "health_doc = nlp(health_clean)\n",
    "communicable_doc = nlp(communicable_clean)\n",
    "prevalence_doc = nlp(prevalence_clean)\n",
    "healthcare_doc = nlp(healthcare_clean)"
   ]
  },
  {
   "cell_type": "markdown",
   "metadata": {},
   "source": [
    "Splitting each topic into individual sentences."
   ]
  },
  {
   "cell_type": "code",
   "execution_count": 17,
   "metadata": {},
   "outputs": [
    {
     "name": "stdout",
     "output_type": "stream",
     "text": [
      "719\n"
     ]
    }
   ],
   "source": [
    "transmission_sents = [[sent, 'transmission'] for sent in transmission_doc.sents]\n",
    "disease_sents = [[sent, 'disease'] for sent in disease_doc.sents]\n",
    "health_sents = [[sent, 'health'] for sent in health_doc.sents]\n",
    "communicable_sents = [[sent, 'communicable'] for sent in communicable_doc.sents]\n",
    "prevalence_sents = [[sent, 'prevalence'] for sent in prevalence_doc.sents]\n",
    "healthcare_sents = [[sent, 'healthcare'] for sent in healthcare_doc.sents]\n",
    "\n",
    "sentences = pd.DataFrame(transmission_sents+disease_sents+health_sents+communicable_sents+prevalence_sents+healthcare_sents)\n",
    "sentences.head()\n",
    "print(len(sentences))"
   ]
  },
  {
   "cell_type": "code",
   "execution_count": 18,
   "metadata": {},
   "outputs": [],
   "source": [
    "# Utility function to create a list of the 2000 most common words.\n",
    "def bag_of_words(text):\n",
    "    \n",
    "    # Filter out punctuation and stop words.\n",
    "    allwords = [token.lemma_\n",
    "                for token in text\n",
    "                if not token.is_punct\n",
    "                and not token.is_stop]\n",
    "    \n",
    "    # Return the most common words.\n",
    "    return [item[0] for item in Counter(allwords).most_common(2000)]\n",
    "    \n",
    "\n",
    "# Creates a data frame with features for each word in our common word set.\n",
    "# Each value is the count of the times the word appears in each sentence.\n",
    "def bow_features(sentences, common_words):\n",
    "    \n",
    "    # Scaffold the data frame and initialize counts to zero.\n",
    "    df = pd.DataFrame(columns=common_words)\n",
    "    df['text_sentence'] = sentences[0]\n",
    "    df['text_source'] = sentences[1]\n",
    "    df.loc[:, common_words] = 0\n",
    "    \n",
    "    # Process each row, counting the occurrence of words in each sentence.\n",
    "    for i, sentence in enumerate(df['text_sentence']):\n",
    "        \n",
    "        # Convert the sentence to lemmas, then filter out punctuation,\n",
    "        # stop words, and uncommon words.\n",
    "        words = [token.lemma_\n",
    "                 for token in sentence\n",
    "                 if (\n",
    "                     not token.is_punct\n",
    "                     and not token.is_stop\n",
    "                     and token.lemma_ in common_words\n",
    "                 )]\n",
    "        \n",
    "        # Populate the row with word counts.\n",
    "        for word in words:\n",
    "            df.loc[i, word] += 1\n",
    "        \n",
    "        # This counter is just to make sure the kernel didn't hang.\n",
    "        if i % 100 == 0:\n",
    "            print(\"Processing row {}\".format(i))\n",
    "            \n",
    "    return df"
   ]
  },
  {
   "cell_type": "markdown",
   "metadata": {},
   "source": [
    "Finding common words"
   ]
  },
  {
   "cell_type": "code",
   "execution_count": 19,
   "metadata": {},
   "outputs": [],
   "source": [
    "transmission_words = bag_of_words(transmission_doc)\n",
    "disease_words = bag_of_words(disease_doc)\n",
    "health_words = bag_of_words(health_doc)\n",
    "communicable_words = bag_of_words(communicable_doc)\n",
    "prevalence_words = bag_of_words(prevalence_doc)\n",
    "healthcare_words = bag_of_words(healthcare_doc)\n",
    "\n",
    "\n",
    "common_words = set(transmission_words + disease_words + health_words + communicable_words + prevalence_words + healthcare_words)"
   ]
  },
  {
   "cell_type": "markdown",
   "metadata": {},
   "source": [
    "Creating features"
   ]
  },
  {
   "cell_type": "code",
   "execution_count": 26,
   "metadata": {},
   "outputs": [
    {
     "name": "stdout",
     "output_type": "stream",
     "text": [
      "Processing row 0\n",
      "Processing row 100\n",
      "Processing row 200\n",
      "Processing row 300\n",
      "Processing row 400\n",
      "Processing row 500\n",
      "Processing row 600\n",
      "Processing row 700\n"
     ]
    },
    {
     "data": {
      "text/html": [
       "<div>\n",
       "<style scoped>\n",
       "    .dataframe tbody tr th:only-of-type {\n",
       "        vertical-align: middle;\n",
       "    }\n",
       "\n",
       "    .dataframe tbody tr th {\n",
       "        vertical-align: top;\n",
       "    }\n",
       "\n",
       "    .dataframe thead th {\n",
       "        text-align: right;\n",
       "    }\n",
       "</style>\n",
       "<table border=\"1\" class=\"dataframe\">\n",
       "  <thead>\n",
       "    <tr style=\"text-align: right;\">\n",
       "      <th></th>\n",
       "      <th>host</th>\n",
       "      <th>maintain</th>\n",
       "      <th>expansion</th>\n",
       "      <th>unanticipated</th>\n",
       "      <th>restriction</th>\n",
       "      <th>correlate</th>\n",
       "      <th>equivalent</th>\n",
       "      <th>count</th>\n",
       "      <th>leisure</th>\n",
       "      <th>belief</th>\n",
       "      <th>...</th>\n",
       "      <th>BPS</th>\n",
       "      <th>choice</th>\n",
       "      <th>prespecifie</th>\n",
       "      <th>≥</th>\n",
       "      <th>iii</th>\n",
       "      <th>prevention</th>\n",
       "      <th>early</th>\n",
       "      <th>Jakob</th>\n",
       "      <th>text_sentence</th>\n",
       "      <th>text_source</th>\n",
       "    </tr>\n",
       "  </thead>\n",
       "  <tbody>\n",
       "    <tr>\n",
       "      <th>0</th>\n",
       "      <td>0</td>\n",
       "      <td>0</td>\n",
       "      <td>0</td>\n",
       "      <td>0</td>\n",
       "      <td>0</td>\n",
       "      <td>0</td>\n",
       "      <td>0</td>\n",
       "      <td>0</td>\n",
       "      <td>0</td>\n",
       "      <td>0</td>\n",
       "      <td>...</td>\n",
       "      <td>0</td>\n",
       "      <td>0</td>\n",
       "      <td>0</td>\n",
       "      <td>0</td>\n",
       "      <td>0</td>\n",
       "      <td>0</td>\n",
       "      <td>0</td>\n",
       "      <td>0</td>\n",
       "      <td>(nIn, Japan, ,, the, fraction, of, norovirus, ...</td>\n",
       "      <td>transmission</td>\n",
       "    </tr>\n",
       "    <tr>\n",
       "      <th>1</th>\n",
       "      <td>0</td>\n",
       "      <td>0</td>\n",
       "      <td>0</td>\n",
       "      <td>0</td>\n",
       "      <td>0</td>\n",
       "      <td>0</td>\n",
       "      <td>0</td>\n",
       "      <td>0</td>\n",
       "      <td>0</td>\n",
       "      <td>0</td>\n",
       "      <td>...</td>\n",
       "      <td>0</td>\n",
       "      <td>0</td>\n",
       "      <td>0</td>\n",
       "      <td>0</td>\n",
       "      <td>0</td>\n",
       "      <td>0</td>\n",
       "      <td>0</td>\n",
       "      <td>0</td>\n",
       "      <td>(The, present, study, aimed, to, estimate, the...</td>\n",
       "      <td>transmission</td>\n",
       "    </tr>\n",
       "    <tr>\n",
       "      <th>2</th>\n",
       "      <td>0</td>\n",
       "      <td>0</td>\n",
       "      <td>0</td>\n",
       "      <td>0</td>\n",
       "      <td>0</td>\n",
       "      <td>0</td>\n",
       "      <td>0</td>\n",
       "      <td>0</td>\n",
       "      <td>0</td>\n",
       "      <td>0</td>\n",
       "      <td>...</td>\n",
       "      <td>0</td>\n",
       "      <td>0</td>\n",
       "      <td>0</td>\n",
       "      <td>0</td>\n",
       "      <td>0</td>\n",
       "      <td>0</td>\n",
       "      <td>0</td>\n",
       "      <td>0</td>\n",
       "      <td>(The, effective, reproduction, number, (, Ry, ...</td>\n",
       "      <td>transmission</td>\n",
       "    </tr>\n",
       "    <tr>\n",
       "      <th>3</th>\n",
       "      <td>0</td>\n",
       "      <td>0</td>\n",
       "      <td>0</td>\n",
       "      <td>0</td>\n",
       "      <td>0</td>\n",
       "      <td>0</td>\n",
       "      <td>0</td>\n",
       "      <td>0</td>\n",
       "      <td>0</td>\n",
       "      <td>0</td>\n",
       "      <td>...</td>\n",
       "      <td>0</td>\n",
       "      <td>0</td>\n",
       "      <td>0</td>\n",
       "      <td>0</td>\n",
       "      <td>0</td>\n",
       "      <td>0</td>\n",
       "      <td>0</td>\n",
       "      <td>0</td>\n",
       "      <td>(Ry, was, estimated, by, using, the, fraction,...</td>\n",
       "      <td>transmission</td>\n",
       "    </tr>\n",
       "    <tr>\n",
       "      <th>4</th>\n",
       "      <td>0</td>\n",
       "      <td>0</td>\n",
       "      <td>0</td>\n",
       "      <td>0</td>\n",
       "      <td>0</td>\n",
       "      <td>0</td>\n",
       "      <td>0</td>\n",
       "      <td>0</td>\n",
       "      <td>0</td>\n",
       "      <td>0</td>\n",
       "      <td>...</td>\n",
       "      <td>0</td>\n",
       "      <td>0</td>\n",
       "      <td>0</td>\n",
       "      <td>0</td>\n",
       "      <td>0</td>\n",
       "      <td>0</td>\n",
       "      <td>0</td>\n",
       "      <td>0</td>\n",
       "      <td>(The, Ry, estimates, ranged, from, .)</td>\n",
       "      <td>transmission</td>\n",
       "    </tr>\n",
       "  </tbody>\n",
       "</table>\n",
       "<p>5 rows × 2086 columns</p>\n",
       "</div>"
      ],
      "text/plain": [
       "  host maintain expansion unanticipated restriction correlate equivalent  \\\n",
       "0    0        0         0             0           0         0          0   \n",
       "1    0        0         0             0           0         0          0   \n",
       "2    0        0         0             0           0         0          0   \n",
       "3    0        0         0             0           0         0          0   \n",
       "4    0        0         0             0           0         0          0   \n",
       "\n",
       "  count leisure belief      ...      BPS choice prespecifie  ≥ iii prevention  \\\n",
       "0     0       0      0      ...        0      0           0  0   0          0   \n",
       "1     0       0      0      ...        0      0           0  0   0          0   \n",
       "2     0       0      0      ...        0      0           0  0   0          0   \n",
       "3     0       0      0      ...        0      0           0  0   0          0   \n",
       "4     0       0      0      ...        0      0           0  0   0          0   \n",
       "\n",
       "  early Jakob                                      text_sentence   text_source  \n",
       "0     0     0  (nIn, Japan, ,, the, fraction, of, norovirus, ...  transmission  \n",
       "1     0     0  (The, present, study, aimed, to, estimate, the...  transmission  \n",
       "2     0     0  (The, effective, reproduction, number, (, Ry, ...  transmission  \n",
       "3     0     0  (Ry, was, estimated, by, using, the, fraction,...  transmission  \n",
       "4     0     0              (The, Ry, estimates, ranged, from, .)  transmission  \n",
       "\n",
       "[5 rows x 2086 columns]"
      ]
     },
     "execution_count": 26,
     "metadata": {},
     "output_type": "execute_result"
    }
   ],
   "source": [
    "# Create our data frame with features. This can take a while to run.\n",
    "word_counts = bow_features(sentences, common_words)\n",
    "word_counts.head()\n"
   ]
  },
  {
   "cell_type": "code",
   "execution_count": 21,
   "metadata": {},
   "outputs": [
    {
     "data": {
      "text/plain": [
       "(719, 2086)"
      ]
     },
     "execution_count": 21,
     "metadata": {},
     "output_type": "execute_result"
    }
   ],
   "source": [
    "word_counts.shape"
   ]
  },
  {
   "cell_type": "markdown",
   "metadata": {},
   "source": [
    "Creating tf-idf features\n",
    "Converting sentences into numeric vectors.\n",
    "Creating list"
   ]
  },
  {
   "cell_type": "code",
   "execution_count": 22,
   "metadata": {},
   "outputs": [],
   "source": [
    "#Converting the sentences into numeric vectors\n",
    "abstract_list = []\n",
    "for topic in [transmission_1, disease_1, health_1, communicable_1, prevalence_1, healthcare_1]:\n",
    "    for article in topic['response']['docs']:\n",
    "        abstract_list = abstract_list + article['abstract']"
   ]
  },
  {
   "cell_type": "markdown",
   "metadata": {},
   "source": [
    "Vectorizing the texts"
   ]
  },
  {
   "cell_type": "code",
   "execution_count": 24,
   "metadata": {},
   "outputs": [
    {
     "name": "stdout",
     "output_type": "stream",
     "text": [
      "Number of features: 918\n",
      "Original sentence: \n",
      "In sub-Saharan Africa (SSA), epidemiological data for chronic kidney disease (CKD) are scarce. We conducted a prospective cross-sectional study including 952 patients in an outpatient clinic in Tanzania to explore CKD prevalence estimates and the association with cardiovascular and infectious disorders. According to KDIGO, we measured albumin-to-creatinine ratio and calculated eGFR using CKD-EPI formula. Factors associated with CKD were calculated by logistic regression. Venn diagrams were modelled to visualize interaction between associated factors and CKD. Overall, the estimated CKD prevalence was 13.6% (95% CI 11–16%). Ninety-eight patients (11.2%) (95% CI 9–14%) were categorized as moderate, 12 (1.4%) (95% CI 0–4%) as high, and 9 (1%) (95% CI 0–3%) as very high risk according to KDIGO. History of tuberculosis (OR 3.75, 95% CI 1.66–8.18; p = 0.001) and schistosomiasis (OR 2.49, 95% CI 1.13–5.18; p = 0.02) were associated with CKD. A trend was seen for increasing systolic blood pressure (OR 1.02 per 1 mmHg, 95% CI 1.00–1.03; p = 0.01). Increasing BMI (OR 0.92 per 1kg/m2, 95% CI 0.88–0.96; p = <0.001) and haemoglobin (OR 0.82 per 1g/dL, 95% CI 0.72–0.94; p = 0.004) were associated with risk reduction. Diabetes was associated with albuminuria (OR 2.81, 95% CI 1.26–6.00; p = 0.009). In 85% of all CKD cases at least one of the four most common factors (hypertension, diabetes, anaemia, and history of tuberculosis or schistosomiasis) was associated with CKD. A singular associated factor was found in 61%, two in 14%, and ≥3 in 10% of all CKD cases. We observed a high prevalence estimate for CKD and found that both classical cardiovascular and neglected infectious diseases might be associated with CKD in a semi-rural population of SSA. Our finding provides further evidence for the hypothesis that the “double burden” of non-communicable and endemic infectious diseases might affect kidney health in SSA.\n",
      "\n",
      "Tf_idf vector: {'Children': 0.07023661730478445, 'contributors': 0.07023661730478445, 'relevant': 0.07023661730478445, 'electronic': 0.07023661730478445, 'records': 0.07023661730478445, 'variables': 0.06520060077196436, '45': 0.05810273412176962, '005': 0.07023661730478445, 'Main': 0.06520060077196436, 'focusing': 0.07023661730478445, 'indicators': 0.06520060077196436, 'Potential': 0.07023661730478445, 'contributing': 0.07023661730478445, 'non': 0.18387540375501904, 'OR': 0.11620546824353924, 'categorized': 0.05810273412176962, 'logistic': 0.06520060077196436, 'clinic': 0.2809464692191378, 'medical': 0.05810273412176962, 'availability': 0.06520060077196436, 'access': 0.17430820236530886, 'healthcare': 0.2228383193614083, 'primary': 0.22161700184194133, 'extracted': 0.06520060077196436, 'CI': 0.09498405599564225, 'illness': 0.17430820236530886, 'Data': 0.05810273412176962, 'rural': 0.10613343517789903, 'improve': 0.07023661730478445, 'outcome': 0.05810273412176962, 'review': 0.05810273412176962, 'univariate': 0.07023661730478445, 'common': 0.047492027997821123, 'setting': 0.11620546824353924, 'lower': 0.053066717588949514, 'significantly': 0.05810273412176962, 'assessed': 0.04916047969225574, 'aim': 0.051004867471574865, 'Objective': 0.051004867471574865, 'literature': 0.06129436287527058, 'free': 0.19560180231589308, 'obtained': 0.05540425046048533, 'comprehensive': 0.06520060077196436, 'mortality': 0.21070985191435337, '95': 0.08913532774456331, 'Results': 0.03617250062727574, 'presentation': 0.21070985191435337, '2012': 0.07023661730478445, 'regular': 0.1404732346095689, 'factors': 0.07974314101469696, 'measures': 0.051004867471574865, 'tract': 0.07023661730478445, 'respiratory': 0.05810273412176962, 'associated': 0.07584902183990973, 'regression': 0.051004867471574865, 'risk': 0.047492027997821123, 'research': 0.047492027997821123, 'health': 0.06624071722509424, 'public': 0.04596885093875476, 'identify': 0.04206261304206099, 'reduce': 0.05810273412176962, 'ongoing': 0.06520060077196436, 'important': 0.047492027997821123, '2009': 0.06129436287527058, 'analysis': 0.04456766387228166, 'severe': 0.4067191388523873, 'high': 0.04327036727747049, 'children': 0.19560180231589308, 'Conclusions': 0.03887098428856003, 'Methods': 0.037026596509240894, 'rates': 0.10613343517789903, 'demographic': 0.06129436287527058, 'child': 0.06520060077196436, 'disease': 0.03457999479206812, 'This': 0.037924510919954864, 'infections': 0.05540425046048533, 'reduced': 0.06129436287527058, 'population': 0.03887098428856003, 'morbidity': 0.06129436287527058, 'malaria': 0.06520060077196436, 'villages': 0.1404732346095689, 'investigate': 0.06129436287527058, 'needed': 0.07023661730478445, 'interventions': 0.04596885093875476, 'likely': 0.05540425046048533, 'years': 0.03987157050734848, 'identified': 0.16825045216824397, '05': 0.06129436287527058, 'models': 0.047492027997821123, 'using': 0.03535814481480628, 'surveillance': 0.051004867471574865, 'aimed': 0.07023661730478445, 'study': 0.029354727842036552, 'present': 0.07023661730478445, 'The': 0.08639685366875947}\n"
     ]
    }
   ],
   "source": [
    "from sklearn.model_selection import train_test_split\n",
    "X = abstract_list\n",
    "X_train, X_test = train_test_split(X, test_size=0.4, random_state=42)\n",
    "\n",
    "vectorizer = TfidfVectorizer(max_df=0.7, # drop words that occur in more than half the paragraphs\n",
    "                             min_df=2, # only use words that appear at least twice\n",
    "                             stop_words='english', \n",
    "                             lowercase=False, #convert everything to lower case \n",
    "                             use_idf=True,#we definitely want to use inverse document frequencies in our weighting\n",
    "                             norm=u'l2', #Applies a correction factor so that longer paragraphs and shorter paragraphs get treated equally\n",
    "                             smooth_idf=True #Adds 1 to all document frequencies, as if an extra document existed that used every word once.  Prevents divide-by-zero errors\n",
    "                            )\n",
    "\n",
    "\n",
    "#Applying the vectorizer\n",
    "abstract_tfidf=vectorizer.fit_transform(abstract_list)\n",
    "print(\"Number of features: %d\" % abstract_tfidf.get_shape()[1])\n",
    "\n",
    "#splitting into training and test sets\n",
    "X_train_tfidf, X_test_tfidf= train_test_split(abstract_tfidf, test_size=0.4, random_state=0)\n",
    "\n",
    "\n",
    "#Reshapes the vectorizer output into something people can read\n",
    "X_train_tfidf_csr = X_train_tfidf.tocsr()\n",
    "\n",
    "#number of paragraphs\n",
    "n = X_train_tfidf_csr.shape[0]\n",
    "#A list of dictionaries, one per paragraph\n",
    "tfidf_bypara = [{} for _ in range(0,n)]\n",
    "#List of features\n",
    "terms = vectorizer.get_feature_names()\n",
    "#for each paragraph, lists the feature words and their tf-idf scores\n",
    "for i, j in zip(*X_train_tfidf_csr.nonzero()):\n",
    "    tfidf_bypara[i][terms[j]] = X_train_tfidf_csr[i, j]\n",
    "\n",
    "#Keep in mind that the log base 2 of 1 is 0, so a tf-idf score of 0 indicates that the word was present once in that sentence.\n",
    "print('Original sentence:', X_train[5])\n",
    "print('Tf_idf vector:', tfidf_bypara[1])"
   ]
  },
  {
   "cell_type": "code",
   "execution_count": 25,
   "metadata": {},
   "outputs": [
    {
     "name": "stdout",
     "output_type": "stream",
     "text": [
      "Percent variance captured by all components: 100.0\n",
      "Component 0:\n",
      ": Jonathan Quick and colleagues discuss how women's health world-wide can be improved through universal health coverage.                                                                                                                                                                                                                                                                                                                                                                                                                                                                                                                                                                                                                                                                                                                                                                                                                                                                                                                                                                                                                                                                                                                                                                                                                                                                                                                                                                                                                                                                                                                                                                                                                                                                                                                                                                                                                                                                                                                                                                                                                                                                                                                                                                                                                                                                                                                                                                                                                                                                                                                                                                                                                                                                                                                                                                                                                                                                                                                                                                                                                                                                                                                                                                                                                                 0.444584\n",
      "Main Objective: Prompt access to primary healthcare before onset of severe illness is vital to improve morbidity and mortality rates. The Gambia has high rates of child mortality and research is needed to investigate contributing factors further. This study aimed to identify factors affecting access to primary healthcare for children <5 years (y) in rural Gambia focusing on delayed presentation and severe illness at presentation as indicators in a setting where primary healthcare is delivered free of charge. Methods: Data were extracted from an electronic medical records system at a rural primary healthcare clinic in The Gambia for children (0–5y) between 2009 and 2012. First clinic attendances with malaria, lower respiratory tract infections (LRTI) and diarrhoeal disease, the main contributors to mortality in this setting, were identified and categorized as delayed/non-delayed and severe/non-severe representing our two main outcome measures. Potential explanatory variables, identified through a comprehensive literature review were obtained from an ongoing demographic surveillance system for this population. Variables associated with either delayed/non-delayed and/or with severe/non-severe presentations identified by univariate analysis (p<0.1) were assessed in multivariate models using logistic regression (p<0.05). Results: Out of 6554 clinic attendances, 571 relevant attendances were identified. Delayed presentation was common (45% of all presentations) and there was a significantly reduced risk associated with being from villages with free regular access to transport (OR 0.502, 95%CI[0.310, 0.814], p = 0.005). Children from villages with free regular transport were also less likely to present with severe illness (OR 0.557, 95%CI[0.325, 0.954], p = 0.033). Conclusions: Transport availability rather than distance to health clinic is an important barrier to accessing healthcare for children in The Gambia, and public health interventions should aim to reduce this barrier.                                                                                                                                                                                                                                                                                                                                                                                                                                                                                                                                                                                                                                                                                                                                                                                                                                                                                                                                                                                                                                                                                                                                                                                                                                                                    0.424141\n",
      "\\nJerald Fagliano and Ana Diez Roux discuss the challenges of climate change in an urban environment, but also opportunities for healthier lifestyles and green spaces.\\n                                                                                                                                                                                                                                                                                                                                                                                                                                                                                                                                                                                                                                                                                                                                                                                                                                                                                                                                                                                                                                                                                                                                                                                                                                                                                                                                                                                                                                                                                                                                                                                                                                                                                                                                                                                                                                                                                                                                                                                                                                                                                                                                                                                                                                                                                                                                                                                                                                                                                                                                                                                                                                                                                                                                                                                                                                                                                                                                                                                                                                                                                                                                                                                0.381117\n",
      "\\nSustained and coordinated vaccination efforts have brought polio eradication within reach. Anticipating the eradication of wild poliovirus (WPV) and the subsequent challenges in preventing its re-emergence, we look to the past to identify why polio rose to epidemic levels in the mid-20th century, and how WPV persisted over large geographic scales. We analyzed an extensive epidemiological dataset, spanning the 1930s to the 1950s and spatially replicated across each state in the United States, to glean insight into the drivers of polio’s historical expansion and the ecological mode of its persistence prior to vaccine introduction. We document a latitudinal gradient in polio’s seasonality. Additionally, we fitted and validated mechanistic transmission models to data from each US state independently. The fitted models revealed that: (1) polio persistence was the product of a dynamic mosaic of source and sink populations; (2) geographic heterogeneity of seasonal transmission conditions account for the latitudinal structure of polio epidemics; (3) contrary to the prevailing “disease of development” hypothesis, our analyses demonstrate that polio’s historical expansion was straightforwardly explained by demographic trends rather than improvements in sanitation and hygiene; and (4) the absence of clinical disease is not a reliable indicator of polio transmission, because widespread polio transmission was likely in the multiyear absence of clinical disease. As the world edges closer to global polio eradication and continues the strategic withdrawal of the Oral Polio Vaccine (OPV), the regular identification of, and rapid response to, these silent chains of transmission is of the utmost importance.\\n\\nUsing models to reveal the epidemiology of historic poliovirus transmission in the US, this study reconstructs the millions of silent infections and identifies why polio epidemics are explosive, seasonal, and vary geographically.\\nAuthor Summary: Thanks to global vaccination efforts, poliovirus is on the brink of worldwide eradication. However, achieving eradication and preventing re-emergence requires intimate knowledge of how the virus persists. In order to understand a system that is complicated by heavy human intervention, such as vaccination, it is important to establish a baseline by studying that system in the absence of intervention. Historical epidemics that predate the use of vaccines can be used to disentangle the epidemiology of disease from vaccine effects. Using historical polio data from large-scale epidemics in the US, we fitted and simulated mathematical models to track poliovirus and to reconstruct the millions of unobserved subclinical infections that propagated the disease. We identified why polio epidemics are explosive and seasonal, and why they vary geographically. Our analyses show that the historical expansion of polio is straightforwardly explained by the demographic “baby boom” during the postwar period rather than improvements in hygiene. We were also able to demonstrate that poliovirus persisted primarily through symptomless individuals, and that in the event of local virus extinction, infection was reintroduced from other geographic locations.     0.375080\n",
      "\\n        There has been growing recognition in the international community that health should be considered a human right. Much less attention has been paid, however, to the ensuing legal obligation to provide international assistance.\\n                                                                                                                                                                                                                                                                                                                                                                                                                                                                                                                                                                                                                                                                                                                                                                                                                                                                                                                                                                                                                                                                                                                                                                                                                                                                                                                                                                                                                                                                                                                                                                                                                                                                                                                                                                                                                                                                                                                                                                                                                                                                                                                                                                                                                                                                                                                                                                                                                                                                                                                                                                                                                                                                                                                                                                                                                                                                                                                                                                                                                                                                                                           0.371158\n",
      "Background: There is some evidence that home safety assessment and modification (HSAM) is effective in reducing falls in older people. But there are various knowledge gaps, including around cost-effectiveness and also the impacts at a health district-level. Methods and findings: A previously established Markov macro-simulation model built for the whole New Zealand (NZ) population (Pega et al 2016, Injury Prevention) was enhanced and adapted to a health district level. This district was Counties Manukau District Health Board, which hosts 42,000 people aged 65+ years. A health system perspective was taken and a discount rate of 3% was used for both health gain and costs. Intervention effectiveness estimates came from a systematic review, and NZ-specific intervention costs were extracted from a randomized controlled trial. Conclusions: This modeling study suggests that a HSAM program could produce considerable health gain and be cost-effective for older people at a health district level. Nevertheless, comparisons may be desirable with other falls prevention interventions such as group exercise programs, which also provide social contact and may prevent various chronic diseases.                                                                                                                                                                                                                                                                                                                                                                                                                                                                                                                                                                                                                                                                                                                                                                                                                                                                                                                                                                                                                                                                                                                                                                                                                                                                                                                                                                                                                                                                                                                                                                                                                                                                                                                                                                                                                                                                                                                                                                                                                                                                                                                0.346474\n",
      "\\nPseudoperonospora cubensis, an obligate biotrophic oomycete causing devastating foliar disease in species of the Cucurbitaceae family, was never reported in seeds or transmitted by seeds. We now show that P. cubensis occurs in fruits and seeds of downy mildew-infected plants but not in fruits or seeds of healthy plants. About 6.7% of the fruits collected during 2012–2014 have developed downy mildew when homogenized and inoculated onto detached leaves and 0.9% of the seeds collected developed downy mildew when grown to the seedling stage. This is the first report showing that P. cubensis has become seed-transmitted in cucurbits. Species-specific PCR assays showed that P. cubensis occurs in ovaries, fruit seed cavity and seed embryos of cucurbits. We propose that international trade of fruits or seeds of cucurbits might be associated with the recent global change in the population structure of P. cubensis.\\n                                                                                                                                                                                                                                                                                                                                                                                                                                                                                                                                                                                                                                                                                                                                                                                                                                                                                                                                                                                                                                                                                                                                                                                                                                                                                                                                                                                                                                                                                                                                                                                                                                                                                                                                                                                                                                                                                                                                                                                                                                                                                                                                                                                                                                                                                                                                                                                                0.344560\n",
      "Objective: To conduct a meta-analysis assessing the prevalence of vitiligo. Methods: Literatures that reported prevalence rates of vitiligo were identified using EMBASE, PubMed, the Cochrane Library, China National Knowledge Infrastructure (CNKI), Wanfang database and Weipu database for the period from inception to May 2016. We performed stratified analyses on possible sources of bias, including areas difference, years of publication, gender and age. Publication bias was assessed with Egger’s test method. Results: A total of 103 studies were eligible for inclusion. The pooled prevalence of vitiligo from 82 population- or community-based studies was 0.2% (95%CI: 0.1%–0.2%) and from 22 hospital-based studies was 1.8% (95%CI: 1.4%–2.1%). A relatively high prevalence of vitiligo was found in Africa area and in female patients. For population- or community-based studies, the prevalence has maintained at a low level in recent 20 years and it has increased with age gradually. For hospital-based studies, the prevalence has showed a decreased trend from 60s till now or from young to old. No significant publication bias existed in hospital-based studies (t = 0.47, P = 0.643), while a significant publication bias existed in population- or community-based studies (t = 2.31, P = 0.026). Conclusion: A relatively high prevalence of vitiligo was found in Africa area and in female patients. The prevalence has maintained at a low level in recent years. It showed an inverse trend with age increment in population- or community-based studies and hospital-based studies.                                                                                                                                                                                                                                                                                                                                                                                                                                                                                                                                                                                                                                                                                                                                                                                                                                                                                                                                                                                                                                                                                                                                                                                                                                                                                                                                                                                                                                                                                                                                                                                                                                                                                                                   0.335094\n",
      "\\nThe incidence and prevalence of paraneoplastic glomerulopathy, especially associated with carcinoma, are a matter of debate and the causal link between cancer and glomerular diseases remains unclear. The aim of this study was to evaluate renal biopsies of selected bitches with spontaneous mammary gland carcinoma. We hypothesized that dogs with mammary carcinomas would show histologic evidence of glomerular pathology. A prospective study was performed in dogs with naturally occurring mammary carcinoma that were undergoing tumor resection and ovariohysterectomy. We evaluated renal biopsies of 32 bitches with spontaneous mammary gland carcinoma and 11 control dogs without mammary gland neoplasia. Samples were obtained from the left kidney and the biopsy material was divided for light microscopy (LM), immunofluorescence (IF) and transmission electron microscopy (TEM). Light microscopy abnormalities were identified in 78.1% of dogs with mammary carcinoma (n = 25) and in none of the dogs in the control group. Focal glomerular mesangial matrix expansion was the most common alteration (n = 15, 60.0%), but mesangial cell proliferation (n = 9, 36.0%) and focal segmental glomerulosclerosis (n = 9, 36.0%), synechiae (n = 7, 28.0%), and globally sclerotic glomeruli (n = 6, 24.0%) were also frequent in dogs with malignancy. Immunofluorescence microscopy revealed strong IgM staining was demonstrated in 64.3% (n = 18) of carcinoma dogs. Transmission electron microscopy from dogs with carcinoma revealed slight changes, the most frequent of which was faint sub-endothelial and mesangial deposits of electron-dense material (78%). Mesangial cell interpositioning and segmental effacement of podocyte foot processes were identified in some specimens (45%). Changes in the glomerulus and proteinuria are common in dogs with naturally occurring mammary carcinoma and this condition appears to provide an excellent large animal model for cancer-associated glomerulopathy in humans.\\n                                                                                                                                                                                                                                                                                                                                                                                                                                                                                                                                                                                                                                                                                                                                                                                                                                                                                                                                                                                                                                                                                                                                                                                                                                                                                     0.334785\n",
      "Objective: In Parkinson's disease (PD), commonly reported risk factors for malnutrition in other populations commonly occur. Few studies have explored which of these factors are of particular importance in malnutrition in PD. The aim was to identify the determinants of nutritional status in people with Parkinson's disease (PWP). Methods: Community-dwelling PWP (>18 years) were recruited (n = 125; 73M/52F; Mdn 70 years). Self-report assessments included Beck's Depression Inventory (BDI), Spielberger Trait Anxiety Inventory (STAI), Scales for Outcomes in Parkinson's disease – Autonomic (SCOPA-AUT), Modified Constipation Assessment Scale (MCAS) and Freezing of Gait Questionnaire (FOG-Q). Information about age, PD duration, medications, co-morbid conditions and living situation was obtained. Addenbrooke's Cognitive Examination (ACE-R), Unified Parkinson's Disease Rating Scale (UPDRS) II and UPDRS III were performed. Nutritional status was assessed using the Subjective Global Assessment (SGA) as part of the scored Patient-Generated Subjective Global Assessment (PG-SGA). Results: Nineteen (15%) were malnourished (SGA-B). Median PG-SGA score was 3. More of the malnourished were elderly (84% vs. 71%) and had more severe disease (H&Y: 21% vs. 5%). UPDRS II and UPDRS III scores and levodopa equivalent daily dose (LEDD)/body weight(mg/kg) were significantly higher in the malnourished (Mdn 18 vs. 15; 20 vs. 15; 10.1 vs. 7.6 respectively). Regression analyses revealed older age at diagnosis, higher LEDD/body weight (mg/kg), greater UPDRS III score, lower STAI score and higher BDI score as significant predictors of malnutrition (SGA-B). Living alone and higher BDI and UPDRS III scores were significant predictors of a higher log-adjusted PG-SGA score. Conclusions: In this sample of PWP, the rate of malnutrition was higher than that previously reported in the general community. Nutrition screening should occur regularly in those with more severe disease and depression. Community support should be provided to PWP living alone. Dopaminergic medication should be reviewed with body weight changes.                                                                                                                                                                                                                                                                                                                                                                                                                                                                                                                                                                                                                                                                                                                                                                                                                                                                                                                                                                                                                                                                                                                                                       0.330484\n"
     ]
    },
    {
     "name": "stdout",
     "output_type": "stream",
     "text": [
      "Name: 0, dtype: float64\n",
      "Component 1:\n",
      "\\nPseudoperonospora cubensis, an obligate biotrophic oomycete causing devastating foliar disease in species of the Cucurbitaceae family, was never reported in seeds or transmitted by seeds. We now show that P. cubensis occurs in fruits and seeds of downy mildew-infected plants but not in fruits or seeds of healthy plants. About 6.7% of the fruits collected during 2012–2014 have developed downy mildew when homogenized and inoculated onto detached leaves and 0.9% of the seeds collected developed downy mildew when grown to the seedling stage. This is the first report showing that P. cubensis has become seed-transmitted in cucurbits. Species-specific PCR assays showed that P. cubensis occurs in ovaries, fruit seed cavity and seed embryos of cucurbits. We propose that international trade of fruits or seeds of cucurbits might be associated with the recent global change in the population structure of P. cubensis.\\n                                                                                                                                                                                                                                                                                                                                                                                                                                                                                                                                                                                                                                                                                                                                                                                                                                                                                                                                                                                                                                                                                                                                                                                                                                                                                                                                                                                                                                                                                                                                                                                                                                                                                                                                                                                                                                                                                                        0.450744\n",
      "\\nIt is increasingly evident that human diseases are not isolated from each other. Understanding how different diseases are related to each other based on the underlying biology could provide new insights into disease etiology, classification, and shared biological mechanisms. We have taken a computational approach to studying disease relationships through 1) systematic identification of disease associated genes by literature mining, 2) associating diseases to biological pathways where disease genes are enriched, and 3) linking diseases together based on shared pathways. We identified 4,195 candidate disease associated genes for 1028 diseases. On average, about 50% of disease associated genes of a disease are statistically mapped to pathways. We generated a disease network which consists of 591 diseases and 6,931 disease relationships. We examined properties of this network and provided examples of novel disease relationships which cannot be readily captured through simple literature search or gene overlap analysis. Our results could potentially provide insights into the design of novel, pathway-guided therapeutic interventions for diseases.\\n                                                                                                                                                                                                                                                                                                                                                                                                                                                                                                                                                                                                                                                                                                                                                                                                                                                                                                                                                                                                                                                                                                                                                                                                                                                                                                                                                                                                                                                                                                                                                                                                                                                        0.411816\n",
      "\\nMillions of people cannot access essential medicines they need for deadly diseases like malaria, tuberculosis (TB) and HIV/AIDS. There is good information on the need for drugs for these diseases but until now, no global estimate of the impact drugs are having on this burden. This paper presents a model measuring companies’ key malaria, TB and HIV/AIDS drugs’ consequences for global health (global-health-impact.org). It aggregates drugs’ impacts in several ways–by disease, country and originator-company. The methodology can be extended across diseases as well as drugs to provide a more extensive picture of the impact companies’ drugs are having on the global burden of disease. The study suggests that key malaria, TB and HIV/AIDS drugs are, together, ameliorating about 37% of the global burden of these diseases and Sanofi, Novartis, and Pfizer’s drugs are having the largest effect on this burden. Moreover, drug impacts vary widely across countries. This index provides important information for policy makers, pharmaceutical companies, countries, and other stake-holders that can help increase access to essential medicines.\\n                                                                                                                                                                                                                                                                                                                                                                                                                                                                                                                                                                                                                                                                                                                                                                                                                                                                                                                                                                                                                                                                                                                                                                                                                                                                                                                                                                                                                                                                                                                                                                                                                                                                            0.281277\n",
      "Background: Acute gastroenteritis illness is a common illness that causes considerable morbidity, but current estimates of the cost to the Australian healthcare system are unknown. Objective: To estimate the current healthcare utilisation and direct public healthcare system costs attributable to acute gastroenteritis illness in Australia. Methods: This is an incidence-based cost-of-illness study focused on quantifying direct health care costs using a bottom-up approach. Data on general practitioner consultations, prescribed medications, diagnostic tests, specialist consultations, emergency department visits and hospital admissions were collected from national reports. Results: Using 2016 prices, the estimated annual direct per capita cost of acute gastroenteritis illness was AUD$14.87 (USD$10.71), equating to AUD$20.27 (USD$14.59) per case. The estimated overall economic burden in Australia was AUD$359 million (USD$258 million; AUD$1.5 million per 100,000 people). The major contributors to this cost were hospital admissions (57.1%), emergency department visits (17.7%), and general practitioner consultations (14.0%). Children under five years of age have the highest per capita rates of acute gastroenteritis illness; however, service utilisation rates vary by age group and both young children and older adults accounted for a substantial proportion of the overall economic burden attributable to acute gastroenteritis illness. Conclusions: Although chronic diseases comprise a large cost burden on the healthcare system, acute illnesses, including acute gastroenteritis illness, also impose substantial direct healthcare system costs. Providing data on current cost estimates is useful for prioritizing public health interventions, with our findings suggesting that it would be ideal if targeted interventions to reduce hospitalisation rates among young children and older adults were available.                                                                                                                                                                                                                                                                                                                                                                                                                                                                                                                                                                                                                                                                                                                                                                                                                                                                       0.272114\n",
      "Background: China's one-child-per-couple policy, introduced in 1979, led to profound demographic changes for nearly a quarter of the world's population. Several decades later, the consequences include decreased fertility rates, population aging, decreased household sizes, changes in family structure, and imbalanced sex ratios. The epidemiology of communicable diseases may have been affected by these changes since the transmission dynamics of infectious diseases depend on demographic characteristics of the population. Of particular interest is influenza because China and Southeast Asia lie at the center of a global transmission network of influenza. Moreover, changes in household structure may affect influenza transmission. Is it possible that the pronounced demographic changes that have occurred in China have affected influenza transmission? Methods and Findings: To address this question, we developed a continuous-time, stochastic, individual-based simulation model for influenza transmission. With this model, we simulated 30 years of influenza transmission and compared influenza transmission rates in populations with and without the one-child policy control. We found that the average annual attack rate is reduced by 6.08% (SD 2.21%) in the presence of the one-child policy compared to a population in which no demographic changes occurred. There was no discernible difference in the secondary attack rate, −0.15% (SD 1.85%), between the populations with and without a one-child policy. We also forecasted influenza transmission over a ten-year time period in a population with a two-child policy under a hypothesis that a two-child-per-couple policy will be carried out in 2015, and found a negligible difference in the average annual attack rate compared to the population with the one-child policy. Conclusions: This study found that the average annual attack rate is slightly lowered in a population with a one-child policy, which may have resulted from a decrease in household size and the proportion of children in the population.                                                                                                                                                                                                                                                                                                                                                                                                                                                                                                                                                                                                                                                                                                                          0.262752\n",
      ": Jonathan Quick and colleagues discuss how women's health world-wide can be improved through universal health coverage.                                                                                                                                                                                                                                                                                                                                                                                                                                                                                                                                                                                                                                                                                                                                                                                                                                                                                                                                                                                                                                                                                                                                                                                                                                                                                                                                                                                                                                                                                                                                                                                                                                                                                                                                                                                                                                                                                                                                                                                                                                                                                                                                                                                                                                                                                                                                                                                                                                                                                                                                                                                                                                                                                                                                         0.218523\n",
      "\\n\\t\\t\\t\\tPrevalence of healthcare associated infections remains high in patients in intensive care units (ICU), estimated at 23.4% in 2011. It is important to reduce the overall risk while minimizing the cost and disruption to service provision by targeted infection control interventions. The aim of this study was to develop a monitoring tool to analyze the spatial variability of bacteriological contamination within the healthcare environment to assist in the planning of interventions. Within three cross-sectional surveys, in two ICU wards, air and surface samples from different heights and locations were analyzed. Surface sampling was carried out with tryptic Soy Agar contact plates and Total Viable Counts (TVC) were calculated at 48hrs (incubation at 37°C). TVCs were analyzed using Poisson Generalized Additive Mixed Model for surface type analysis, and for spatial analysis. Through three cross-sectional survey, 370 samples were collected. Contamination varied from place-to-place, height-to-height, and by surface type. Hard-to-reach surfaces, such as bed wheels and floor area under beds, were generally more contaminated, but the height level at which maximal TVCs were found changed between cross-sectional surveys. Bedside locations and bed occupation were risk factors for contamination. Air sampling identified clusters of contamination around the nursing station and surface sampling identified contamination clusters at numerous bed locations. By investigating dynamic hospital wards, the methodology employed in this study will be useful to monitor contamination variability within the healthcare environment and should help to assist in the planning of interventions.\\n\\t\\t\\t                                                                                                                                                                                                                                                                                                                                                                                                                                                                                                                                                                                                                                                                                                                                                                                                                                                                                                                                                                                                                                                                                           0.207196\n",
      "Objectives: To estimate prevalence of chronic conditions among patients seeing a general practitioner (GP), patients attending general practice at least once in a year, and the Australian population. Design, setting and participants: A sub-study of the BEACH (Bettering the Evaluation and Care of Health) program, a continuous national study of general practice activity conducted between July 2008 and May 2009. Each of 290 GPs provided data for about 30 consecutive patients (total 8,707) indicating diagnosed chronic conditions, using their knowledge of the patient, patient self-report, and patient's health record. Main outcome measures: Estimates of prevalence of chronic conditions among patients surveyed, adjusted prevalence in patients who attended general practice at least once that year, and national population prevalence. Results: Two-thirds (66.3%) of patients surveyed had at least one chronic condition: most prevalent being hypertension (26.6%), hyperlipidaemia (18.5%), osteoarthritis (17.8%), depression (13.7%), gastro-oesophageal reflux disease (11.6%), asthma (9.5%) and Type 2 diabetes (8.3%). For patients who attended general practice at least once, we estimated 58.8% had at least one chronic condition. After further adjustment we estimated 50.8% of the Australian population had at least one chronic condition: hypertension (17.4%), hyperlipidaemia (12.7%), osteoarthritis (11.1%), depression (10.5%) and asthma (8.0%) being most prevalent. Conclusions: This study used GPs to gather information from their knowledge, the patient, and health records, to provide prevalence estimates that overcome weaknesses of studies using patient self-report or health record audit alone. Our results facilitate examination of primary care resource use in management of chronic conditions and measurement of prevalence of multimorbidity in Australia.                                                                                                                                                                                                                                                                                                                                                                                                                                                                                                                                                                                                                                                                                                                                                                                                                                                                                                                       0.138390\n",
      "\\n        There has been growing recognition in the international community that health should be considered a human right. Much less attention has been paid, however, to the ensuing legal obligation to provide international assistance.\\n                                                                                                                                                                                                                                                                                                                                                                                                                                                                                                                                                                                                                                                                                                                                                                                                                                                                                                                                                                                                                                                                                                                                                                                                                                                                                                                                                                                                                                                                                                                                                                                                                                                                                                                                                                                                                                                                                                                                                                                                                                                                                                                                                                                                                                                                                                                                                                                                                                                                                                                                                                                                                   0.138338\n",
      "Background: For most rural households in sub-Saharan Africa, healthy livestock play a key role in averting the burden associated with zoonotic diseases, and in meeting household nutritional and socio-economic needs. However, there is limited understanding of the complex nutritional, socio-economic, and zoonotic pathways that link livestock health to human health and welfare. Here we describe a platform for integrated human health, animal health and economic welfare analysis designed to address this challenge. We provide baseline epidemiological data on disease syndromes in humans and the animals they keep, and provide examples of relationships between human health, animal health and household socio-economic status. Method: We designed a study to obtain syndromic disease data in animals along with economic and behavioral information for 1500 rural households in Western Kenya already participating in a human syndromic disease surveillance study. Data collection started in February 2013, and each household is visited bi-weekly and data on four human syndromes (fever, jaundice, diarrhea and respiratory illness) and nine animal syndromes (death, respiratory, reproductive, musculoskeletal, nervous, urogenital, digestive, udder disorders, and skin disorders in cattle, sheep, goats and chickens) are collected. Additionally, data from a comprehensive socio-economic survey is collected every 3 months in each of the study households. Findings: Data from the first year of study showed 93% of the households owned at least one form of livestock (55%, 19%, 41% and 88% own cattle, sheep, goats and chickens respectively). Digestive disorders, mainly diarrhea episodes, were the most common syndromes observed in cattle, goats and sheep, accounting for 56% of all livestock syndromes, followed by respiratory illnesses (18%). In humans, respiratory illnesses accounted for 54% of all illnesses reported, followed by acute febrile illnesses (40%) and diarrhea illnesses (5%). While controlling for household size, the incidence of human illness increased 1.31-fold for every 10 cases of animal illness or death observed (95% CI 1.16–1.49). Access and utilization of animal source foods such as milk and eggs were positively associated with the number of cattle and chickens owned by the household. Additionally, health care seeking was correlated with household incomes and wealth, which were in turn correlated with livestock herd size. Conclusion: This study platform provides a unique longitudinal dataset that allows for the determination and quantification of linkages between human and animal health, including the impact of healthy animals on human disease averted, malnutrition, household educational attainment, and income levels.     0.126234\n"
     ]
    },
    {
     "name": "stdout",
     "output_type": "stream",
     "text": [
      "Name: 1, dtype: float64\n",
      "Component 2:\n",
      "                                                                                                                                                                                                                                                                                                                                                                                                                                                                                                                                                                                                                                                                                                                                                                                                                                                                                                                                                                                                                                                                                                                                                                                                                                                                                                                                                                                                                                                                                                                                                                                                                                                                                                                                                                                                                                                                                                                                                                                                                                                                                                                                                                                                                                                                                                                                                                                                                                                                                                                                                                                                                                                                                                                                                                                                                                                                                                                                                                                                                                                                                                                                                                                                                                                                                                                                                         0.559634\n",
      "Background: Socioeconomic inequalities in non-communicable diseases are known to exist; however there is a paucity of research describing the secular trends in these inequalities. To this end, the current study aims to explore the recent time trends in social patterning of selected non-communicable diseases among Korean adults between 2007 and 2015. Methods: Using data from the Korea National Health and Nutrition Examination Survey (KNHANES), temporal trends in socioeconomic inequalities in diabetes, arthritis, asthma and depressive symptoms were assessed across three time points. Respondents were adults aged 20 years or over (N = 47,091, 20,180 men and 26,911 women). Socioeconomic circumstance was assessed based on highest level of educational attainment. We estimated prevalence ratios with 95% confidence intervals using Poisson regression with robust variance estimation (adjusted for age, smoking status, alcohol consumption, obesity, and physical activity) separately for men and women. The magnitude of the inequalities was computed using the relative index of inequality (RII). Results: In men, diabetes was not associated with educational attainment, while there was evidence of a negative association in women across surveys. Similar inverse associations were found with arthritis and depressive symptoms, but these associations were less clear for asthma. RII showed a non-significant increasing trend in educational disparities in depressive symptoms. Meanwhile, relative inequalities in diabetes, arthritis and asthma have narrowed. These trends were, in general, more pronounced in women. Conclusions: The findings of this study indicate higher burden of selected NCDs among the lower educational groups, particularly among women. In addition, our results indicated some improvements in inequalities in diabetes, arthritis and asthma in recent years. These findings have important implications for understanding the causes of social patterning of NCDs and for the targeting of effective interventions.                                                                                                                                                                                                                                                                                                                                                                                                                                                                                                                                                                                                                                                                                                                                                                                                                                                                                                                                                                                                                                                                                                                                                                                                                                                0.412635\n",
      "Background: Acute gastroenteritis illness is a common illness that causes considerable morbidity, but current estimates of the cost to the Australian healthcare system are unknown. Objective: To estimate the current healthcare utilisation and direct public healthcare system costs attributable to acute gastroenteritis illness in Australia. Methods: This is an incidence-based cost-of-illness study focused on quantifying direct health care costs using a bottom-up approach. Data on general practitioner consultations, prescribed medications, diagnostic tests, specialist consultations, emergency department visits and hospital admissions were collected from national reports. Results: Using 2016 prices, the estimated annual direct per capita cost of acute gastroenteritis illness was AUD$14.87 (USD$10.71), equating to AUD$20.27 (USD$14.59) per case. The estimated overall economic burden in Australia was AUD$359 million (USD$258 million; AUD$1.5 million per 100,000 people). The major contributors to this cost were hospital admissions (57.1%), emergency department visits (17.7%), and general practitioner consultations (14.0%). Children under five years of age have the highest per capita rates of acute gastroenteritis illness; however, service utilisation rates vary by age group and both young children and older adults accounted for a substantial proportion of the overall economic burden attributable to acute gastroenteritis illness. Conclusions: Although chronic diseases comprise a large cost burden on the healthcare system, acute illnesses, including acute gastroenteritis illness, also impose substantial direct healthcare system costs. Providing data on current cost estimates is useful for prioritizing public health interventions, with our findings suggesting that it would be ideal if targeted interventions to reduce hospitalisation rates among young children and older adults were available.                                                                                                                                                                                                                                                                                                                                                                                                                                                                                                                                                                                                                                                                                                                                                                                                                                                                                                                                                                                                                                                                                                                                                                                                                                                                                                                                                               0.411155\n",
      "\\nStrengthening district-level management may be an important lever for improving key public health outcomes in low-income settings; however, previous studies have not established the statistical associations between better management and primary healthcare system performance in such settings. To explore this gap, we conducted a cross-sectional study of 36 rural districts and 226 health centers in Ethiopia, a country which has made ambitious investment in expanding access to primary care over the last decade. We employed quantitative measure of management capacity at both the district health office and health center levels and used multiple regression models, accounting for clustering of health centers within districts, to estimate the statistical association between management capacity and a key performance indicator (KPI) summary score based on antenatal care coverage, contraception use, skilled birth attendance, infant immunization, and availability of essential medications. In districts with above median district management capacity, health center management capacity was strongly associated (p < 0.05) with KPI performance. In districts with below median management capacity, health center management capacity was not associated with KPI performance. Having more staff at the district health office was also associated with better KPI performance (p < 0.05) but only in districts with above median management capacity. The results suggest that district-level management may provide an opportunity for improving health system performance in low-income country settings.\\n                                                                                                                                                                                                                                                                                                                                                                                                                                                                                                                                                                                                                                                                                                                                                                                                                                                                                                                                                                                                                                                                                                                                                                                                                                                                                                                                                                                                                                                                                                                                                                                                                                                                                                  0.332466\n",
      "\\nSustained and coordinated vaccination efforts have brought polio eradication within reach. Anticipating the eradication of wild poliovirus (WPV) and the subsequent challenges in preventing its re-emergence, we look to the past to identify why polio rose to epidemic levels in the mid-20th century, and how WPV persisted over large geographic scales. We analyzed an extensive epidemiological dataset, spanning the 1930s to the 1950s and spatially replicated across each state in the United States, to glean insight into the drivers of polio’s historical expansion and the ecological mode of its persistence prior to vaccine introduction. We document a latitudinal gradient in polio’s seasonality. Additionally, we fitted and validated mechanistic transmission models to data from each US state independently. The fitted models revealed that: (1) polio persistence was the product of a dynamic mosaic of source and sink populations; (2) geographic heterogeneity of seasonal transmission conditions account for the latitudinal structure of polio epidemics; (3) contrary to the prevailing “disease of development” hypothesis, our analyses demonstrate that polio’s historical expansion was straightforwardly explained by demographic trends rather than improvements in sanitation and hygiene; and (4) the absence of clinical disease is not a reliable indicator of polio transmission, because widespread polio transmission was likely in the multiyear absence of clinical disease. As the world edges closer to global polio eradication and continues the strategic withdrawal of the Oral Polio Vaccine (OPV), the regular identification of, and rapid response to, these silent chains of transmission is of the utmost importance.\\n\\nUsing models to reveal the epidemiology of historic poliovirus transmission in the US, this study reconstructs the millions of silent infections and identifies why polio epidemics are explosive, seasonal, and vary geographically.\\nAuthor Summary: Thanks to global vaccination efforts, poliovirus is on the brink of worldwide eradication. However, achieving eradication and preventing re-emergence requires intimate knowledge of how the virus persists. In order to understand a system that is complicated by heavy human intervention, such as vaccination, it is important to establish a baseline by studying that system in the absence of intervention. Historical epidemics that predate the use of vaccines can be used to disentangle the epidemiology of disease from vaccine effects. Using historical polio data from large-scale epidemics in the US, we fitted and simulated mathematical models to track poliovirus and to reconstruct the millions of unobserved subclinical infections that propagated the disease. We identified why polio epidemics are explosive and seasonal, and why they vary geographically. Our analyses show that the historical expansion of polio is straightforwardly explained by the demographic “baby boom” during the postwar period rather than improvements in hygiene. We were also able to demonstrate that poliovirus persisted primarily through symptomless individuals, and that in the event of local virus extinction, infection was reintroduced from other geographic locations.     0.271914\n",
      ": Jonathan Quick and colleagues discuss how women's health world-wide can be improved through universal health coverage.                                                                                                                                                                                                                                                                                                                                                                                                                                                                                                                                                                                                                                                                                                                                                                                                                                                                                                                                                                                                                                                                                                                                                                                                                                                                                                                                                                                                                                                                                                                                                                                                                                                                                                                                                                                                                                                                                                                                                                                                                                                                                                                                                                                                                                                                                                                                                                                                                                                                                                                                                                                                                                                                                                                                                                                                                                                                                                                                                                                                                                                                                                                                                                                                                                 0.164301\n",
      "\\nJerald Fagliano and Ana Diez Roux discuss the challenges of climate change in an urban environment, but also opportunities for healthier lifestyles and green spaces.\\n                                                                                                                                                                                                                                                                                                                                                                                                                                                                                                                                                                                                                                                                                                                                                                                                                                                                                                                                                                                                                                                                                                                                                                                                                                                                                                                                                                                                                                                                                                                                                                                                                                                                                                                                                                                                                                                                                                                                                                                                                                                                                                                                                                                                                                                                                                                                                                                                                                                                                                                                                                                                                                                                                                                                                                                                                                                                                                                                                                                                                                                                                                                                                                                0.143042\n",
      "\\nIn sub-Saharan Africa (SSA), epidemiological data for chronic kidney disease (CKD) are scarce. We conducted a prospective cross-sectional study including 952 patients in an outpatient clinic in Tanzania to explore CKD prevalence estimates and the association with cardiovascular and infectious disorders. According to KDIGO, we measured albumin-to-creatinine ratio and calculated eGFR using CKD-EPI formula. Factors associated with CKD were calculated by logistic regression. Venn diagrams were modelled to visualize interaction between associated factors and CKD. Overall, the estimated CKD prevalence was 13.6% (95% CI 11–16%). Ninety-eight patients (11.2%) (95% CI 9–14%) were categorized as moderate, 12 (1.4%) (95% CI 0–4%) as high, and 9 (1%) (95% CI 0–3%) as very high risk according to KDIGO. History of tuberculosis (OR 3.75, 95% CI 1.66–8.18; p = 0.001) and schistosomiasis (OR 2.49, 95% CI 1.13–5.18; p = 0.02) were associated with CKD. A trend was seen for increasing systolic blood pressure (OR 1.02 per 1 mmHg, 95% CI 1.00–1.03; p = 0.01). Increasing BMI (OR 0.92 per 1kg/m2, 95% CI 0.88–0.96; p = <0.001) and haemoglobin (OR 0.82 per 1g/dL, 95% CI 0.72–0.94; p = 0.004) were associated with risk reduction. Diabetes was associated with albuminuria (OR 2.81, 95% CI 1.26–6.00; p = 0.009). In 85% of all CKD cases at least one of the four most common factors (hypertension, diabetes, anaemia, and history of tuberculosis or schistosomiasis) was associated with CKD. A singular associated factor was found in 61%, two in 14%, and ≥3 in 10% of all CKD cases. We observed a high prevalence estimate for CKD and found that both classical cardiovascular and neglected infectious diseases might be associated with CKD in a semi-rural population of SSA. Our finding provides further evidence for the hypothesis that the “double burden” of non-communicable and endemic infectious diseases might affect kidney health in SSA.\\n                                                                                                                                                                                                                                                                                                                                                                                                                                                                                                                                                                                                                                                                                                                                                                                                                                                                                                                                                                                                                                                                                                                                                                                                                                                                                                                                             0.120880\n",
      "Background: Exposure to beryllium may lead to granuloma formation and fibrosis in those who develop chronic beryllium disease (CBD). Although disease presentation varies from mild to severe, little is known about CBD phenotypes. This study characterized CBD disease phenotypes using longitudinal measures of lung function. Methods: Using a case-only study of 207 CBD subjects, subject-specific trajectories over time were estimated from longitudinal pulmonary function and exercise-tolerance tests. To estimate linear combinations of the 30-year values that define underlying patterns of lung function, we conducted factor analysis. Cluster analysis was then performed on all the predicted lung function values at 30 years. These estimates were used to identify underlying features and subgroups of CBD. Results: Two factors, or composite measures, explained nearly 70% of the co-variation among the tests; one factor represented pulmonary function in addition to oxygen consumption and workload during exercise, while the second factor represented exercise tests related to gas exchange. Factors were associated with granulomas on biopsy, exposure, steroid use and lung inflammation. Three clusters of patients (n = 53, n = 59 and, n = 95) were identified based on the collection of test values. Lower levels of each of the factor composite scores and cluster membership were associated with baseline characteristics of patients. Conclusions: Using factor analysis and cluster analysis, we identified disease phenotypes that were associated with baseline patient characteristics, suggesting that CBD is a heterogeneous disease with varying severity. These clinical tools may be used in future basic and clinical studies to help define the mechanisms and risk factors for disease severity.                                                                                                                                                                                                                                                                                                                                                                                                                                                                                                                                                                                                                                                                                                                                                                                                                                                                                                                                                                                                                                                                                                                                                                                                                                                                                                                                                                                                                                                                                            0.112486\n",
      "\\n\\t\\t\\t\\tPrevalence of healthcare associated infections remains high in patients in intensive care units (ICU), estimated at 23.4% in 2011. It is important to reduce the overall risk while minimizing the cost and disruption to service provision by targeted infection control interventions. The aim of this study was to develop a monitoring tool to analyze the spatial variability of bacteriological contamination within the healthcare environment to assist in the planning of interventions. Within three cross-sectional surveys, in two ICU wards, air and surface samples from different heights and locations were analyzed. Surface sampling was carried out with tryptic Soy Agar contact plates and Total Viable Counts (TVC) were calculated at 48hrs (incubation at 37°C). TVCs were analyzed using Poisson Generalized Additive Mixed Model for surface type analysis, and for spatial analysis. Through three cross-sectional survey, 370 samples were collected. Contamination varied from place-to-place, height-to-height, and by surface type. Hard-to-reach surfaces, such as bed wheels and floor area under beds, were generally more contaminated, but the height level at which maximal TVCs were found changed between cross-sectional surveys. Bedside locations and bed occupation were risk factors for contamination. Air sampling identified clusters of contamination around the nursing station and surface sampling identified contamination clusters at numerous bed locations. By investigating dynamic hospital wards, the methodology employed in this study will be useful to monitor contamination variability within the healthcare environment and should help to assist in the planning of interventions.\\n\\t\\t\\t                                                                                                                                                                                                                                                                                                                                                                                                                                                                                                                                                                                                                                                                                                                                                                                                                                                                                                                                                                                                                                                                                                                                                                                                                                                                                                                                                                                                                                                                                                                                                                                   0.096410\n"
     ]
    },
    {
     "name": "stdout",
     "output_type": "stream",
     "text": [
      "Name: 2, dtype: float64\n",
      "Component 3:\n",
      "\\n        There has been growing recognition in the international community that health should be considered a human right. Much less attention has been paid, however, to the ensuing legal obligation to provide international assistance.\\n                                                                                                                                                                                                                                                                                                                                                                                                                                                                                                                                                                                                                                                                                                                                                                                                                                                                                                                                                                                                                                                                                                                                                                                                                                                                                                                                                                                                                                                                                                                                                                                                                                                                                                                                                                                                                          0.445031\n",
      "\\nThe prevalence of common chronic non-communicable diseases (CNCDs) far overshadows the prevalence of both monogenic and infectious diseases combined. All CNCDs, also called complex genetic diseases, have a heritable genetic component that can be used for pre-symptomatic risk assessment. Common single nucleotide polymorphisms (SNPs) that tag risk haplotypes across the genome currently account for a non-trivial portion of the germ-line genetic risk and we will likely continue to identify the remaining missing heritability in the form of rare variants, copy number variants and epigenetic modifications. Here, we describe a novel measure for calculating the lifetime risk of a disease, called the genetic composite index (GCI), and demonstrate its predictive value as a clinical classifier. The GCI only considers summary statistics of the effects of genetic variation and hence does not require the results of large-scale studies simultaneously assessing multiple risk factors. Combining GCI scores with environmental risk information provides an additional tool for clinical decision-making. The GCI can be populated with heritable risk information of any type, and thus represents a framework for CNCD pre-symptomatic risk assessment that can be populated as additional risk information is identified through next-generation technologies.\\n                                                                                                                                                                                                                                                                                                                                                                                                                                                                                                                                                                                                                                                                    0.422978\n",
      "Background: An analysis of NIH funding in 1996 found that the strongest predictor of funding, disability-adjusted life-years (DALYs), explained only 39% of the variance in funding. In 1998, Congress requested that the Institute of Medicine (IOM) evaluate priority-setting criteria for NIH funding; the IOM recommended greater consideration of disease burden. We examined whether the association between current burden and funding has changed since that time. Methods: We analyzed public data on 2006 NIH funding for 29 common conditions. Measures of US disease burden in 2004 were obtained from the World Health Organization's Global Burden of Disease study and national databases. We assessed the relationship between disease burden and NIH funding dollars in univariate and multivariable log-linear models that evaluated all measures of disease burden. Sensitivity analyses examined associations with future US burden, current and future measures of world disease burden, and a newly standardized NIH accounting method. Results: In univariate and multivariable analyses, disease-specific NIH funding levels increased with burden of disease measured in DALYs (p = 0.001), which accounted for 33% of funding level variation. No other factor predicted funding in multivariable models. Conditions receiving the most funding greater than expected based on disease burden were AIDS ($2474 M), diabetes mellitus ($390 M), and perinatal conditions ($297 M). Depression ($719 M), injuries ($691 M), and chronic obstructive pulmonary disease ($613 M) were the most underfunded. Results were similar using estimates of future US burden, current and future world disease burden, and alternate NIH accounting methods. Conclusions: Current levels of NIH disease-specific research funding correlate modestly with US disease burden, and correlation has not improved in the last decade.                                                                                                                         0.349948\n",
      "\\nThe incidence and prevalence of paraneoplastic glomerulopathy, especially associated with carcinoma, are a matter of debate and the causal link between cancer and glomerular diseases remains unclear. The aim of this study was to evaluate renal biopsies of selected bitches with spontaneous mammary gland carcinoma. We hypothesized that dogs with mammary carcinomas would show histologic evidence of glomerular pathology. A prospective study was performed in dogs with naturally occurring mammary carcinoma that were undergoing tumor resection and ovariohysterectomy. We evaluated renal biopsies of 32 bitches with spontaneous mammary gland carcinoma and 11 control dogs without mammary gland neoplasia. Samples were obtained from the left kidney and the biopsy material was divided for light microscopy (LM), immunofluorescence (IF) and transmission electron microscopy (TEM). Light microscopy abnormalities were identified in 78.1% of dogs with mammary carcinoma (n = 25) and in none of the dogs in the control group. Focal glomerular mesangial matrix expansion was the most common alteration (n = 15, 60.0%), but mesangial cell proliferation (n = 9, 36.0%) and focal segmental glomerulosclerosis (n = 9, 36.0%), synechiae (n = 7, 28.0%), and globally sclerotic glomeruli (n = 6, 24.0%) were also frequent in dogs with malignancy. Immunofluorescence microscopy revealed strong IgM staining was demonstrated in 64.3% (n = 18) of carcinoma dogs. Transmission electron microscopy from dogs with carcinoma revealed slight changes, the most frequent of which was faint sub-endothelial and mesangial deposits of electron-dense material (78%). Mesangial cell interpositioning and segmental effacement of podocyte foot processes were identified in some specimens (45%). Changes in the glomerulus and proteinuria are common in dogs with naturally occurring mammary carcinoma and this condition appears to provide an excellent large animal model for cancer-associated glomerulopathy in humans.\\n    0.342415\n",
      "\\nThe PLoS Medicine editors argue for the need to fundamentally rethink how societies can look beyond the “medical” causes of disease in an effort to promote health and well-being.\\n                                                                                                                                                                                                                                                                                                                                                                                                                                                                                                                                                                                                                                                                                                                                                                                                                                                                                                                                                                                                                                                                                                                                                                                                                                                                                                                                                                                                                                                                                                                                                                                                                                                                                                                                                                                                                                                                                  0.244968\n",
      "Background: Exposure to beryllium may lead to granuloma formation and fibrosis in those who develop chronic beryllium disease (CBD). Although disease presentation varies from mild to severe, little is known about CBD phenotypes. This study characterized CBD disease phenotypes using longitudinal measures of lung function. Methods: Using a case-only study of 207 CBD subjects, subject-specific trajectories over time were estimated from longitudinal pulmonary function and exercise-tolerance tests. To estimate linear combinations of the 30-year values that define underlying patterns of lung function, we conducted factor analysis. Cluster analysis was then performed on all the predicted lung function values at 30 years. These estimates were used to identify underlying features and subgroups of CBD. Results: Two factors, or composite measures, explained nearly 70% of the co-variation among the tests; one factor represented pulmonary function in addition to oxygen consumption and workload during exercise, while the second factor represented exercise tests related to gas exchange. Factors were associated with granulomas on biopsy, exposure, steroid use and lung inflammation. Three clusters of patients (n = 53, n = 59 and, n = 95) were identified based on the collection of test values. Lower levels of each of the factor composite scores and cluster membership were associated with baseline characteristics of patients. Conclusions: Using factor analysis and cluster analysis, we identified disease phenotypes that were associated with baseline patient characteristics, suggesting that CBD is a heterogeneous disease with varying severity. These clinical tools may be used in future basic and clinical studies to help define the mechanisms and risk factors for disease severity.                                                                                                                                                                                                           0.179420\n",
      "Objective: To conduct a meta-analysis assessing the prevalence of vitiligo. Methods: Literatures that reported prevalence rates of vitiligo were identified using EMBASE, PubMed, the Cochrane Library, China National Knowledge Infrastructure (CNKI), Wanfang database and Weipu database for the period from inception to May 2016. We performed stratified analyses on possible sources of bias, including areas difference, years of publication, gender and age. Publication bias was assessed with Egger’s test method. Results: A total of 103 studies were eligible for inclusion. The pooled prevalence of vitiligo from 82 population- or community-based studies was 0.2% (95%CI: 0.1%–0.2%) and from 22 hospital-based studies was 1.8% (95%CI: 1.4%–2.1%). A relatively high prevalence of vitiligo was found in Africa area and in female patients. For population- or community-based studies, the prevalence has maintained at a low level in recent 20 years and it has increased with age gradually. For hospital-based studies, the prevalence has showed a decreased trend from 60s till now or from young to old. No significant publication bias existed in hospital-based studies (t = 0.47, P = 0.643), while a significant publication bias existed in population- or community-based studies (t = 2.31, P = 0.026). Conclusion: A relatively high prevalence of vitiligo was found in Africa area and in female patients. The prevalence has maintained at a low level in recent years. It showed an inverse trend with age increment in population- or community-based studies and hospital-based studies.                                                                                                                                                                                                                                                                                                                                                                                                                                  0.165536\n",
      "                                                                                                                                                                                                                                                                                                                                                                                                                                                                                                                                                                                                                                                                                                                                                                                                                                                                                                                                                                                                                                                                                                                                                                                                                                                                                                                                                                                                                                                                                                                                                                                                                                                                                                                                                                                                                                                                                                                                                                                                                                                                        0.146723\n",
      "\\n\\t\\t\\t\\tPrevalence of healthcare associated infections remains high in patients in intensive care units (ICU), estimated at 23.4% in 2011. It is important to reduce the overall risk while minimizing the cost and disruption to service provision by targeted infection control interventions. The aim of this study was to develop a monitoring tool to analyze the spatial variability of bacteriological contamination within the healthcare environment to assist in the planning of interventions. Within three cross-sectional surveys, in two ICU wards, air and surface samples from different heights and locations were analyzed. Surface sampling was carried out with tryptic Soy Agar contact plates and Total Viable Counts (TVC) were calculated at 48hrs (incubation at 37°C). TVCs were analyzed using Poisson Generalized Additive Mixed Model for surface type analysis, and for spatial analysis. Through three cross-sectional survey, 370 samples were collected. Contamination varied from place-to-place, height-to-height, and by surface type. Hard-to-reach surfaces, such as bed wheels and floor area under beds, were generally more contaminated, but the height level at which maximal TVCs were found changed between cross-sectional surveys. Bedside locations and bed occupation were risk factors for contamination. Air sampling identified clusters of contamination around the nursing station and surface sampling identified contamination clusters at numerous bed locations. By investigating dynamic hospital wards, the methodology employed in this study will be useful to monitor contamination variability within the healthcare environment and should help to assist in the planning of interventions.\\n\\t\\t\\t                                                                                                                                                                                                                                                                                                  0.113846\n",
      "\\n        There are greater tensions than ever before between promoting trade and protecting health. Human health could lose out to trade liberalization unless the health community fights its case.\\n                                                                                                                                                                                                                                                                                                                                                                                                                                                                                                                                                                                                                                                                                                                                                                                                                                                                                                                                                                                                                                                                                                                                                                                                                                                                                                                                                                                                                                                                                                                                                                                                                                                                                                                                                                                                                                                                 0.060407\n"
     ]
    },
    {
     "name": "stdout",
     "output_type": "stream",
     "text": [
      "Name: 3, dtype: float64\n",
      "Component 4:\n",
      "Background: Race and ethnicity, typically defined as how individuals self-identify, are complex social constructs. Self-identified racial/ethnic minorities are less likely to receive preventive care and more likely to report healthcare discrimination than self-identified non-Hispanic whites. However, beyond self-identification, these outcomes may vary depending on whether racial/ethnic minorities are perceived by others as being minority or white; this perception is referred to as socially-assigned race. Purpose: To examine the associations between socially-assigned race and healthcare discrimination and receipt of selected preventive services. Methods: Cross-sectional analysis of the 2004 Behavioral Risk Factor Surveillance System “Reactions to Race” module. Respondents from seven states and the District of Columbia were categorized into 3 groups, defined by a composite of self-identified race/socially-assigned race: Minority/Minority (M/M, n = 6,837), Minority/White (M/W, n = 929), and White/White (W/W, n = 25,913). Respondents were 18 years or older, with 61.7% under age 60; 51.8% of respondents were female. Measures included reported healthcare discrimination and receipt of vaccinations and cancer screenings. Results: Racial/ethnic minorities who reported being socially-assigned as minority (M/M) were more likely to report healthcare discrimination compared with those who reported being socially-assigned as white (M/W) (8.9% vs. 5.0%, p = 0.002). Those reporting being socially-assigned as white (M/W and W/W) had similar rates for past-year influenza (73.1% vs. 74.3%) and pneumococcal (69.3% vs. 58.6%) vaccinations; however, rates were significantly lower among M/M respondents (56.2% and 47.6%, respectively, p-values<0.05). There were no significant differences between the M/M and M/W groups in the receipt of cancer screenings. Conclusions: Racial/ethnic minorities who reported being socially-assigned as white are more likely to receive preventive vaccinations and less likely to report healthcare discrimination compared with those who are socially-assigned as minority. Socially-assigned race/ethnicity is emerging as an important area for further research in understanding how race/ethnicity influences health outcomes.     0.529919\n",
      "Background: There is some evidence that home safety assessment and modification (HSAM) is effective in reducing falls in older people. But there are various knowledge gaps, including around cost-effectiveness and also the impacts at a health district-level. Methods and findings: A previously established Markov macro-simulation model built for the whole New Zealand (NZ) population (Pega et al 2016, Injury Prevention) was enhanced and adapted to a health district level. This district was Counties Manukau District Health Board, which hosts 42,000 people aged 65+ years. A health system perspective was taken and a discount rate of 3% was used for both health gain and costs. Intervention effectiveness estimates came from a systematic review, and NZ-specific intervention costs were extracted from a randomized controlled trial. Conclusions: This modeling study suggests that a HSAM program could produce considerable health gain and be cost-effective for older people at a health district level. Nevertheless, comparisons may be desirable with other falls prevention interventions such as group exercise programs, which also provide social contact and may prevent various chronic diseases.                                                                                                                                                                                                                                                                                                                                                                                                                                                                                                                                                                                                                                                                                                                                                                                                                                                                                                                                                                                                                                                                                                               0.517700\n",
      "\\nTo establish strategic priorities for the Public Health Agency of Sweden we prioritized pathogens according to their public health relevance in Sweden in order to guide resource allocation. We then compared the outcome to ongoing surveillance. We used a modified prioritization method developed at the Robert Koch Institute in Germany. In a Delphi process experts scored pathogens according to ten variables. We ranked the pathogens according to the total score and divided them into four priority groups. We then compared the priority groups to self-reported time spent on surveillance by epidemiologists and ongoing programmes for surveillance through mandatory and/or voluntary notifications and for surveillance of typing results. 106 pathogens were scored. The result of the prioritization process was similar to the outcome of the prioritization in Germany. Common pathogens such as calicivirus and Influenza virus as well as blood-borne pathogens such as human immunodeficiency virus, hepatitis B and C virus, gastro-intestinal infections such as Campylobacter and Salmonella and vector-borne pathogens such as Borrelia were all in the highest priority group. 63% of time spent by epidemiologists on surveillance was spent on pathogens in the highest priority group and all pathogens in the highest priority group, except for Borrelia and varicella-zoster virus, were under surveillance through notifications. Ten pathogens in the highest priority group (Borrelia, calicivirus, Campylobacter, Echinococcus multilocularis, hepatitis C virus, HIV, respiratory syncytial virus, SARS- and MERS coronavirus, tick-borne encephalitis virus and varicella-zoster virus) did not have any surveillance of typing results. We will evaluate the possibilities of surveillance for the pathogens in the highest priority group where we currently do not have any ongoing surveillance and evaluate the need of surveillance for the pathogens from the low priority group where there is ongoing surveillance in order to focus our work on the pathogens with the highest relevance.\\n                                                                                                                                                                                                     0.481961\n",
      "Background: An adequate health workforce force is central to universal health coverage and positive public health outcomes. However many African countries have critical shortages of healthcare workers, which are worse in primary healthcare. The aim of this study was to explore the perceptions of healthcare workers, policy makers and the community on the shortage of healthcare workers in Botswana. Method: Fifteen focus group discussions were conducted with three groups of policy makers, six groups of healthcare workers and six groups of community members in rural, urban and remote rural health districts of Botswana. All the participants were 18 years and older. Recruitment was purposive and the framework method was used to inductively analyse the data. Results: There was a perceived shortage of healthcare workers in primary healthcare, which was believed to result from an increased need for health services, inequitable distribution of healthcare workers, migration and too few such workers being trained. Migration was mainly the result of unfavourable personal and family factors, weak and ineffective healthcare and human resources management, low salaries and inadequate incentives for rural and remote area service. Conclusions: Botswana has a perceived shortage of healthcare workers, which is worse in primary healthcare and rural areas, as a result of multiple complex factors. To address the scarcity the country should train adequate numbers of healthcare workers and distribute them equitably to sufficiently resourced healthcare facilities. They should be competently managed and adequately remunerated and the living conditions and rural infrastructure should also be improved.                                                                                                                                                                                                                                                                                                                                                                                                                                                                                                                                                                                  0.252509\n",
      "\\nAs one article in a four-part PLoS Medicine series on water and sanitation, David Trouba and colleagues discuss the importance of improved sanitation to health and the role that the health sector can play in its advocacy.\\n                                                                                                                                                                                                                                                                                                                                                                                                                                                                                                                                                                                                                                                                                                                                                                                                                                                                                                                                                                                                                                                                                                                                                                                                                                                                                                                                                                                                                                                                                                                                                                                                                                                                                                                                                                                                                                                                                                                                                                                                                                                                                                                       0.225298\n",
      ": Jonathan Quick and colleagues discuss how women's health world-wide can be improved through universal health coverage.                                                                                                                                                                                                                                                                                                                                                                                                                                                                                                                                                                                                                                                                                                                                                                                                                                                                                                                                                                                                                                                                                                                                                                                                                                                                                                                                                                                                                                                                                                                                                                                                                                                                                                                                                                                                                                                                                                                                                                                                                                                                                                                                                                                                                                0.186944\n",
      "Importance: The Human Immunodeficiency Virus (HIV) epidemic has evolved, with an increasing non-communicable disease (NCD) burden emerging and need for long-term management, yet there are limited data to help delineate the optimal care model to screen for NCDs for this patient population. Objective: The primary aim was to compare rates of NCD preventive screening in persons living with HIV/AIDS (PLWHA) by type of HIV care model, focusing on metabolic/cardiovascular disease (CVD) and cancer screening. We hypothesized that primary care models that included generalists would have higher preventive screening rates. Design: Prospective observational cohort study. Setting: Partners HealthCare System (PHS) encompassing Brigham & Women’s Hospital, Massachusetts General Hospital, and affiliated community health centers. Participants: PLWHA age >18 engaged in active primary care at PHS. Exposure: HIV care model categorized as infectious disease (ID) providers only, generalist providers only, or ID plus generalist providers. Main Outcome(s) and Measures(s): Odds of screening for metabolic/CVD outcomes including hypertension (HTN), obesity, hyperlipidemia (HL), and diabetes (DM) and cancer including colorectal cancer (CRC), cervical cancer, and breast cancer. Results: In a cohort of 1565 PLWHA, distribution by HIV care model was 875 ID (56%), 90 generalists (6%), and 600 ID plus generalists (38%). Patients in the generalist group had lower odds of viral suppression but similar CD4 counts and ART exposure as compared with ID and ID plus generalist groups. In analyses adjusting for sociodemographic and clinical covariates and clustering within provider, there were no significant differences in metabolic/CVD or cancer screening rates among the three HIV care models. Conclusions: There were no notable differences in metabolic/CVD or cancer screening rates by HIV care model after adjusting for sociodemographic and clinical factors. These findings suggest that HIV patients receive similar preventive health care for NCDs independent of HIV care model.                                                                                                                                                                                                    0.110502\n",
      "Main Objective: Prompt access to primary healthcare before onset of severe illness is vital to improve morbidity and mortality rates. The Gambia has high rates of child mortality and research is needed to investigate contributing factors further. This study aimed to identify factors affecting access to primary healthcare for children <5 years (y) in rural Gambia focusing on delayed presentation and severe illness at presentation as indicators in a setting where primary healthcare is delivered free of charge. Methods: Data were extracted from an electronic medical records system at a rural primary healthcare clinic in The Gambia for children (0–5y) between 2009 and 2012. First clinic attendances with malaria, lower respiratory tract infections (LRTI) and diarrhoeal disease, the main contributors to mortality in this setting, were identified and categorized as delayed/non-delayed and severe/non-severe representing our two main outcome measures. Potential explanatory variables, identified through a comprehensive literature review were obtained from an ongoing demographic surveillance system for this population. Variables associated with either delayed/non-delayed and/or with severe/non-severe presentations identified by univariate analysis (p<0.1) were assessed in multivariate models using logistic regression (p<0.05). Results: Out of 6554 clinic attendances, 571 relevant attendances were identified. Delayed presentation was common (45% of all presentations) and there was a significantly reduced risk associated with being from villages with free regular access to transport (OR 0.502, 95%CI[0.310, 0.814], p = 0.005). Children from villages with free regular transport were also less likely to present with severe illness (OR 0.557, 95%CI[0.325, 0.954], p = 0.033). Conclusions: Transport availability rather than distance to health clinic is an important barrier to accessing healthcare for children in The Gambia, and public health interventions should aim to reduce this barrier.                                                                                                                                                                                                                                                                   0.084933\n",
      "\\nIt is increasingly evident that human diseases are not isolated from each other. Understanding how different diseases are related to each other based on the underlying biology could provide new insights into disease etiology, classification, and shared biological mechanisms. We have taken a computational approach to studying disease relationships through 1) systematic identification of disease associated genes by literature mining, 2) associating diseases to biological pathways where disease genes are enriched, and 3) linking diseases together based on shared pathways. We identified 4,195 candidate disease associated genes for 1028 diseases. On average, about 50% of disease associated genes of a disease are statistically mapped to pathways. We generated a disease network which consists of 591 diseases and 6,931 disease relationships. We examined properties of this network and provided examples of novel disease relationships which cannot be readily captured through simple literature search or gene overlap analysis. Our results could potentially provide insights into the design of novel, pathway-guided therapeutic interventions for diseases.\\n                                                                                                                                                                                                                                                                                                                                                                                                                                                                                                                                                                                                                                                                                                                                                                                                                                                                                                                                                                                                                                                                                                                                               0.062546\n",
      "Objectives: To estimate prevalence of chronic conditions among patients seeing a general practitioner (GP), patients attending general practice at least once in a year, and the Australian population. Design, setting and participants: A sub-study of the BEACH (Bettering the Evaluation and Care of Health) program, a continuous national study of general practice activity conducted between July 2008 and May 2009. Each of 290 GPs provided data for about 30 consecutive patients (total 8,707) indicating diagnosed chronic conditions, using their knowledge of the patient, patient self-report, and patient's health record. Main outcome measures: Estimates of prevalence of chronic conditions among patients surveyed, adjusted prevalence in patients who attended general practice at least once that year, and national population prevalence. Results: Two-thirds (66.3%) of patients surveyed had at least one chronic condition: most prevalent being hypertension (26.6%), hyperlipidaemia (18.5%), osteoarthritis (17.8%), depression (13.7%), gastro-oesophageal reflux disease (11.6%), asthma (9.5%) and Type 2 diabetes (8.3%). For patients who attended general practice at least once, we estimated 58.8% had at least one chronic condition. After further adjustment we estimated 50.8% of the Australian population had at least one chronic condition: hypertension (17.4%), hyperlipidaemia (12.7%), osteoarthritis (11.1%), depression (10.5%) and asthma (8.0%) being most prevalent. Conclusions: This study used GPs to gather information from their knowledge, the patient, and health records, to provide prevalence estimates that overcome weaknesses of studies using patient self-report or health record audit alone. Our results facilitate examination of primary care resource use in management of chronic conditions and measurement of prevalence of multimorbidity in Australia.                                                                                                                                                                                                                                                                                                                                                                                                              0.062156\n"
     ]
    },
    {
     "name": "stdout",
     "output_type": "stream",
     "text": [
      "Name: 4, dtype: float64\n"
     ]
    }
   ],
   "source": [
    "from sklearn.decomposition import TruncatedSVD\n",
    "from sklearn.pipeline import make_pipeline\n",
    "from sklearn.preprocessing import Normalizer\n",
    "\n",
    "#Our SVD data reducer.  We are going to reduce the feature space from 260 to 130.\n",
    "svd= TruncatedSVD(130)\n",
    "lsa = make_pipeline(svd, Normalizer(copy=False))\n",
    "# Run SVD on the training data, then project the training data.\n",
    "X_train_lsa = lsa.fit_transform(X_train_tfidf)\n",
    "\n",
    "variance_explained=svd.explained_variance_ratio_\n",
    "total_variance = variance_explained.sum()\n",
    "print(\"Percent variance captured by all components:\",total_variance*100)\n",
    "\n",
    "#Looking at what sorts of paragraphs our solution considers similar, for the first five identified topics\n",
    "paras_by_component=pd.DataFrame(X_train_lsa,index=X_train)\n",
    "for i in range(5):\n",
    "    print('Component {}:'.format(i))\n",
    "    print(paras_by_component.loc[:,i].sort_values(ascending=False)[0:10])"
   ]
  }
 ],
 "metadata": {
  "kernelspec": {
   "display_name": "Python 3",
   "language": "python",
   "name": "python3"
  },
  "language_info": {
   "codemirror_mode": {
    "name": "ipython",
    "version": 3
   },
   "file_extension": ".py",
   "mimetype": "text/x-python",
   "name": "python",
   "nbconvert_exporter": "python",
   "pygments_lexer": "ipython3",
   "version": "3.7.1"
  }
 },
 "nbformat": 4,
 "nbformat_minor": 2
}
