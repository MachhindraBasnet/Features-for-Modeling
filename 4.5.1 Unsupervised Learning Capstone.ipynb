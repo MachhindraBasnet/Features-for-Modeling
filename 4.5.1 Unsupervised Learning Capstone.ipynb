{
 "cells": [
  {
   "cell_type": "markdown",
   "metadata": {},
   "source": [
    "First, pick a set of texts. This can be either a series of novels, chapters, or articles. Anything you'd like. It just has to have multiple entries of varying characteristics. At least 100 should be good. There should also be at least 10 different authors, but try to keep the texts related (either all on the same topic of from the same branch of literature - something to make classification a bit more difficult than obviously different subjects).\n",
    "\n",
    "This capstone can be an extension of your NLP challenge if you wish to use the same corpus. If you found problems with that data set that limited your analysis, however, it may be worth using what you learned to choose a new corpus. Reserve 25% of your corpus as a test set.\n",
    "\n",
    "The first technique is to create a series of clusters. Try several techniques and pick the one you think best represents your data. Make sure there is a narrative and reasoning around why you have chosen the given clusters. Are authors consistently grouped into the same cluster?\n",
    "\n",
    "Next, perform some unsupervised feature generation and selection using the techniques covered in this unit and elsewhere in the course. Using those features then build models to attempt to classify your texts by author. Try different permutations of unsupervised and supervised techniques to see which combinations have the best performance.\n",
    "\n",
    "Lastly return to your holdout group. Does your clustering on those members perform as you'd expect? Have your clusters remained stable or changed dramatically? What about your model? Is it's performance consistent?\n",
    "\n",
    "If there is a divergence in the relative stability of your model and your clusters, delve into why.\n",
    "\n",
    "Your end result should be a write up of how clustering and modeling compare for classifying your texts. What are the advantages of each? Why would you want to use one over the other? Approximately 3-5 pages is a good length for your write up, and remember to include visuals to help tell your story!"
   ]
  },
  {
   "cell_type": "code",
   "execution_count": 57,
   "metadata": {},
   "outputs": [],
   "source": [
    "%matplotlib inline\n",
    "import numpy as np\n",
    "import pandas as pd\n",
    "import scipy\n",
    "import sklearn\n",
    "import matplotlib.pyplot as plt\n",
    "import seaborn as sns\n",
    "\n",
    "import nltk\n",
    "import re\n",
    "from nltk.corpus import stopwords\n",
    "import os\n",
    "from nltk.corpus import PlaintextCorpusReader\n",
    "from sklearn.model_selection import train_test_split\n",
    "from nltk.tokenize import word_tokenize\n",
    "from nltk.stem import WordNetLemmatizer\n",
    "from sklearn.feature_extraction.text import TfidfVectorizer\n",
    "from sklearn.decomposition import TruncatedSVD\n",
    "from sklearn.pipeline import make_pipeline\n",
    "from sklearn.preprocessing import Normalizer\n",
    "\n",
    "from sklearn.ensemble import RandomForestClassifier                          \n",
    "from sklearn.linear_model import LogisticRegression\n",
    "from sklearn.ensemble import GradientBoostingClassifier\n",
    "from sklearn.svm import SVC   \n",
    "from sklearn.model_selection import cross_val_score\n",
    "from sklearn.metrics import confusion_matrix"
   ]
  },
  {
   "cell_type": "markdown",
   "metadata": {},
   "source": [
    "The goal of this project is to train a model with texts from different authors, and determine the accuracy of the model when predicting from which author a new text belongs.\n"
   ]
  },
  {
   "cell_type": "markdown",
   "metadata": {},
   "source": [
    "Selecting 10 authors with literary works\n"
   ]
  },
  {
   "cell_type": "code",
   "execution_count": 59,
   "metadata": {},
   "outputs": [
    {
     "data": {
      "text/plain": [
       "'C:\\\\Users\\\\18644\\\\Desktop\\\\THINKFUL\\\\Data Science Bootcamp\\\\UNIT 4\\\\Lesson 4'"
      ]
     },
     "execution_count": 59,
     "metadata": {},
     "output_type": "execute_result"
    }
   ],
   "source": [
    "pwd"
   ]
  },
  {
   "cell_type": "code",
   "execution_count": 156,
   "metadata": {},
   "outputs": [],
   "source": [
    "# Make list of individual file ids\n",
    "file_info = os.listdir('Unsupervised capstone books')\n",
    "\n",
    "# Create blank labels list to populate\n",
    "labels = []\n",
    "\n",
    "# Iterate through list of files pulling out the author's name\n",
    "for file in file_info:\n",
    "    \n",
    "    # label author for each text \n",
    "    author = re.sub(\"[^a-zA-Z]\", '', file[0:4])\n",
    "       \n",
    "    # Append to labels list\n",
    "    labels.append([file, author])"
   ]
  },
  {
   "cell_type": "code",
   "execution_count": 62,
   "metadata": {},
   "outputs": [
    {
     "name": "stdout",
     "output_type": "stream",
     "text": [
      "2698\n"
     ]
    },
    {
     "data": {
      "text/plain": [
       "['350 BC', 'CATEGORIES', 'by Aristotle', 'translated by E . M . Edghill', '1']"
      ]
     },
     "execution_count": 62,
     "metadata": {},
     "output_type": "execute_result"
    }
   ],
   "source": [
    "corpus_root = 'Unsupervised capstone books'\n",
    "newcorpus = PlaintextCorpusReader(corpus_root, '.*')\n",
    "\n",
    "# Create blank lists to populate with sentence level data\n",
    "sent_list = []\n",
    "auth_list = []\n",
    "\n",
    "# Iterate through each book, create sentence level documents, maintaining author\n",
    "# information for each sentence\n",
    "for i in range(len(labels)):\n",
    "    sents = newcorpus.sents(labels[i][0]) #get sentences from document\n",
    "    joined_sents = [(' '.join(sent), labels[i][1]) for sent in sents]\n",
    "    \n",
    "    # write out to individual lists for easier text processing\n",
    "    for i in range(len(joined_sents)): \n",
    "        sent_list.append(joined_sents[i][0]) \n",
    "        auth_list.append(joined_sents[i][1])  \n",
    "\n",
    "print(len(sent_list))\n",
    "sent_list[:5]"
   ]
  },
  {
   "cell_type": "markdown",
   "metadata": {},
   "source": [
    "Clean the sentences"
   ]
  },
  {
   "cell_type": "code",
   "execution_count": 64,
   "metadata": {},
   "outputs": [
    {
     "name": "stdout",
     "output_type": "stream",
     "text": [
      "2698\n"
     ]
    },
    {
     "data": {
      "text/plain": [
       "['', '', 'by Aristotle', 'translated by E   M   Edghill', '']"
      ]
     },
     "execution_count": 64,
     "metadata": {},
     "output_type": "execute_result"
    }
   ],
   "source": [
    "sent_list_clean = []\n",
    "\n",
    "for sent in sent_list:\n",
    "    sent = re.sub(\"[^a-zA-Z]\", ' ', sent) #removing numeric and punctuation, all caps header sentence, replace with blank\n",
    "    if sent == sent.upper():\n",
    "         sent = \"\"\n",
    "    sent_list_clean.append(sent)\n",
    "        \n",
    "        \n",
    "#Inspect the cleaned sentences\n",
    "\n",
    "print(len(sent_list_clean))   \n",
    "sent_list_clean[:5]"
   ]
  },
  {
   "cell_type": "markdown",
   "metadata": {},
   "source": [
    "Now let us tokenize the sentences into words and get lemmas"
   ]
  },
  {
   "cell_type": "code",
   "execution_count": 66,
   "metadata": {},
   "outputs": [
    {
     "name": "stderr",
     "output_type": "stream",
     "text": [
      "[nltk_data] Downloading package wordnet to\n",
      "[nltk_data]     C:\\Users\\18644\\AppData\\Roaming\\nltk_data...\n",
      "[nltk_data]   Package wordnet is already up-to-date!\n"
     ]
    },
    {
     "data": {
      "text/plain": [
       "['', '', 'by Aristotle', 'translated by E M Edghill', '']"
      ]
     },
     "execution_count": 66,
     "metadata": {},
     "output_type": "execute_result"
    }
   ],
   "source": [
    "# import these modules \n",
    "import nltk\n",
    "nltk.download('wordnet')\n",
    "from nltk.corpus import wordnet\n",
    "from nltk.stem import WordNetLemmatizer \n",
    "lemmatizer = WordNetLemmatizer()\n",
    "\n",
    "# Create list to hold lemmatized sentences\n",
    "lemma_sents = []\n",
    "\n",
    "# Tokenize, get lemmas, and rejoin back to sentence level doc\n",
    "for sent in sent_list_clean:\n",
    "    words = word_tokenize(sent)                                 \n",
    "    word_lemma = [lemmatizer.lemmatize(word) for word in words] \n",
    "    sent_lemma = ' '.join(word_lemma)                           \n",
    "    lemma_sents.append(sent_lemma)\n",
    "\n",
    "# Inspect results\n",
    "lemma_sents[:5]"
   ]
  },
  {
   "cell_type": "markdown",
   "metadata": {},
   "source": [
    "We will now create a dataframe with the cleaned lists and remove all the blank lines. We will then move on to some unsupervised feature generation."
   ]
  },
  {
   "cell_type": "code",
   "execution_count": 67,
   "metadata": {},
   "outputs": [
    {
     "data": {
      "text/html": [
       "<div>\n",
       "<style scoped>\n",
       "    .dataframe tbody tr th:only-of-type {\n",
       "        vertical-align: middle;\n",
       "    }\n",
       "\n",
       "    .dataframe tbody tr th {\n",
       "        vertical-align: top;\n",
       "    }\n",
       "\n",
       "    .dataframe thead th {\n",
       "        text-align: right;\n",
       "    }\n",
       "</style>\n",
       "<table border=\"1\" class=\"dataframe\">\n",
       "  <thead>\n",
       "    <tr style=\"text-align: right;\">\n",
       "      <th></th>\n",
       "      <th>sent</th>\n",
       "      <th>author</th>\n",
       "    </tr>\n",
       "  </thead>\n",
       "  <tbody>\n",
       "    <tr>\n",
       "      <th>2</th>\n",
       "      <td>by Aristotle</td>\n",
       "      <td>aris</td>\n",
       "    </tr>\n",
       "    <tr>\n",
       "      <th>3</th>\n",
       "      <td>translated by E M Edghill</td>\n",
       "      <td>aris</td>\n",
       "    </tr>\n",
       "    <tr>\n",
       "      <th>5</th>\n",
       "      <td>Things are said to be named equivocally when t...</td>\n",
       "      <td>aris</td>\n",
       "    </tr>\n",
       "    <tr>\n",
       "      <th>6</th>\n",
       "      <td>Thus a real man and a figure in a picture can ...</td>\n",
       "      <td>aris</td>\n",
       "    </tr>\n",
       "    <tr>\n",
       "      <th>7</th>\n",
       "      <td>For should any one define in what sense each i...</td>\n",
       "      <td>aris</td>\n",
       "    </tr>\n",
       "  </tbody>\n",
       "</table>\n",
       "</div>"
      ],
      "text/plain": [
       "                                                sent author\n",
       "2                                       by Aristotle   aris\n",
       "3                          translated by E M Edghill   aris\n",
       "5  Things are said to be named equivocally when t...   aris\n",
       "6  Thus a real man and a figure in a picture can ...   aris\n",
       "7  For should any one define in what sense each i...   aris"
      ]
     },
     "execution_count": 67,
     "metadata": {},
     "output_type": "execute_result"
    }
   ],
   "source": [
    "#Create dataframe\n",
    "df = pd.DataFrame()\n",
    "df['sent']= lemma_sents\n",
    "df['author']= auth_list\n",
    "# Remove blank documents \n",
    "df = df[df.sent!=\"\"]\n",
    "df.head()"
   ]
  },
  {
   "cell_type": "code",
   "execution_count": 68,
   "metadata": {},
   "outputs": [
    {
     "name": "stdout",
     "output_type": "stream",
     "text": [
      "             sent\n",
      "author           \n",
      "aris    21.861885\n",
      "emer    14.650897\n",
      "jeff     1.640595\n",
      "kant    11.064479\n",
      "keat     9.156810\n",
      "plat     6.219000\n",
      "poe      3.967951\n",
      "shak    12.132774\n",
      "stev    15.604731\n",
      "wild     3.700878\n"
     ]
    }
   ],
   "source": [
    "# Examinng class balance.\n",
    "print((df.groupby('author').count()/df['sent'].count())*100)"
   ]
  },
  {
   "cell_type": "code",
   "execution_count": 78,
   "metadata": {},
   "outputs": [
    {
     "name": "stdout",
     "output_type": "stream",
     "text": [
      "(1834, 2)\n",
      "(787, 2)\n"
     ]
    }
   ],
   "source": [
    "#Splitting the dataframe to train and test sets\n",
    "df_train, df_test =train_test_split(df, stratify = df['author'], test_size =0.3, random_state=42)\n",
    "\n",
    "print(df_train.shape)\n",
    "print(df_test.shape)"
   ]
  },
  {
   "cell_type": "markdown",
   "metadata": {},
   "source": [
    "TF-IDF Vector\n",
    "The first feature generation technique we'll use is to create term frequency-inverse document frequency (TF-IDF) vectors for each word. The following components make up the TF-IDF value:\n",
    "\n",
    "Document frequency - How many documents the word appears in. More common words will have a higher document frequency.\n",
    "Inverse document frequency - Takes the log (base 2) of the ratio between the total documents to the document frequency. More frequeny words are penalized whereas less common words become more influential.\n",
    "Term frequency - How many times the term appears in a document. In our case, it's how many times a word appears in a sentence.\n",
    "Tf-idf - Product of the term frequency multiplied by the inverse document frequency. Largest tf-idf scores will represent words that occur a lot in a small number of sentences, and the lowest for a word that occurs in many sentences. The benefit of tf-idf is that you can identify unique words that may help distinguish text documents from one another.\n"
   ]
  },
  {
   "cell_type": "code",
   "execution_count": 90,
   "metadata": {},
   "outputs": [
    {
     "name": "stdout",
     "output_type": "stream",
     "text": [
      "(1834, 2598)\n",
      "(787, 2598)\n"
     ]
    }
   ],
   "source": [
    "#We can calculate our TF-IDF vector matrix using TfidfVectorizer. \n",
    "#The latter allows us to clean up more our sentences removing stop words and applying lowercase to everything.\n",
    "\n",
    "vectorizer = TfidfVectorizer(max_df=0.5, # drop words that occur in more than half the paragraphs\n",
    "                             min_df=2, # only use words that appear at least twice\n",
    "                             stop_words='english', \n",
    "                             lowercase=True, #convert everything to lower case \n",
    "                             use_idf=True,#we definitely want to use inverse document frequencies in our weighting\n",
    "                             norm='l2', #Applies a correction factor so that longer paragraphs and shorter paragraphs get treated equally\n",
    "                             smooth_idf=True #Adds 1 to all document frequencies, as if an extra document existed that used every word once.  Prevents divide-by-zero errors\n",
    "                            )\n",
    "\n",
    "\n",
    "\n",
    "X_train = df_train['sent']\n",
    "X_test = df_test['sent']\n",
    "\n",
    "#Vectorizing the train and test data\n",
    "X_train_tfidf = vectorizer.fit_transform(X_train)\n",
    "X_test_tfidf = vectorizer.transform(X_test)\n",
    "\n",
    "print(X_train_tfidf.shape)\n",
    "print(X_test_tfidf.shape)\n",
    "\n"
   ]
  },
  {
   "cell_type": "code",
   "execution_count": 91,
   "metadata": {},
   "outputs": [
    {
     "name": "stdout",
     "output_type": "stream",
     "text": [
      "Train:\n",
      "           word  avg_weight\n",
      "2457        wa    0.018803\n",
      "1372       man    0.016083\n",
      "2291     thing    0.015601\n",
      "465   contrary    0.011714\n",
      "1268       law    0.010544\n",
      "23      action    0.010381\n",
      "1012        ha    0.010164\n",
      "2315      time    0.009887\n",
      "1912      said    0.009636\n",
      "1768   quality    0.009576\n",
      "Test\"\n",
      "           word  avg_weight\n",
      "1372       man    0.016691\n",
      "2457        wa    0.016543\n",
      "313       case    0.016270\n",
      "1311      like    0.014171\n",
      "1268       law    0.012923\n",
      "465   contrary    0.012436\n",
      "2296      thou    0.012112\n",
      "1012        ha    0.011863\n",
      "2315      time    0.011700\n",
      "537        day    0.011620\n"
     ]
    }
   ],
   "source": [
    "# Calculate weights on training data\n",
    "weights = np.asarray(X_train_tfidf.mean(axis=0)).ravel().tolist()\n",
    "weights_df = pd.DataFrame({'word': vectorizer.get_feature_names(), 'avg_weight': weights})\n",
    "print(\"Train:\\n\", weights_df.sort_values(by='avg_weight', ascending=False).head(10))\n",
    "\n",
    "#Calculate the weights on test data\n",
    "weights = np.asarray(X_test_tfidf.mean(axis=0)).ravel().tolist()\n",
    "weights_df = pd.DataFrame({'word':vectorizer.get_feature_names(), 'avg_weight':weights})\n",
    "print('Test\"\\n', weights_df.sort_values(by='avg_weight', ascending=False).head(10))"
   ]
  },
  {
   "cell_type": "markdown",
   "metadata": {},
   "source": [
    "Latent Semantic Analysis using Singular Value Decomposition\n",
    "Latent Semantic Analysis (also called Latent Semantic Indexing) is the process of applying PCA to a tf-idf term-document matrix. What we get, in the end, is clusters of terms that presumably reflect a topic. Each document will get a score for each topic, with higher scores indicating that the document is relevant to the topic. Documents can pertain to more than one topic."
   ]
  },
  {
   "cell_type": "code",
   "execution_count": 92,
   "metadata": {},
   "outputs": [
    {
     "name": "stdout",
     "output_type": "stream",
     "text": [
      "Percent variance captured by components: 76.15350150887224\n",
      "Component 0:\n",
      "sent\n",
      "Again if great and small are contrary it will come about that the same subject can admit contrary quality at one and the same time and that thing will themselves be contrary to themselves                                                                                                                                                                                                                                          0.424574\n",
      "For man is predicated of the individual man but is not present in any subject for manhood is not present in the individual man                                                                                                                                                                                                                                                                                                       0.407424\n",
      "Man is thus metamorphosed into a thing into many thing                                                                                                                                                                                                                                                                                                                                                                               0.403700\n",
      "There is lastly a class of thing which are neither present in a subject nor predicable of a subject such a the individual man or the individual horse                                                                                                                                                                                                                                                                                0.387687\n",
      "In the case of secondary substance when we speak for instance of man or animal our form of speech give the impression that we are here also indicating that which is individual but the impression is not strictly true for a secondary substance is not an individual but a class with a certain qualification for it is not one and single a a primary substance is the word man animal are predicable of more than one subject    0.377007\n",
      "Name: 0, dtype: float64\n",
      "Component 1:\n",
      "sent\n",
      "Thus substance can not be present in a subject                                                                                                                                                                                                                                                        0.418378\n",
      "For primary substance is neither present in a subject nor predicated of a subject while with regard to secondary substance it is clear from the following argument apart from others that they are not present in a subject                                                                           0.389660\n",
      "It is by themselves changing that substance admit contrary quality                                                                                                                                                                                                                                    0.342277\n",
      "Yet this is not peculiar to substance for it is also the case that differentia can not be present in subject                                                                                                                                                                                          0.340139\n",
      "The fact that the part of substance appear to be present in the whole a in a subject should not make u apprehensive lest we should have to admit that such part are not substance for in explaining the phrase being present in a subject we stated that we meant otherwise than a part in a whole    0.328922\n",
      "Name: 1, dtype: float64\n",
      "Component 2:\n",
      "sent\n",
      "All legislation whether relating to internal or external action and whether prescribed a priori by mere reason or laid down by the will of another involves two element First a law which represents the action that ought to happen a necessary objectively thus making the action a duty second a motive which connects the principle determining the will to this action with the mental representation of the law subjectively so that the law make duty the motive of the action    0.534959\n",
      "Ethical legislation on the other hand make internal action also duty but not to the exclusion of the external for it embrace everything which is of the nature of duty                                                                                                                                                                                                                                                                                                                   0.471527\n",
      "The legislation which make an action a duty and this duty at the same time a motive is ethical                                                                                                                                                                                                                                                                                                                                                                                           0.463336\n",
      "In short the peculiarity of ethical legislation is to enjoin the performance of certain action merely because they are duty and to make the principle of duty itself whatever be it source or occasion the sole sufficing motive of the activity of the will                                                                                                                                                                                                                             0.442370\n",
      "Juridical duty are such a may be promulgated by external legislation ethical duty are those for which such legislation is not possible                                                                                                                                                                                                                                                                                                                                                   0.442138\n",
      "Name: 2, dtype: float64\n",
      "Component 3:\n",
      "sent\n",
      "Without it he is not yet man                                                                                                                                                             0.665424\n",
      "Thus man is predicated of the individual man but animal is predicated of man it will therefore be predicable of the individual man also for the individual man is both man and animal    0.646486\n",
      "For instance man is predicted of the individual man                                                                                                                                      0.575905\n",
      "For man is predicated of the individual man but is not present in any subject for manhood is not present in the individual man                                                           0.572111\n",
      "For instance one particular substance man can not be more or le man either than himself at some other time or than some other man                                                        0.509902\n",
      "Name: 3, dtype: float64\n",
      "Component 4:\n",
      "sent\n",
      "Thus substance can not be present in a subject                                                                                                                                                                                                                                                        0.597322\n",
      "For primary substance is neither present in a subject nor predicated of a subject while with regard to secondary substance it is clear from the following argument apart from others that they are not present in a subject                                                                           0.573041\n",
      "The fact that the part of substance appear to be present in the whole a in a subject should not make u apprehensive lest we should have to admit that such part are not substance for in explaining the phrase being present in a subject we stated that we meant otherwise than a part in a whole    0.476980\n",
      "Other thing again are both predicable of a subject and present in a subject                                                                                                                                                                                                                           0.471561\n",
      "Of thing themselves some are predicable of a subject and are never present in a subject                                                                                                                                                                                                               0.471561\n",
      "Name: 4, dtype: float64\n",
      "Component 5:\n",
      "sent\n",
      "It wa excavated to the depth of a hundred foot and it breadth wa a stadium everywhere it wa carried round the whole of the plain and wa ten thousand stadium in length                                                                                                                                                                                                                       0.481193\n",
      "There were buffoon there were improvisatori there were ballet dancer there were musician there wa Beauty there wa wine                                                                                                                                                                                                                                                                       0.452788\n",
      "wa it not white                                                                                                                                                                                                                                                                                                                                                                              0.428911\n",
      "The whole country wa said by him to be very lofty and precipitous on the side of the sea but the country immediately about and surrounding the city wa a level plain itself surrounded by mountain which descended towards the sea it wa smooth and even and of an oblong shape extending in one direction three thousand stadium but across the centre inland it wa two thousand stadium    0.412002\n",
      "The third wa green throughout and so were the casement                                                                                                                                                                                                                                                                                                                                       0.403151\n",
      "Name: 5, dtype: float64\n"
     ]
    }
   ],
   "source": [
    "# Reduce feature space to ~30% of original\n",
    "svd = TruncatedSVD(600)\n",
    "\n",
    "# Make pipeline to run svd and normalize results\n",
    "lsa_pipe = make_pipeline(svd, Normalizer())\n",
    "\n",
    "# Fit with training data, transform test data\n",
    "X_train_lsa = lsa_pipe.fit_transform(X_train_tfidf)\n",
    "X_test_lsa = lsa_pipe.transform(X_test_tfidf)\n",
    "\n",
    "# Examine variance captured in reduced feature space\n",
    "variance_explained = svd.explained_variance_ratio_\n",
    "total_variance = variance_explained.sum()\n",
    "print('Percent variance captured by components:', total_variance*100)\n",
    "\n",
    "sent_by_component = pd.DataFrame(X_train_lsa, index=X_train)\n",
    "\n",
    "# Look at values from first 5 components\n",
    "for i in range(6):\n",
    "    print('Component {}:'.format(i))\n",
    "    print(sent_by_component.loc[:, i].sort_values(ascending=False)[:5])"
   ]
  },
  {
   "cell_type": "markdown",
   "metadata": {},
   "source": [
    "We have reduced the feature space by 30% and captured 76% variance"
   ]
  },
  {
   "cell_type": "markdown",
   "metadata": {},
   "source": [
    "Supervised models\n",
    "We will try out our feature sets on different classification models and see how well they perform\n",
    "Random Forest Classifier\n",
    "Logistic Regression\n",
    "Gradient Boost Classifier"
   ]
  },
  {
   "cell_type": "code",
   "execution_count": 102,
   "metadata": {},
   "outputs": [],
   "source": [
    "# Target variables\n",
    "Y_train = df_train['author']\n",
    "Y_test = df_test['author']"
   ]
  },
  {
   "cell_type": "code",
   "execution_count": 104,
   "metadata": {},
   "outputs": [],
   "source": [
    "#TFIDF Features\n",
    "X_train=X_train_tfidf\n",
    "X_test = X_test_tfidf"
   ]
  },
  {
   "cell_type": "code",
   "execution_count": 147,
   "metadata": {},
   "outputs": [
    {
     "name": "stdout",
     "output_type": "stream",
     "text": [
      "Train accuracy: 0.6526717557251909\n",
      "Test accuracy: 0.5781448538754765\n"
     ]
    }
   ],
   "source": [
    "# Specify the classifier\n",
    "rf_params = {\n",
    "    'n_estimators':100,\n",
    "    'max_depth':3,\n",
    "    'random_state':42,\n",
    "    'class_weight':'balanced' \n",
    "}  \n",
    "rfm = RandomForestClassifier(** rf_params)\n",
    "rfm.fit(X_train, Y_train)\n",
    "rfm_predictions = rfm.predict(X_test)\n",
    "\n",
    "print('Train accuracy:', rfm.score(X_train, Y_train))\n",
    "print('Test accuracy:', rfm.score(X_test, Y_test))"
   ]
  },
  {
   "cell_type": "code",
   "execution_count": 148,
   "metadata": {},
   "outputs": [
    {
     "name": "stdout",
     "output_type": "stream",
     "text": [
      "Accuracy Score for Random Forest Model: 0.5781448538754765\n"
     ]
    },
    {
     "data": {
      "image/png": "[encoded data removed]",
      "text/plain": [
       "<Figure size 432x288 with 2 Axes>"
      ]
     },
     "metadata": {
      "needs_background": "light"
     },
     "output_type": "display_data"
    }
   ],
   "source": [
    "from sklearn.metrics import accuracy_score\n",
    "from sklearn.metrics import classification_report, confusion_matrix\n",
    "print(\"Accuracy Score for Random Forest Model: {}\".format(accuracy_score(Y_test, rfm_predictions)))\n",
    "Confusion_matrix = confusion_matrix(Y_test, rfm_predictions)\n",
    "sns.heatmap(Confusion_matrix,\n",
    "           cmap= 'coolwarm_r',\n",
    "           annot = True,\n",
    "           Linewidths = 0.5\n",
    ")\n",
    "plt.title('Confusion matrix  for Random Forest Model')\n",
    "plt.xlabel('Predicted class')\n",
    "plt.ylabel('Actual class')\n",
    "plt.show()"
   ]
  },
  {
   "cell_type": "code",
   "execution_count": 134,
   "metadata": {},
   "outputs": [
    {
     "name": "stdout",
     "output_type": "stream",
     "text": [
      "Train accuracy: 0.6526717557251909\n",
      "Test accuracy: 0.5781448538754765\n",
      "Accuracy Score for Random Forest Model: 0.5781448538754765\n"
     ]
    },
    {
     "data": {
      "image/png": "[encoded data removed]",
      "text/plain": [
       "<Figure size 432x288 with 2 Axes>"
      ]
     },
     "metadata": {
      "needs_background": "light"
     },
     "output_type": "display_data"
    }
   ],
   "source": [
    "#LSA Features\n",
    "X_train = X_train_lsa\n",
    "X_test= X_test_lsa\n",
    "# Specify the classifier\n",
    "rf_params = {\n",
    "    'n_estimators':100,\n",
    "    'max_depth':3,\n",
    "    'random_state':42,\n",
    "    'class_weight':'balanced' \n",
    "}  \n",
    "rfm = RandomForestClassifier(** rf_params)\n",
    "rfm.fit(X_train, Y_train)\n",
    "rfm_predictions = rfm.predict(X_test)\n",
    "\n",
    "print('Train accuracy:', rfm.score(X_train, Y_train))\n",
    "print('Test accuracy:', rfm.score(X_test, Y_test))\n",
    "print(\"Accuracy Score for Random Forest Model: {}\".format(accuracy_score(Y_test, rfm_predictions)))\n",
    "Confusion_matrix = confusion_matrix(Y_test, rfm_predictions)\n",
    "sns.heatmap(Confusion_matrix,\n",
    "           cmap= 'coolwarm_r',\n",
    "           annot = True,\n",
    "           Linewidths = 0.5\n",
    ")\n",
    "plt.title('Confusion matrix  for Random Forest Model')\n",
    "plt.xlabel('Predicted class')\n",
    "plt.ylabel('Actual class')\n",
    "plt.show()"
   ]
  },
  {
   "cell_type": "markdown",
   "metadata": {},
   "source": [
    "We can see both tfidf and LSM features set performed similar with train and test sets. We can see that in both sets, we predominantely identified the first authors sentences"
   ]
  },
  {
   "cell_type": "code",
   "execution_count": 136,
   "metadata": {},
   "outputs": [
    {
     "data": {
      "text/html": [
       "<div>\n",
       "<style scoped>\n",
       "    .dataframe tbody tr th:only-of-type {\n",
       "        vertical-align: middle;\n",
       "    }\n",
       "\n",
       "    .dataframe tbody tr th {\n",
       "        vertical-align: top;\n",
       "    }\n",
       "\n",
       "    .dataframe thead th {\n",
       "        text-align: right;\n",
       "    }\n",
       "</style>\n",
       "<table border=\"1\" class=\"dataframe\">\n",
       "  <thead>\n",
       "    <tr style=\"text-align: right;\">\n",
       "      <th></th>\n",
       "      <th>word</th>\n",
       "      <th>importance</th>\n",
       "    </tr>\n",
       "  </thead>\n",
       "  <tbody>\n",
       "    <tr>\n",
       "      <th>2457</th>\n",
       "      <td>wa</td>\n",
       "      <td>0.053197</td>\n",
       "    </tr>\n",
       "    <tr>\n",
       "      <th>1716</th>\n",
       "      <td>principle</td>\n",
       "      <td>0.035644</td>\n",
       "    </tr>\n",
       "    <tr>\n",
       "      <th>1205</th>\n",
       "      <td>island</td>\n",
       "      <td>0.026241</td>\n",
       "    </tr>\n",
       "    <tr>\n",
       "      <th>1268</th>\n",
       "      <td>law</td>\n",
       "      <td>0.023300</td>\n",
       "    </tr>\n",
       "    <tr>\n",
       "      <th>1299</th>\n",
       "      <td>let</td>\n",
       "      <td>0.023017</td>\n",
       "    </tr>\n",
       "    <tr>\n",
       "      <th>680</th>\n",
       "      <td>duty</td>\n",
       "      <td>0.022661</td>\n",
       "    </tr>\n",
       "    <tr>\n",
       "      <th>2030</th>\n",
       "      <td>sing</td>\n",
       "      <td>0.022063</td>\n",
       "    </tr>\n",
       "    <tr>\n",
       "      <th>973</th>\n",
       "      <td>government</td>\n",
       "      <td>0.017460</td>\n",
       "    </tr>\n",
       "    <tr>\n",
       "      <th>32</th>\n",
       "      <td>administration</td>\n",
       "      <td>0.014755</td>\n",
       "    </tr>\n",
       "    <tr>\n",
       "      <th>384</th>\n",
       "      <td>clock</td>\n",
       "      <td>0.014194</td>\n",
       "    </tr>\n",
       "  </tbody>\n",
       "</table>\n",
       "</div>"
      ],
      "text/plain": [
       "                word  importance\n",
       "2457              wa    0.053197\n",
       "1716       principle    0.035644\n",
       "1205          island    0.026241\n",
       "1268             law    0.023300\n",
       "1299             let    0.023017\n",
       "680             duty    0.022661\n",
       "2030            sing    0.022063\n",
       "973       government    0.017460\n",
       "32    administration    0.014755\n",
       "384            clock    0.014194"
      ]
     },
     "execution_count": 136,
     "metadata": {},
     "output_type": "execute_result"
    }
   ],
   "source": [
    "# Use model to get feature importance\n",
    "feat_importance = rfm.fit(X_train_tfidf, Y_train).feature_importances_\n",
    "features = vectorizer.get_feature_names()\n",
    "\n",
    "importance_df = pd.DataFrame({'word': vectorizer.get_feature_names(), 'importance': feat_importance})\n",
    "importance_df.sort_values(by='importance', ascending=False).head(10)"
   ]
  },
  {
   "cell_type": "markdown",
   "metadata": {},
   "source": [
    "We can see 'wa' as the most important word followed by 'principle'"
   ]
  },
  {
   "cell_type": "code",
   "execution_count": null,
   "metadata": {},
   "outputs": [],
   "source": [
    "Logistic Regression"
   ]
  },
  {
   "cell_type": "code",
   "execution_count": 158,
   "metadata": {},
   "outputs": [
    {
     "name": "stderr",
     "output_type": "stream",
     "text": [
      "C:\\Users\\18644\\Anaconda3\\lib\\site-packages\\sklearn\\linear_model\\logistic.py:433: FutureWarning: Default solver will be changed to 'lbfgs' in 0.22. Specify a solver to silence this warning.\n",
      "  FutureWarning)\n",
      "C:\\Users\\18644\\Anaconda3\\lib\\site-packages\\sklearn\\linear_model\\logistic.py:460: FutureWarning: Default multi_class will be changed to 'auto' in 0.22. Specify the multi_class option to silence this warning.\n",
      "  \"this warning.\", FutureWarning)\n"
     ]
    },
    {
     "name": "stdout",
     "output_type": "stream",
     "text": [
      "Train accuracy: 0.8985823336968375\n",
      "Test accuracy: 0.7280813214739518\n",
      "Accuracy Score for Random Forest Model: 0.7280813214739518\n"
     ]
    },
    {
     "data": {
      "image/png": "[encoded data removed]",
      "text/plain": [
       "<Figure size 432x288 with 2 Axes>"
      ]
     },
     "metadata": {
      "needs_background": "light"
     },
     "output_type": "display_data"
    }
   ],
   "source": [
    "#tfidf features\n",
    "X_train=X_train_tfidf\n",
    "X_test = X_test_tfidf\n",
    "\n",
    "#Fitting the model\n",
    "lr= LogisticRegression()\n",
    "lr.fit(X_train, Y_train)\n",
    "lr_pred= lr.predict(X_test)\n",
    "\n",
    "print('Train accuracy:', lr.score(X_train, Y_train))\n",
    "print('Test accuracy:', lr.score(X_test, Y_test))\n",
    "print(\"Accuracy Score for Random Forest Model: {}\".format(accuracy_score(Y_test, lr_pred)))\n",
    "Confusion_matrix = confusion_matrix(Y_test, lr_pred)\n",
    "sns.heatmap(Confusion_matrix,\n",
    "           cmap= 'coolwarm_r',\n",
    "           annot = True,\n",
    "           Linewidths = 0.5\n",
    ")\n",
    "plt.title('Confusion matrix for Logistic Regression Model')\n",
    "plt.xlabel('Predicted class')\n",
    "plt.ylabel('Actual class')\n",
    "plt.show()"
   ]
  },
  {
   "cell_type": "code",
   "execution_count": 159,
   "metadata": {},
   "outputs": [
    {
     "name": "stderr",
     "output_type": "stream",
     "text": [
      "C:\\Users\\18644\\Anaconda3\\lib\\site-packages\\sklearn\\linear_model\\logistic.py:460: FutureWarning: Default multi_class will be changed to 'auto' in 0.22. Specify the multi_class option to silence this warning.\n",
      "  \"this warning.\", FutureWarning)\n"
     ]
    },
    {
     "name": "stdout",
     "output_type": "stream",
     "text": [
      "Train accuracy: 0.8838604143947656\n",
      "Test accuracy: 0.7560355781448539\n",
      "Accuracy Score for Logistic Regression Model: 0.7560355781448539\n"
     ]
    },
    {
     "data": {
      "image/png": "[encoded data removed]",
      "text/plain": [
       "<Figure size 432x288 with 2 Axes>"
      ]
     },
     "metadata": {
      "needs_background": "light"
     },
     "output_type": "display_data"
    }
   ],
   "source": [
    "#LSA features \n",
    "X_train = X_train_lsa\n",
    "X_test= X_test_lsa\n",
    "\n",
    "lr= LogisticRegression()\n",
    "lr.fit(X_train, Y_train)\n",
    "lr_pred= lr.predict(X_test)\n",
    "\n",
    "print('Train accuracy:', lr.score(X_train, Y_train))\n",
    "print('Test accuracy:', lr.score(X_test, Y_test))\n",
    "print(\"Accuracy Score for Logistic Regression Model: {}\".format(accuracy_score(Y_test, lr_pred)))\n",
    "Confusion_matrix = confusion_matrix(Y_test, lr_pred)\n",
    "sns.heatmap(Confusion_matrix,\n",
    "           cmap= 'coolwarm_r',\n",
    "           annot = True,\n",
    "           Linewidths = 0.5\n",
    ")\n",
    "plt.title('Confusion matrix  for Logistic Regression')\n",
    "plt.xlabel('Predicted class')\n",
    "plt.ylabel('Actual class')\n",
    "plt.show()"
   ]
  },
  {
   "cell_type": "markdown",
   "metadata": {},
   "source": [
    "The perfromace of the model increased slight with lsm features and the logistic regression seems to perform better than random forest in predicting correctly author 1, 8 , 7 and 3."
   ]
  },
  {
   "cell_type": "code",
   "execution_count": null,
   "metadata": {},
   "outputs": [],
   "source": [
    "Gradient Boosting model"
   ]
  },
  {
   "cell_type": "code",
   "execution_count": 155,
   "metadata": {},
   "outputs": [
    {
     "name": "stdout",
     "output_type": "stream",
     "text": [
      "Train accuracy: 0.9934569247546347\n",
      "Test accuracy: 0.7026683608640406\n",
      "Accuracy Score for Gradient Boosting Model: 0.7026683608640406\n"
     ]
    },
    {
     "data": {
      "image/png": "[encoded data removed]",
      "text/plain": [
       "<Figure size 432x288 with 2 Axes>"
      ]
     },
     "metadata": {
      "needs_background": "light"
     },
     "output_type": "display_data"
    }
   ],
   "source": [
    "# Gradient Boosting Parameters\n",
    "gb_params ={\n",
    "    'n_estimators': 1500,\n",
    "    'max_features': 0.9,\n",
    "    'learning_rate' : 0.25,\n",
    "    'max_depth': 4,\n",
    "    'min_samples_leaf': 2,\n",
    "    'subsample': 1,\n",
    "    'max_features' : 'sqrt',\n",
    "    'random_state' : 42,\n",
    "    'verbose': 0\n",
    "}\n",
    "#TFIDF Features\n",
    "X_train=X_train_tfidf\n",
    "X_test = X_test_tfidf\n",
    "\n",
    "#tfidf features\n",
    "gb = GradientBoostingClassifier(**gb_params)\n",
    "# Fit the model =\n",
    "gb.fit(X_train, Y_train)\n",
    "# Get our predictions\n",
    "gb_pred= gb.predict(X_test)\n",
    "\n",
    "print('Train accuracy:', gb.score(X_train, Y_train))\n",
    "print('Test accuracy:', gb.score(X_test, Y_test))\n",
    "print(\"Accuracy Score for Gradient Boosting Model: {}\".format(accuracy_score(Y_test, gb_pred)))\n",
    "Confusion_matrix = confusion_matrix(Y_test, gb_pred)\n",
    "sns.heatmap(Confusion_matrix,\n",
    "           cmap= 'coolwarm_r',\n",
    "           annot = True,\n",
    "           Linewidths = 0.5\n",
    ")\n",
    "plt.title('Confusion matrix for  Model')\n",
    "plt.xlabel('Predicted class')\n",
    "plt.ylabel('Actual class')\n",
    "plt.show()"
   ]
  },
  {
   "cell_type": "code",
   "execution_count": 157,
   "metadata": {},
   "outputs": [
    {
     "name": "stdout",
     "output_type": "stream",
     "text": [
      "Train accuracy: 0.995092693565976\n",
      "Test accuracy: 0.7293519695044473\n",
      "Accuracy Score for Gradient Boosting Model: 0.7293519695044473\n"
     ]
    },
    {
     "data": {
      "image/png": "[encoded data removed]",
      "text/plain": [
       "<Figure size 432x288 with 2 Axes>"
      ]
     },
     "metadata": {
      "needs_background": "light"
     },
     "output_type": "display_data"
    }
   ],
   "source": [
    "#LSA Features\n",
    "X_train = X_train_lsa\n",
    "X_test= X_test_lsa\n",
    "\n",
    "gb = GradientBoostingClassifier(**gb_params)\n",
    "# Fit the model \n",
    "gb.fit(X_train, Y_train)\n",
    "# Get our predictions\n",
    "gb_pred= gb.predict(X_test)\n",
    "\n",
    "print('Train accuracy:',gb.score(X_train, Y_train))\n",
    "print('Test accuracy:', gb.score(X_test, Y_test))\n",
    "print(\"Accuracy Score for Gradient Boosting Model: {}\".format(accuracy_score(Y_test, gb_pred)))\n",
    "Confusion_matrix = confusion_matrix(Y_test, gb_pred)\n",
    "sns.heatmap(Confusion_matrix,\n",
    "           cmap= 'coolwarm_r',\n",
    "           annot = True,\n",
    "           Linewidths = 0.5\n",
    ")\n",
    "plt.title('Confusion matrix  for Gradient Boosting classifier')\n",
    "plt.xlabel('Predicted class')\n",
    "plt.ylabel('Actual class')\n",
    "plt.show()"
   ]
  },
  {
   "cell_type": "markdown",
   "metadata": {},
   "source": [
    "The gradient boosting classifier gives the accuracy of 99% on the set set (which indicate ovefitting of the model since the feature space is very high.)"
   ]
  },
  {
   "cell_type": "raw",
   "metadata": {},
   "source": [
    "In conclusion, logistic regression model seem to perform the best with the test accuracy of 76% in latent sementic analysis feature set. The overall performance of other models was not that good howvere, there is space for improving the models resampling train corpus in order to tackle a class imbalance problem, looking for the best performance parameters for each model, and exploring other unsupervised techniques\n"
   ]
  }
 ],
 "metadata": {
  "kernelspec": {
   "display_name": "Python 3",
   "language": "python",
   "name": "python3"
  },
  "language_info": {
   "codemirror_mode": {
    "name": "ipython",
    "version": 3
   },
   "file_extension": ".py",
   "mimetype": "text/x-python",
   "name": "python",
   "nbconvert_exporter": "python",
   "pygments_lexer": "ipython3",
   "version": "3.7.1"
  }
 },
 "nbformat": 4,
 "nbformat_minor": 2
}
