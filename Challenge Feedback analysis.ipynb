{
 "cells": [
  {
   "cell_type": "code",
   "execution_count": 2,
   "metadata": {},
   "outputs": [],
   "source": [
    "%matplotlib inline\n",
    "import pandas as pd\n",
    "import numpy as np\n",
    "import scipy\n",
    "import sklearn\n",
    "import matplotlib.pyplot as plt\n",
    "import seaborn as sns"
   ]
  },
  {
   "cell_type": "code",
   "execution_count": 9,
   "metadata": {},
   "outputs": [
    {
     "data": {
      "text/plain": [
       "'C:\\\\Users\\\\18644\\\\Desktop\\\\THINKFUL\\\\Data Science Bootcamp\\\\UNIT 2\\\\Lesson 2'"
      ]
     },
     "execution_count": 9,
     "metadata": {},
     "output_type": "execute_result"
    }
   ],
   "source": [
    "pwd"
   ]
  },
  {
   "cell_type": "code",
   "execution_count": 10,
   "metadata": {},
   "outputs": [],
   "source": [
    "amazon_raw = pd.read_csv('amazon_cells_labelled.txt', delimiter = '\\t', header = None)\n",
    "amazon_raw.columns = ('text', 'sentiment')\n"
   ]
  },
  {
   "cell_type": "code",
   "execution_count": 11,
   "metadata": {},
   "outputs": [
    {
     "data": {
      "text/html": [
       "<div>\n",
       "<style scoped>\n",
       "    .dataframe tbody tr th:only-of-type {\n",
       "        vertical-align: middle;\n",
       "    }\n",
       "\n",
       "    .dataframe tbody tr th {\n",
       "        vertical-align: top;\n",
       "    }\n",
       "\n",
       "    .dataframe thead th {\n",
       "        text-align: right;\n",
       "    }\n",
       "</style>\n",
       "<table border=\"1\" class=\"dataframe\">\n",
       "  <thead>\n",
       "    <tr style=\"text-align: right;\">\n",
       "      <th></th>\n",
       "      <th>text</th>\n",
       "      <th>sentiment</th>\n",
       "    </tr>\n",
       "  </thead>\n",
       "  <tbody>\n",
       "    <tr>\n",
       "      <th>0</th>\n",
       "      <td>So there is no way for me to plug it in here i...</td>\n",
       "      <td>0</td>\n",
       "    </tr>\n",
       "    <tr>\n",
       "      <th>1</th>\n",
       "      <td>Good case, Excellent value.</td>\n",
       "      <td>1</td>\n",
       "    </tr>\n",
       "    <tr>\n",
       "      <th>2</th>\n",
       "      <td>Great for the jawbone.</td>\n",
       "      <td>1</td>\n",
       "    </tr>\n",
       "    <tr>\n",
       "      <th>3</th>\n",
       "      <td>Tied to charger for conversations lasting more...</td>\n",
       "      <td>0</td>\n",
       "    </tr>\n",
       "    <tr>\n",
       "      <th>4</th>\n",
       "      <td>The mic is great.</td>\n",
       "      <td>1</td>\n",
       "    </tr>\n",
       "  </tbody>\n",
       "</table>\n",
       "</div>"
      ],
      "text/plain": [
       "                                                text  sentiment\n",
       "0  So there is no way for me to plug it in here i...          0\n",
       "1                        Good case, Excellent value.          1\n",
       "2                             Great for the jawbone.          1\n",
       "3  Tied to charger for conversations lasting more...          0\n",
       "4                                  The mic is great.          1"
      ]
     },
     "execution_count": 11,
     "metadata": {},
     "output_type": "execute_result"
    }
   ],
   "source": [
    "amazon_raw.head()"
   ]
  },
  {
   "cell_type": "code",
   "execution_count": 12,
   "metadata": {},
   "outputs": [],
   "source": [
    "# Kewword for reviews\n",
    "keywords = ['bad', 'waste', 'useless', 'poor', 'not good', 'good', 'excellent', 'great', \n",
    "            'impressed', 'quality', 'hate','problems', 'dissapointed', 'unhappy']\n",
    "\n",
    "for key in keywords:\n",
    "    amazon_raw[str(key)] = amazon_raw.text.str.contains(\n",
    "    str(key),\n",
    "       case = False)"
   ]
  },
  {
   "cell_type": "code",
   "execution_count": 13,
   "metadata": {},
   "outputs": [
    {
     "data": {
      "text/plain": [
       "<matplotlib.axes._subplots.AxesSubplot at 0x160167d0668>"
      ]
     },
     "execution_count": 13,
     "metadata": {},
     "output_type": "execute_result"
    },
    {
     "data": {
      "image/png": "[encoded data removed]",
      "text/plain": [
       "<Figure size 432x288 with 2 Axes>"
      ]
     },
     "metadata": {
      "needs_background": "light"
     },
     "output_type": "display_data"
    }
   ],
   "source": [
    "# showing independence among the selected variables\n",
    "sns.heatmap(amazon_raw.corr())"
   ]
  },
  {
   "cell_type": "code",
   "execution_count": 14,
   "metadata": {},
   "outputs": [],
   "source": [
    "# x and y values\n",
    "data = amazon_raw[keywords]\n",
    "target = amazon_raw['sentiment']"
   ]
  },
  {
   "cell_type": "code",
   "execution_count": 15,
   "metadata": {},
   "outputs": [
    {
     "name": "stdout",
     "output_type": "stream",
     "text": [
      "Number of mislabeled points out of total 1000 points : 334\n"
     ]
    }
   ],
   "source": [
    "# our data is binary and hence we import Bernoulli classifier\n",
    "from sklearn.naive_bayes import BernoulliNB\n",
    "bnb = BernoulliNB()\n",
    "bnb.fit(data, target)\n",
    "y_pred = bnb.predict(data)\n",
    "print('Number of mislabeled points out of total {} points : {}'.format(\n",
    "data.shape[0],\n",
    "(target != y_pred).sum()\n",
    "))\n"
   ]
  },
  {
   "cell_type": "code",
   "execution_count": 16,
   "metadata": {},
   "outputs": [
    {
     "name": "stdout",
     "output_type": "stream",
     "text": [
      "Number of mislabeled points out of total 748 points: 291\n"
     ]
    }
   ],
   "source": [
    "# Repeating with imdb data\n",
    "imdb_raw = pd.read_csv('imdb_labelled.txt', delimiter = '\\t', header = None)\n",
    "imdb_raw.columns = ('text', 'sentiment')\n",
    "\n",
    "# columns to identify if keywords in review\n",
    "for key in keywords:\n",
    "    imdb_raw[str(key)] = imdb_raw.text.str.contains(\n",
    "    str(key),\n",
    "    case = False)\n",
    "\n",
    "# x and y values\n",
    "data = imdb_raw[keywords]\n",
    "target = imdb_raw['sentiment']\n",
    "\n",
    "\n",
    "from sklearn.naive_bayes import BernoulliNB\n",
    "bnb = BernoulliNB()\n",
    "bnb.fit(data, target)\n",
    "y_pred = bnb.predict(data)\n",
    "print('Number of mislabeled points out of total {} points: {}'.format(\n",
    "data.shape[0],\n",
    "(target != y_pred).sum()\n",
    "))\n"
   ]
  },
  {
   "cell_type": "code",
   "execution_count": 17,
   "metadata": {},
   "outputs": [
    {
     "name": "stdout",
     "output_type": "stream",
     "text": [
      "Number of mislabeled points out of total 1000 points:376\n"
     ]
    }
   ],
   "source": [
    "# Repeating with yelp data\n",
    "yelp_raw = pd.read_csv('yelp_labelled.txt', delimiter = '\\t', header = None)\n",
    "yelp_raw.columns = ('text', 'sentiment')\n",
    "\n",
    "#Columns to identify the keywords in reviews\n",
    "for key in keywords:\n",
    "    yelp_raw[str(key)] = yelp_raw.text.str.contains(\n",
    "    str(key),\n",
    "    case = False)\n",
    "    \n",
    "# x and y values\n",
    "data = yelp_raw[keywords]\n",
    "target = yelp_raw['sentiment']\n",
    "\n",
    "from sklearn.naive_bayes import BernoulliNB\n",
    "bnb = BernoulliNB()\n",
    "bnb.fit(data, target)\n",
    "y_pred = bnb.predict(data)\n",
    "print('Number of mislabeled points out of total {} points:{}'. format(\n",
    "data.shape[0],\n",
    "(target != y_pred).sum()\n",
    "))\n"
   ]
  }
 ],
 "metadata": {
  "kernelspec": {
   "display_name": "Python 3",
   "language": "python",
   "name": "python3"
  },
  "language_info": {
   "codemirror_mode": {
    "name": "ipython",
    "version": 3
   },
   "file_extension": ".py",
   "mimetype": "text/x-python",
   "name": "python",
   "nbconvert_exporter": "python",
   "pygments_lexer": "ipython3",
   "version": "3.7.1"
  }
 },
 "nbformat": 4,
 "nbformat_minor": 2
}
