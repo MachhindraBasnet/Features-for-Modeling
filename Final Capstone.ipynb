{
 "cells": [
  {
   "cell_type": "code",
   "execution_count": 39,
   "metadata": {},
   "outputs": [],
   "source": [
    "import glob, pylab, pandas as pd\n",
    "import pydicom, numpy as np\n",
    "from os import listdir\n",
    "from os.path import isfile, join\n",
    "import matplotlib.pylab as plt\n",
    "import os\n",
    "import seaborn as sns\n",
    "\n"
   ]
  },
  {
   "cell_type": "code",
   "execution_count": 40,
   "metadata": {},
   "outputs": [
    {
     "data": {
      "text/plain": [
       "'C:\\\\Users\\\\18644\\\\Desktop\\\\THINKFUL\\\\Data Science Bootcamp\\\\UNIT 7'"
      ]
     },
     "execution_count": 40,
     "metadata": {},
     "output_type": "execute_result"
    }
   ],
   "source": [
    "pwd"
   ]
  },
  {
   "cell_type": "code",
   "execution_count": 41,
   "metadata": {},
   "outputs": [],
   "source": [
    "train = pd.read_csv('stage_1_train.csv')\n",
    "sub = pd.read_csv('stage_1_sample_submission.csv')"
   ]
  },
  {
   "cell_type": "code",
   "execution_count": 42,
   "metadata": {},
   "outputs": [
    {
     "data": {
      "text/html": [
       "<div>\n",
       "<style scoped>\n",
       "    .dataframe tbody tr th:only-of-type {\n",
       "        vertical-align: middle;\n",
       "    }\n",
       "\n",
       "    .dataframe tbody tr th {\n",
       "        vertical-align: top;\n",
       "    }\n",
       "\n",
       "    .dataframe thead th {\n",
       "        text-align: right;\n",
       "    }\n",
       "</style>\n",
       "<table border=\"1\" class=\"dataframe\">\n",
       "  <thead>\n",
       "    <tr style=\"text-align: right;\">\n",
       "      <th></th>\n",
       "      <th>ID</th>\n",
       "      <th>Label</th>\n",
       "    </tr>\n",
       "  </thead>\n",
       "  <tbody>\n",
       "    <tr>\n",
       "      <th>0</th>\n",
       "      <td>ID_63eb1e259_epidural</td>\n",
       "      <td>0</td>\n",
       "    </tr>\n",
       "    <tr>\n",
       "      <th>1</th>\n",
       "      <td>ID_63eb1e259_intraparenchymal</td>\n",
       "      <td>0</td>\n",
       "    </tr>\n",
       "    <tr>\n",
       "      <th>2</th>\n",
       "      <td>ID_63eb1e259_intraventricular</td>\n",
       "      <td>0</td>\n",
       "    </tr>\n",
       "    <tr>\n",
       "      <th>3</th>\n",
       "      <td>ID_63eb1e259_subarachnoid</td>\n",
       "      <td>0</td>\n",
       "    </tr>\n",
       "    <tr>\n",
       "      <th>4</th>\n",
       "      <td>ID_63eb1e259_subdural</td>\n",
       "      <td>0</td>\n",
       "    </tr>\n",
       "  </tbody>\n",
       "</table>\n",
       "</div>"
      ],
      "text/plain": [
       "                              ID  Label\n",
       "0          ID_63eb1e259_epidural      0\n",
       "1  ID_63eb1e259_intraparenchymal      0\n",
       "2  ID_63eb1e259_intraventricular      0\n",
       "3      ID_63eb1e259_subarachnoid      0\n",
       "4          ID_63eb1e259_subdural      0"
      ]
     },
     "execution_count": 42,
     "metadata": {},
     "output_type": "execute_result"
    }
   ],
   "source": [
    "train.head()\n"
   ]
  },
  {
   "cell_type": "code",
   "execution_count": null,
   "metadata": {},
   "outputs": [],
   "source": []
  },
  {
   "cell_type": "code",
   "execution_count": 46,
   "metadata": {},
   "outputs": [
    {
     "data": {
      "text/html": [
       "<div>\n",
       "<style scoped>\n",
       "    .dataframe tbody tr th:only-of-type {\n",
       "        vertical-align: middle;\n",
       "    }\n",
       "\n",
       "    .dataframe tbody tr th {\n",
       "        vertical-align: top;\n",
       "    }\n",
       "\n",
       "    .dataframe thead th {\n",
       "        text-align: right;\n",
       "    }\n",
       "</style>\n",
       "<table border=\"1\" class=\"dataframe\">\n",
       "  <thead>\n",
       "    <tr style=\"text-align: right;\">\n",
       "      <th></th>\n",
       "      <th>ID</th>\n",
       "      <th>Label</th>\n",
       "      <th>filename</th>\n",
       "      <th>type</th>\n",
       "      <th>PatientID</th>\n",
       "    </tr>\n",
       "  </thead>\n",
       "  <tbody>\n",
       "    <tr>\n",
       "      <th>0</th>\n",
       "      <td>ID_63eb1e259_epidural</td>\n",
       "      <td>0</td>\n",
       "      <td>ID_63eb1e259.png</td>\n",
       "      <td>epidural</td>\n",
       "      <td>63eb1e259</td>\n",
       "    </tr>\n",
       "    <tr>\n",
       "      <th>1</th>\n",
       "      <td>ID_63eb1e259_intraparenchymal</td>\n",
       "      <td>0</td>\n",
       "      <td>ID_63eb1e259.png</td>\n",
       "      <td>intraparenchymal</td>\n",
       "      <td>63eb1e259</td>\n",
       "    </tr>\n",
       "    <tr>\n",
       "      <th>2</th>\n",
       "      <td>ID_63eb1e259_intraventricular</td>\n",
       "      <td>0</td>\n",
       "      <td>ID_63eb1e259.png</td>\n",
       "      <td>intraventricular</td>\n",
       "      <td>63eb1e259</td>\n",
       "    </tr>\n",
       "    <tr>\n",
       "      <th>3</th>\n",
       "      <td>ID_63eb1e259_subarachnoid</td>\n",
       "      <td>0</td>\n",
       "      <td>ID_63eb1e259.png</td>\n",
       "      <td>subarachnoid</td>\n",
       "      <td>63eb1e259</td>\n",
       "    </tr>\n",
       "    <tr>\n",
       "      <th>4</th>\n",
       "      <td>ID_63eb1e259_subdural</td>\n",
       "      <td>0</td>\n",
       "      <td>ID_63eb1e259.png</td>\n",
       "      <td>subdural</td>\n",
       "      <td>63eb1e259</td>\n",
       "    </tr>\n",
       "  </tbody>\n",
       "</table>\n",
       "</div>"
      ],
      "text/plain": [
       "                              ID  Label          filename              type  \\\n",
       "0          ID_63eb1e259_epidural      0  ID_63eb1e259.png          epidural   \n",
       "1  ID_63eb1e259_intraparenchymal      0  ID_63eb1e259.png  intraparenchymal   \n",
       "2  ID_63eb1e259_intraventricular      0  ID_63eb1e259.png  intraventricular   \n",
       "3      ID_63eb1e259_subarachnoid      0  ID_63eb1e259.png      subarachnoid   \n",
       "4          ID_63eb1e259_subdural      0  ID_63eb1e259.png          subdural   \n",
       "\n",
       "   PatientID  \n",
       "0  63eb1e259  \n",
       "1  63eb1e259  \n",
       "2  63eb1e259  \n",
       "3  63eb1e259  \n",
       "4  63eb1e259  "
      ]
     },
     "execution_count": 46,
     "metadata": {},
     "output_type": "execute_result"
    }
   ],
   "source": [
    "train['type'] = train['ID'].str.split(\"_\", n = 3, expand = True)[2]\n",
    "train['PatientID'] = train['ID'].str.split(\"_\", n = 3, expand = True)[1]\n",
    "train['filename'] = train['ID'].apply(lambda st: \"ID_\" + st.split('_')[1] + \".png\")\n",
    "\n",
    "sub['filename'] = sub['ID'].apply(lambda st: \"ID_\" + st.split('_')[1] + \".png\")\n",
    "sub['type'] = sub['ID'].apply(lambda st: st.split('_')[2])\n",
    "\n",
    "train.head()"
   ]
  },
  {
   "cell_type": "code",
   "execution_count": 45,
   "metadata": {},
   "outputs": [
    {
     "data": {
      "text/html": [
       "<div>\n",
       "<style scoped>\n",
       "    .dataframe tbody tr th:only-of-type {\n",
       "        vertical-align: middle;\n",
       "    }\n",
       "\n",
       "    .dataframe tbody tr th {\n",
       "        vertical-align: top;\n",
       "    }\n",
       "\n",
       "    .dataframe thead th {\n",
       "        text-align: right;\n",
       "    }\n",
       "</style>\n",
       "<table border=\"1\" class=\"dataframe\">\n",
       "  <thead>\n",
       "    <tr style=\"text-align: right;\">\n",
       "      <th></th>\n",
       "      <th>ID</th>\n",
       "      <th>Label</th>\n",
       "      <th>filename</th>\n",
       "      <th>type</th>\n",
       "    </tr>\n",
       "  </thead>\n",
       "  <tbody>\n",
       "    <tr>\n",
       "      <th>0</th>\n",
       "      <td>ID_28fbab7eb_epidural</td>\n",
       "      <td>0.5</td>\n",
       "      <td>ID_28fbab7eb.png</td>\n",
       "      <td>epidural</td>\n",
       "    </tr>\n",
       "    <tr>\n",
       "      <th>1</th>\n",
       "      <td>ID_28fbab7eb_intraparenchymal</td>\n",
       "      <td>0.5</td>\n",
       "      <td>ID_28fbab7eb.png</td>\n",
       "      <td>intraparenchymal</td>\n",
       "    </tr>\n",
       "    <tr>\n",
       "      <th>2</th>\n",
       "      <td>ID_28fbab7eb_intraventricular</td>\n",
       "      <td>0.5</td>\n",
       "      <td>ID_28fbab7eb.png</td>\n",
       "      <td>intraventricular</td>\n",
       "    </tr>\n",
       "    <tr>\n",
       "      <th>3</th>\n",
       "      <td>ID_28fbab7eb_subarachnoid</td>\n",
       "      <td>0.5</td>\n",
       "      <td>ID_28fbab7eb.png</td>\n",
       "      <td>subarachnoid</td>\n",
       "    </tr>\n",
       "    <tr>\n",
       "      <th>4</th>\n",
       "      <td>ID_28fbab7eb_subdural</td>\n",
       "      <td>0.5</td>\n",
       "      <td>ID_28fbab7eb.png</td>\n",
       "      <td>subdural</td>\n",
       "    </tr>\n",
       "  </tbody>\n",
       "</table>\n",
       "</div>"
      ],
      "text/plain": [
       "                              ID  Label          filename              type\n",
       "0          ID_28fbab7eb_epidural    0.5  ID_28fbab7eb.png          epidural\n",
       "1  ID_28fbab7eb_intraparenchymal    0.5  ID_28fbab7eb.png  intraparenchymal\n",
       "2  ID_28fbab7eb_intraventricular    0.5  ID_28fbab7eb.png  intraventricular\n",
       "3      ID_28fbab7eb_subarachnoid    0.5  ID_28fbab7eb.png      subarachnoid\n",
       "4          ID_28fbab7eb_subdural    0.5  ID_28fbab7eb.png          subdural"
      ]
     },
     "execution_count": 45,
     "metadata": {},
     "output_type": "execute_result"
    }
   ],
   "source": [
    "sub.head()\n"
   ]
  },
  {
   "cell_type": "code",
   "execution_count": 33,
   "metadata": {},
   "outputs": [
    {
     "name": "stdout",
     "output_type": "stream",
     "text": [
      "(4045572, 5)\n",
      "(471270, 4)\n"
     ]
    }
   ],
   "source": [
    "print(train.shape)\n",
    "print(sub.shape)\n"
   ]
  },
  {
   "cell_type": "code",
   "execution_count": 34,
   "metadata": {},
   "outputs": [
    {
     "name": "stdout",
     "output_type": "stream",
     "text": [
      "Train type = ['epidural', 'intraparenchymal', 'intraventricular', 'subarachnoid', 'subdural', 'any']\n",
      "Train label = [0, 1]\n"
     ]
    }
   ],
   "source": [
    "print ('Train type =', list(train.type.unique()))\n",
    "print ('Train label =', list(train.Label.unique()))"
   ]
  },
  {
   "cell_type": "code",
   "execution_count": 36,
   "metadata": {},
   "outputs": [
    {
     "name": "stdout",
     "output_type": "stream",
     "text": [
      "Number of patients = 674258\n"
     ]
    }
   ],
   "source": [
    "print('Number of patients =', train.PatientID.nunique())"
   ]
  },
  {
   "cell_type": "code",
   "execution_count": 38,
   "metadata": {},
   "outputs": [
    {
     "data": {
      "text/plain": [
       "subdural            674262\n",
       "any                 674262\n",
       "intraparenchymal    674262\n",
       "intraventricular    674262\n",
       "subarachnoid        674262\n",
       "epidural            674262\n",
       "Name: type, dtype: int64"
      ]
     },
     "execution_count": 38,
     "metadata": {},
     "output_type": "execute_result"
    }
   ],
   "source": [
    "train.type.value_counts()"
   ]
  },
  {
   "cell_type": "code",
   "execution_count": 47,
   "metadata": {},
   "outputs": [
    {
     "name": "stdout",
     "output_type": "stream",
     "text": [
      "0    3814760\n",
      "1     230812\n",
      "Name: Label, dtype: int64\n"
     ]
    },
    {
     "data": {
      "text/plain": [
       "<matplotlib.axes._subplots.AxesSubplot at 0x1f4c1f93be0>"
      ]
     },
     "execution_count": 47,
     "metadata": {},
     "output_type": "execute_result"
    },
    {
     "data": {
      "image/png": "[encoded data removed]",
      "text/plain": [
       "<Figure size 432x288 with 1 Axes>"
      ]
     },
     "metadata": {
      "needs_background": "light"
     },
     "output_type": "display_data"
    }
   ],
   "source": [
    "print(train.Label.value_counts())\n",
    "sns.countplot(x='Label', data=train)"
   ]
  },
  {
   "cell_type": "code",
   "execution_count": 49,
   "metadata": {},
   "outputs": [
    {
     "data": {
      "text/plain": [
       "type              Label\n",
       "any               0        577159\n",
       "                  1         97103\n",
       "epidural          0        671501\n",
       "                  1          2761\n",
       "intraparenchymal  0        641698\n",
       "                  1         32564\n",
       "intraventricular  0        650496\n",
       "                  1         23766\n",
       "subarachnoid      0        642140\n",
       "                  1         32122\n",
       "subdural          0        631766\n",
       "                  1         42496\n",
       "Name: Label, dtype: int64"
      ]
     },
     "execution_count": 49,
     "metadata": {},
     "output_type": "execute_result"
    }
   ],
   "source": [
    "train.groupby('type').Label.value_counts()"
   ]
  },
  {
   "cell_type": "code",
   "execution_count": 51,
   "metadata": {},
   "outputs": [
    {
     "data": {
      "text/plain": [
       "<matplotlib.axes._subplots.AxesSubplot at 0x1f4c1f60320>"
      ]
     },
     "execution_count": 51,
     "metadata": {},
     "output_type": "execute_result"
    },
    {
     "data": {
      "image/png": "[encoded data removed]",
      "text/plain": [
       "<Figure size 432x288 with 1 Axes>"
      ]
     },
     "metadata": {
      "needs_background": "light"
     },
     "output_type": "display_data"
    }
   ],
   "source": [
    "sns.countplot(x = 'Label', hue ='type', data = train)\n"
   ]
  },
  {
   "cell_type": "code",
   "execution_count": 66,
   "metadata": {},
   "outputs": [
    {
     "data": {
      "text/plain": [
       "0          ID_63eb1e259.png\n",
       "1          ID_63eb1e259.png\n",
       "2          ID_63eb1e259.png\n",
       "3          ID_63eb1e259.png\n",
       "4          ID_63eb1e259.png\n",
       "5          ID_63eb1e259.png\n",
       "6          ID_2669954a7.png\n",
       "7          ID_2669954a7.png\n",
       "8          ID_2669954a7.png\n",
       "9          ID_2669954a7.png\n",
       "10         ID_2669954a7.png\n",
       "11         ID_2669954a7.png\n",
       "12         ID_52c9913b1.png\n",
       "13         ID_52c9913b1.png\n",
       "14         ID_52c9913b1.png\n",
       "15         ID_52c9913b1.png\n",
       "16         ID_52c9913b1.png\n",
       "17         ID_52c9913b1.png\n",
       "18         ID_4e6ff6126.png\n",
       "19         ID_4e6ff6126.png\n",
       "20         ID_4e6ff6126.png\n",
       "21         ID_4e6ff6126.png\n",
       "22         ID_4e6ff6126.png\n",
       "23         ID_4e6ff6126.png\n",
       "24         ID_7858edd88.png\n",
       "25         ID_7858edd88.png\n",
       "26         ID_7858edd88.png\n",
       "27         ID_7858edd88.png\n",
       "28         ID_7858edd88.png\n",
       "29         ID_7858edd88.png\n",
       "                 ...       \n",
       "4045542    ID_f737f4cc1.png\n",
       "4045543    ID_f737f4cc1.png\n",
       "4045544    ID_f737f4cc1.png\n",
       "4045545    ID_f737f4cc1.png\n",
       "4045546    ID_f737f4cc1.png\n",
       "4045547    ID_f737f4cc1.png\n",
       "4045548    ID_4c92d70b5.png\n",
       "4045549    ID_4c92d70b5.png\n",
       "4045550    ID_4c92d70b5.png\n",
       "4045551    ID_4c92d70b5.png\n",
       "4045552    ID_4c92d70b5.png\n",
       "4045553    ID_4c92d70b5.png\n",
       "4045554    ID_a9797cb3a.png\n",
       "4045555    ID_a9797cb3a.png\n",
       "4045556    ID_a9797cb3a.png\n",
       "4045557    ID_a9797cb3a.png\n",
       "4045558    ID_a9797cb3a.png\n",
       "4045559    ID_a9797cb3a.png\n",
       "4045560    ID_9375f67bd.png\n",
       "4045561    ID_9375f67bd.png\n",
       "4045562    ID_9375f67bd.png\n",
       "4045563    ID_9375f67bd.png\n",
       "4045564    ID_9375f67bd.png\n",
       "4045565    ID_9375f67bd.png\n",
       "4045566    ID_5c8b5d701.png\n",
       "4045567    ID_5c8b5d701.png\n",
       "4045568    ID_5c8b5d701.png\n",
       "4045569    ID_5c8b5d701.png\n",
       "4045570    ID_5c8b5d701.png\n",
       "4045571    ID_5c8b5d701.png\n",
       "Name: filename, Length: 4045572, dtype: object"
      ]
     },
     "execution_count": 66,
     "metadata": {},
     "output_type": "execute_result"
    }
   ],
   "source": [
    "train['filename']"
   ]
  },
  {
   "cell_type": "code",
   "execution_count": null,
   "metadata": {},
   "outputs": [],
   "source": []
  }
 ],
 "metadata": {
  "kernelspec": {
   "display_name": "Python 3",
   "language": "python",
   "name": "python3"
  },
  "language_info": {
   "codemirror_mode": {
    "name": "ipython",
    "version": 3
   },
   "file_extension": ".py",
   "mimetype": "text/x-python",
   "name": "python",
   "nbconvert_exporter": "python",
   "pygments_lexer": "ipython3",
   "version": "3.7.3"
  }
 },
 "nbformat": 4,
 "nbformat_minor": 2
}
