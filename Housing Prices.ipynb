{
 "cells": [
  {
   "cell_type": "code",
   "execution_count": null,
   "metadata": {},
   "outputs": [],
   "source": [
    "import numpy as np\n",
    "import pandas as pd\n",
    "import sklearn\n",
    "import seaborn as sns\n",
    "import matplotlib.pyplot as plt\n",
    "%matplotlib inline\n",
    "from IPython.display import display\n",
    "from sklearn import linear_model\n",
    "from sklearn.linear_model import LinearRegression\n",
    "from sklearn import ensemble \n",
    "from sklearn.ensemble import RandomForestRegressor\n",
    "from sklearn.model_selection import train_test_split\n",
    "from sklearn.model_selection import cross_val_score"
   ]
  },
  {
   "cell_type": "markdown",
   "metadata": {},
   "source": [
    "Metadata for Housing Dataset Rooms: Number of rooms\n",
    "\n",
    "Price: Price in dollars\n",
    "\n",
    "Method: S - property sold; SP - property sold prior; PI - property passed in; PN - sold prior not disclosed; SN - sold not disclosed; NB - no bid; VB - vendor bid; W - withdrawn prior to auction; SA - sold after auction; SS - sold after auction price not disclosed. N/A - price or highest bid not available.\n",
    "\n",
    "Type: br - bedroom(s); h - house,cottage,villa, semi,terrace; u - unit, duplex; t - townhouse; dev site - development site; o res - other residential.\n",
    "\n",
    "SellerG: Real Estate Agent\n",
    "\n",
    "Date: Date sold\n",
    "\n",
    "Distance: Distance from CBD\n",
    "\n",
    "Regionname: General Region (West, North West, North, North east ...etc)\n",
    "\n",
    "Propertycount: Number of properties that exist in the suburb.\n",
    "\n",
    "Bedroom2 : Scraped # of Bedrooms (from different source)\n",
    "\n",
    "Bathroom: Number of Bathrooms\n",
    "\n",
    "Car: Number of carspots\n",
    "\n",
    "Landsize: Land Size\n",
    "    \n",
    "BuildingArea: Building Size\n",
    "\n",
    "CouncilArea: Governing council for the area"
   ]
  },
  {
   "cell_type": "code",
   "execution_count": 29,
   "metadata": {},
   "outputs": [],
   "source": [
    "df= pd.read_csv('housing_data.csv')"
   ]
  },
  {
   "cell_type": "code",
   "execution_count": 30,
   "metadata": {},
   "outputs": [
    {
     "data": {
      "text/html": [
       "<div>\n",
       "<style scoped>\n",
       "    .dataframe tbody tr th:only-of-type {\n",
       "        vertical-align: middle;\n",
       "    }\n",
       "\n",
       "    .dataframe tbody tr th {\n",
       "        vertical-align: top;\n",
       "    }\n",
       "\n",
       "    .dataframe thead th {\n",
       "        text-align: right;\n",
       "    }\n",
       "</style>\n",
       "<table border=\"1\" class=\"dataframe\">\n",
       "  <thead>\n",
       "    <tr style=\"text-align: right;\">\n",
       "      <th></th>\n",
       "      <th>Suburb</th>\n",
       "      <th>Address</th>\n",
       "      <th>Rooms</th>\n",
       "      <th>Type</th>\n",
       "      <th>Price</th>\n",
       "      <th>Method</th>\n",
       "      <th>SellerG</th>\n",
       "      <th>Date</th>\n",
       "      <th>Distance</th>\n",
       "      <th>Postcode</th>\n",
       "      <th>...</th>\n",
       "      <th>Bathroom</th>\n",
       "      <th>Car</th>\n",
       "      <th>Landsize</th>\n",
       "      <th>BuildingArea</th>\n",
       "      <th>YearBuilt</th>\n",
       "      <th>CouncilArea</th>\n",
       "      <th>Lattitude</th>\n",
       "      <th>Longtitude</th>\n",
       "      <th>Regionname</th>\n",
       "      <th>Propertycount</th>\n",
       "    </tr>\n",
       "  </thead>\n",
       "  <tbody>\n",
       "    <tr>\n",
       "      <th>0</th>\n",
       "      <td>Abbotsford</td>\n",
       "      <td>68 Studley St</td>\n",
       "      <td>2</td>\n",
       "      <td>h</td>\n",
       "      <td>NaN</td>\n",
       "      <td>SS</td>\n",
       "      <td>Jellis</td>\n",
       "      <td>3/09/2016</td>\n",
       "      <td>2.5</td>\n",
       "      <td>3067.0</td>\n",
       "      <td>...</td>\n",
       "      <td>1.0</td>\n",
       "      <td>1.0</td>\n",
       "      <td>126.0</td>\n",
       "      <td>NaN</td>\n",
       "      <td>NaN</td>\n",
       "      <td>Yarra City Council</td>\n",
       "      <td>-37.8014</td>\n",
       "      <td>144.9958</td>\n",
       "      <td>Northern Metropolitan</td>\n",
       "      <td>4019.0</td>\n",
       "    </tr>\n",
       "    <tr>\n",
       "      <th>1</th>\n",
       "      <td>Abbotsford</td>\n",
       "      <td>85 Turner St</td>\n",
       "      <td>2</td>\n",
       "      <td>h</td>\n",
       "      <td>1480000.0</td>\n",
       "      <td>S</td>\n",
       "      <td>Biggin</td>\n",
       "      <td>3/12/2016</td>\n",
       "      <td>2.5</td>\n",
       "      <td>3067.0</td>\n",
       "      <td>...</td>\n",
       "      <td>1.0</td>\n",
       "      <td>1.0</td>\n",
       "      <td>202.0</td>\n",
       "      <td>NaN</td>\n",
       "      <td>NaN</td>\n",
       "      <td>Yarra City Council</td>\n",
       "      <td>-37.7996</td>\n",
       "      <td>144.9984</td>\n",
       "      <td>Northern Metropolitan</td>\n",
       "      <td>4019.0</td>\n",
       "    </tr>\n",
       "    <tr>\n",
       "      <th>2</th>\n",
       "      <td>Abbotsford</td>\n",
       "      <td>25 Bloomburg St</td>\n",
       "      <td>2</td>\n",
       "      <td>h</td>\n",
       "      <td>1035000.0</td>\n",
       "      <td>S</td>\n",
       "      <td>Biggin</td>\n",
       "      <td>4/02/2016</td>\n",
       "      <td>2.5</td>\n",
       "      <td>3067.0</td>\n",
       "      <td>...</td>\n",
       "      <td>1.0</td>\n",
       "      <td>0.0</td>\n",
       "      <td>156.0</td>\n",
       "      <td>79.0</td>\n",
       "      <td>1900.0</td>\n",
       "      <td>Yarra City Council</td>\n",
       "      <td>-37.8079</td>\n",
       "      <td>144.9934</td>\n",
       "      <td>Northern Metropolitan</td>\n",
       "      <td>4019.0</td>\n",
       "    </tr>\n",
       "    <tr>\n",
       "      <th>3</th>\n",
       "      <td>Abbotsford</td>\n",
       "      <td>18/659 Victoria St</td>\n",
       "      <td>3</td>\n",
       "      <td>u</td>\n",
       "      <td>NaN</td>\n",
       "      <td>VB</td>\n",
       "      <td>Rounds</td>\n",
       "      <td>4/02/2016</td>\n",
       "      <td>2.5</td>\n",
       "      <td>3067.0</td>\n",
       "      <td>...</td>\n",
       "      <td>2.0</td>\n",
       "      <td>1.0</td>\n",
       "      <td>0.0</td>\n",
       "      <td>NaN</td>\n",
       "      <td>NaN</td>\n",
       "      <td>Yarra City Council</td>\n",
       "      <td>-37.8114</td>\n",
       "      <td>145.0116</td>\n",
       "      <td>Northern Metropolitan</td>\n",
       "      <td>4019.0</td>\n",
       "    </tr>\n",
       "    <tr>\n",
       "      <th>4</th>\n",
       "      <td>Abbotsford</td>\n",
       "      <td>5 Charles St</td>\n",
       "      <td>3</td>\n",
       "      <td>h</td>\n",
       "      <td>1465000.0</td>\n",
       "      <td>SP</td>\n",
       "      <td>Biggin</td>\n",
       "      <td>4/03/2017</td>\n",
       "      <td>2.5</td>\n",
       "      <td>3067.0</td>\n",
       "      <td>...</td>\n",
       "      <td>2.0</td>\n",
       "      <td>0.0</td>\n",
       "      <td>134.0</td>\n",
       "      <td>150.0</td>\n",
       "      <td>1900.0</td>\n",
       "      <td>Yarra City Council</td>\n",
       "      <td>-37.8093</td>\n",
       "      <td>144.9944</td>\n",
       "      <td>Northern Metropolitan</td>\n",
       "      <td>4019.0</td>\n",
       "    </tr>\n",
       "  </tbody>\n",
       "</table>\n",
       "<p>5 rows × 21 columns</p>\n",
       "</div>"
      ],
      "text/plain": [
       "       Suburb             Address  Rooms Type      Price Method SellerG  \\\n",
       "0  Abbotsford       68 Studley St      2    h        NaN     SS  Jellis   \n",
       "1  Abbotsford        85 Turner St      2    h  1480000.0      S  Biggin   \n",
       "2  Abbotsford     25 Bloomburg St      2    h  1035000.0      S  Biggin   \n",
       "3  Abbotsford  18/659 Victoria St      3    u        NaN     VB  Rounds   \n",
       "4  Abbotsford        5 Charles St      3    h  1465000.0     SP  Biggin   \n",
       "\n",
       "        Date  Distance  Postcode      ...       Bathroom  Car  Landsize  \\\n",
       "0  3/09/2016       2.5    3067.0      ...            1.0  1.0     126.0   \n",
       "1  3/12/2016       2.5    3067.0      ...            1.0  1.0     202.0   \n",
       "2  4/02/2016       2.5    3067.0      ...            1.0  0.0     156.0   \n",
       "3  4/02/2016       2.5    3067.0      ...            2.0  1.0       0.0   \n",
       "4  4/03/2017       2.5    3067.0      ...            2.0  0.0     134.0   \n",
       "\n",
       "   BuildingArea  YearBuilt         CouncilArea Lattitude  Longtitude  \\\n",
       "0           NaN        NaN  Yarra City Council  -37.8014    144.9958   \n",
       "1           NaN        NaN  Yarra City Council  -37.7996    144.9984   \n",
       "2          79.0     1900.0  Yarra City Council  -37.8079    144.9934   \n",
       "3           NaN        NaN  Yarra City Council  -37.8114    145.0116   \n",
       "4         150.0     1900.0  Yarra City Council  -37.8093    144.9944   \n",
       "\n",
       "              Regionname Propertycount  \n",
       "0  Northern Metropolitan        4019.0  \n",
       "1  Northern Metropolitan        4019.0  \n",
       "2  Northern Metropolitan        4019.0  \n",
       "3  Northern Metropolitan        4019.0  \n",
       "4  Northern Metropolitan        4019.0  \n",
       "\n",
       "[5 rows x 21 columns]"
      ]
     },
     "execution_count": 30,
     "metadata": {},
     "output_type": "execute_result"
    }
   ],
   "source": [
    "df.head()"
   ]
  },
  {
   "cell_type": "code",
   "execution_count": 31,
   "metadata": {},
   "outputs": [
    {
     "name": "stdout",
     "output_type": "stream",
     "text": [
      "<class 'pandas.core.frame.DataFrame'>\n",
      "RangeIndex: 34857 entries, 0 to 34856\n",
      "Data columns (total 21 columns):\n",
      "Suburb           34857 non-null object\n",
      "Address          34857 non-null object\n",
      "Rooms            34857 non-null int64\n",
      "Type             34857 non-null object\n",
      "Price            27247 non-null float64\n",
      "Method           34857 non-null object\n",
      "SellerG          34857 non-null object\n",
      "Date             34857 non-null object\n",
      "Distance         34856 non-null float64\n",
      "Postcode         34856 non-null float64\n",
      "Bedroom2         26640 non-null float64\n",
      "Bathroom         26631 non-null float64\n",
      "Car              26129 non-null float64\n",
      "Landsize         23047 non-null float64\n",
      "BuildingArea     13742 non-null float64\n",
      "YearBuilt        15551 non-null float64\n",
      "CouncilArea      34854 non-null object\n",
      "Lattitude        26881 non-null float64\n",
      "Longtitude       26881 non-null float64\n",
      "Regionname       34854 non-null object\n",
      "Propertycount    34854 non-null float64\n",
      "dtypes: float64(12), int64(1), object(8)\n",
      "memory usage: 5.6+ MB\n"
     ]
    }
   ],
   "source": [
    "#Checking data types and null values\n",
    "df.info()"
   ]
  },
  {
   "cell_type": "code",
   "execution_count": 32,
   "metadata": {},
   "outputs": [
    {
     "name": "stdout",
     "output_type": "stream",
     "text": [
      "Unique values in categorical features\n",
      "Suburb: 351\n",
      "Address: 34009\n",
      "Type: 3\n",
      "Method: 9\n",
      "SellerG: 388\n",
      "Date: 78\n",
      "CouncilArea: 33\n",
      "Regionname: 8\n"
     ]
    }
   ],
   "source": [
    "categorical = df.select_dtypes(include = ['object'])\n",
    "print('Unique values in categorical features')\n",
    "for column in categorical.columns:\n",
    "    print(f'{column}: {categorical[column].nunique()}')\n"
   ]
  },
  {
   "cell_type": "code",
   "execution_count": 33,
   "metadata": {},
   "outputs": [],
   "source": [
    "#Let us get dummies for the categorical variables and drop some of the features  with many unique values and drop the rows\n",
    "# with missing values\n",
    "df_features = pd.get_dummies(df.drop(['Suburb','Address', 'SellerG', 'Date', 'CouncilArea'], 1)).dropna()"
   ]
  },
  {
   "cell_type": "code",
   "execution_count": 34,
   "metadata": {},
   "outputs": [
    {
     "name": "stdout",
     "output_type": "stream",
     "text": [
      "<class 'pandas.core.frame.DataFrame'>\n",
      "Int64Index: 8887 entries, 2 to 34856\n",
      "Data columns (total 33 columns):\n",
      "Rooms                                    8887 non-null int64\n",
      "Price                                    8887 non-null float64\n",
      "Distance                                 8887 non-null float64\n",
      "Postcode                                 8887 non-null float64\n",
      "Bedroom2                                 8887 non-null float64\n",
      "Bathroom                                 8887 non-null float64\n",
      "Car                                      8887 non-null float64\n",
      "Landsize                                 8887 non-null float64\n",
      "BuildingArea                             8887 non-null float64\n",
      "YearBuilt                                8887 non-null float64\n",
      "Lattitude                                8887 non-null float64\n",
      "Longtitude                               8887 non-null float64\n",
      "Propertycount                            8887 non-null float64\n",
      "Type_h                                   8887 non-null uint8\n",
      "Type_t                                   8887 non-null uint8\n",
      "Type_u                                   8887 non-null uint8\n",
      "Method_PI                                8887 non-null uint8\n",
      "Method_PN                                8887 non-null uint8\n",
      "Method_S                                 8887 non-null uint8\n",
      "Method_SA                                8887 non-null uint8\n",
      "Method_SN                                8887 non-null uint8\n",
      "Method_SP                                8887 non-null uint8\n",
      "Method_SS                                8887 non-null uint8\n",
      "Method_VB                                8887 non-null uint8\n",
      "Method_W                                 8887 non-null uint8\n",
      "Regionname_Eastern Metropolitan          8887 non-null uint8\n",
      "Regionname_Eastern Victoria              8887 non-null uint8\n",
      "Regionname_Northern Metropolitan         8887 non-null uint8\n",
      "Regionname_Northern Victoria             8887 non-null uint8\n",
      "Regionname_South-Eastern Metropolitan    8887 non-null uint8\n",
      "Regionname_Southern Metropolitan         8887 non-null uint8\n",
      "Regionname_Western Metropolitan          8887 non-null uint8\n",
      "Regionname_Western Victoria              8887 non-null uint8\n",
      "dtypes: float64(12), int64(1), uint8(20)\n",
      "memory usage: 1.1 MB\n"
     ]
    }
   ],
   "source": [
    "df_features.info()"
   ]
  },
  {
   "cell_type": "markdown",
   "metadata": {},
   "source": [
    "#We have reduced the dataframes from 34857 rows to 8887 entries and now we have 384 features. Let us create our features and  target "
   ]
  },
  {
   "cell_type": "code",
   "execution_count": 35,
   "metadata": {},
   "outputs": [],
   "source": [
    "features = df_features.drop(['Price'], 1)\n",
    "target = df_features['Price']"
   ]
  },
  {
   "cell_type": "code",
   "execution_count": 36,
   "metadata": {},
   "outputs": [],
   "source": [
    "#Split the data into train and test set\n",
    "X_train, X_test, y_train, y_test= train_test_split(features, target, test_size=0.3, random_state=2)"
   ]
  },
  {
   "cell_type": "markdown",
   "metadata": {},
   "source": [
    "Linear Regression"
   ]
  },
  {
   "cell_type": "code",
   "execution_count": 37,
   "metadata": {},
   "outputs": [
    {
     "name": "stdout",
     "output_type": "stream",
     "text": [
      "\n",
      "R-squared on training set:\n",
      "0.6413236797463819\n",
      "Cross Validation Accuracy scores on Training set 0.634(+/-)0.07)\n"
     ]
    }
   ],
   "source": [
    "#Instantiate and fit our model on Training set\n",
    "rm = linear_model.LinearRegression()\n",
    "rm_model= rm.fit(X_train, y_train)\n",
    "y_pred = rm.predict(X_train)\n",
    "\n",
    "print('\\nR-squared on training set:')\n",
    "print(rm.score(X_train, y_train))\n",
    "\n",
    "Cross_validation = cross_val_score(rm, X_train, y_train, cv=5)\n",
    "print('Cross Validation Accuracy scores on Training set {:.3f}(+/-){:.2f})'.format(Cross_validation.mean(), (Cross_validation.std())*2))"
   ]
  },
  {
   "cell_type": "code",
   "execution_count": 38,
   "metadata": {},
   "outputs": [
    {
     "name": "stdout",
     "output_type": "stream",
     "text": [
      "\n",
      "R-squared on test set:\n",
      "0.6658617536942455\n",
      "Cross Validation Accuracy scores on Test set 0.634(+/-)0.07)\n"
     ]
    }
   ],
   "source": [
    "#Linear Regression on Test set\n",
    "rm_t = linear_model.LinearRegression()\n",
    "rm_t_model = rm_t.fit(X_test, y_test)\n",
    "y_pred = rm_t.predict(X_test)\n",
    "\n",
    "print('\\nR-squared on test set:')\n",
    "print(rm.score(X_test, y_test))\n",
    "\n",
    "Cross_Validation = cross_val_score(rm_t, X_test, y_test, cv=5)\n",
    "print('Cross Validation Accuracy scores on Test set {:.3f}(+/-){:.2f})'.format(Cross_validation.mean(), (Cross_validation.std())*2))"
   ]
  },
  {
   "cell_type": "code",
   "execution_count": 39,
   "metadata": {},
   "outputs": [
    {
     "name": "stderr",
     "output_type": "stream",
     "text": [
      "C:\\Users\\18644\\Anaconda3\\lib\\site-packages\\sklearn\\linear_model\\coordinate_descent.py:492: ConvergenceWarning: Objective did not converge. You might want to increase the number of iterations. Fitting data with very small alpha may cause precision problems.\n",
      "  ConvergenceWarning)\n"
     ]
    },
    {
     "name": "stdout",
     "output_type": "stream",
     "text": [
      "\n",
      "Lasso Regression R-squared on training set:\n",
      "0.6413236503160327\n"
     ]
    },
    {
     "name": "stderr",
     "output_type": "stream",
     "text": [
      "C:\\Users\\18644\\Anaconda3\\lib\\site-packages\\sklearn\\linear_model\\coordinate_descent.py:492: ConvergenceWarning: Objective did not converge. You might want to increase the number of iterations. Fitting data with very small alpha may cause precision problems.\n",
      "  ConvergenceWarning)\n",
      "C:\\Users\\18644\\Anaconda3\\lib\\site-packages\\sklearn\\linear_model\\coordinate_descent.py:492: ConvergenceWarning: Objective did not converge. You might want to increase the number of iterations. Fitting data with very small alpha may cause precision problems.\n",
      "  ConvergenceWarning)\n",
      "C:\\Users\\18644\\Anaconda3\\lib\\site-packages\\sklearn\\linear_model\\coordinate_descent.py:492: ConvergenceWarning: Objective did not converge. You might want to increase the number of iterations. Fitting data with very small alpha may cause precision problems.\n",
      "  ConvergenceWarning)\n",
      "C:\\Users\\18644\\Anaconda3\\lib\\site-packages\\sklearn\\linear_model\\coordinate_descent.py:492: ConvergenceWarning: Objective did not converge. You might want to increase the number of iterations. Fitting data with very small alpha may cause precision problems.\n",
      "  ConvergenceWarning)\n"
     ]
    },
    {
     "name": "stdout",
     "output_type": "stream",
     "text": [
      "Cross Validation Accuracy score on Traininig set 0.634(+/-)0.07)\n"
     ]
    },
    {
     "name": "stderr",
     "output_type": "stream",
     "text": [
      "C:\\Users\\18644\\Anaconda3\\lib\\site-packages\\sklearn\\linear_model\\coordinate_descent.py:492: ConvergenceWarning: Objective did not converge. You might want to increase the number of iterations. Fitting data with very small alpha may cause precision problems.\n",
      "  ConvergenceWarning)\n"
     ]
    }
   ],
   "source": [
    "#Lasso Regression on Training set\n",
    "lrm= linear_model.Lasso(alpha= 3, max_iter = 5000)\n",
    "lasso = lrm.fit(X_train, y_train)\n",
    "lasso_predict = lrm.predict(X_test)\n",
    "\n",
    "print('\\nLasso Regression R-squared on training set:')\n",
    "print(lrm.score(X_train, y_train))\n",
    "\n",
    "Cross_validation= cross_val_score(lrm, X_train, y_train, cv=5)\n",
    "print('Cross Validation Accuracy score on Traininig set {:.3f}(+/-){:.2f})'.format(Cross_validation.mean(), (Cross_validation.std())*2))"
   ]
  },
  {
   "cell_type": "code",
   "execution_count": 67,
   "metadata": {},
   "outputs": [
    {
     "name": "stdout",
     "output_type": "stream",
     "text": [
      "\n",
      "Lasso Regression R-squared on test set:\n",
      "0.6364383556521882\n",
      "Cross Validation Accuracy score on Test set 0.663(+/-)0.08)\n"
     ]
    }
   ],
   "source": [
    "#Lasso Regression on Test set\n",
    "lrm= linear_model.Lasso(alpha= 3, max_iter = 5000)\n",
    "lasso = lrm.fit(X_test, y_test)\n",
    "lasso_predict = lrm.predict(X_test)\n",
    "\n",
    "print('\\nLasso Regression R-squared on test set:')\n",
    "print(lrm.score(X_train, y_train))\n",
    "\n",
    "Cross_validation= cross_val_score(lrm, X_test, y_test, cv=5)\n",
    "print('Cross Validation Accuracy score on Test set {:.3f}(+/-){:.2f})'.format(Cross_validation.mean(), (Cross_validation.std())*2))"
   ]
  },
  {
   "cell_type": "markdown",
   "metadata": {},
   "source": [
    "Random Forest"
   ]
  },
  {
   "cell_type": "code",
   "execution_count": 41,
   "metadata": {},
   "outputs": [
    {
     "name": "stdout",
     "output_type": "stream",
     "text": [
      "Random forest Accuracy Score: 0.9743719807297924\n",
      "Cross Validation Accuracy score for Training set 0.811(+/-)0.07)\n"
     ]
    }
   ],
   "source": [
    "#Training set\n",
    "rfr = RandomForestRegressor(n_estimators =100)\n",
    "rfr_model= rfr.fit(X_train, y_train)\n",
    "y_predict = rfr.predict(X_train)\n",
    "\n",
    "print('Random forest Accuracy Score:', rfr.score(X_train, y_train))\n",
    "cross_val = cross_val_score(rfr, X_train, y_train, cv=5)\n",
    "print('Cross Validation Accuracy score for Training set {:.3f}(+/-){:.2f})'. format(cross_val.mean(), (cross_val.std())*2))"
   ]
  },
  {
   "cell_type": "code",
   "execution_count": 42,
   "metadata": {},
   "outputs": [
    {
     "name": "stdout",
     "output_type": "stream",
     "text": [
      "Random forest Accuracy Score: 0.9727640162858822\n",
      "Cross Validation Accuracy score for Test set 0.796(+/-)0.06)\n"
     ]
    }
   ],
   "source": [
    "#Test set\n",
    "rfr = RandomForestRegressor(n_estimators =100)\n",
    "rfr_model= rfr.fit(X_test, y_test)\n",
    "y_predict = rfr.predict(X_test)\n",
    "\n",
    "print('Random forest Accuracy Score:', rfr.score(X_test, y_test))\n",
    "cross_val = cross_val_score(rfr, X_test, y_test, cv=5)\n",
    "print('Cross Validation Accuracy score for Test set {:.3f}(+/-){:.2f})'. format(cross_val.mean(), (cross_val.std())*2))"
   ]
  },
  {
   "cell_type": "code",
   "execution_count": null,
   "metadata": {},
   "outputs": [],
   "source": [
    "#Identifying the major features"
   ]
  },
  {
   "cell_type": "code",
   "execution_count": 45,
   "metadata": {},
   "outputs": [
    {
     "data": {
      "image/png": "[encoded data removed]",
      "text/plain": [
       "<Figure size 720x720 with 1 Axes>"
      ]
     },
     "metadata": {
      "needs_background": "light"
     },
     "output_type": "display_data"
    }
   ],
   "source": [
    "plt.figure(figsize=(10,10))\n",
    "plt.bar(features.columns[0:15], rfr.feature_importances_[0:15])\n",
    "plt.xticks(rotation=90)\n",
    "plt.xlabel('Features')\n",
    "plt.ylabel('Importance')\n",
    "plt.title('Feature Importance in Random Forest Regressor')\n",
    "plt.show()"
   ]
  },
  {
   "cell_type": "markdown",
   "metadata": {},
   "source": [
    "Gradient Boosted Regressor"
   ]
  },
  {
   "cell_type": "code",
   "execution_count": 52,
   "metadata": {},
   "outputs": [],
   "source": [
    "from sklearn.ensemble import GradientBoostingRegressor"
   ]
  },
  {
   "cell_type": "code",
   "execution_count": 59,
   "metadata": {},
   "outputs": [
    {
     "name": "stdout",
     "output_type": "stream",
     "text": [
      "Accuracy score on Training set: 0.9318710282509288\n"
     ]
    }
   ],
   "source": [
    "#Training set\n",
    "gbr = GradientBoostingRegressor(learning_rate=0.01, n_estimators=1000, max_depth=5)\n",
    "gbr.fit(X_train, y_train)\n",
    "y_predict= gbr.predict(X_train)\n",
    "print('Accuracy score on Training set:', gbr.score(X_train, y_train))"
   ]
  },
  {
   "cell_type": "code",
   "execution_count": 65,
   "metadata": {},
   "outputs": [
    {
     "name": "stdout",
     "output_type": "stream",
     "text": [
      "Accuracy score on Training set: 0.9540655412124978\n",
      "Cross Validation Accuracy score for Test set 0.807(+/-)0.04)\n"
     ]
    }
   ],
   "source": [
    "#Test set\n",
    "gbr = GradientBoostingRegressor(learning_rate = 0.01, n_estimators=1000, max_depth=5)\n",
    "gbr.fit(X_test, y_test)\n",
    "y_predict = gbr.predict(X_test)\n",
    "print('Accuracy score on Training set:', gbr.score(X_test, y_test))\n",
    "\n",
    "cross_val= cross_val_score(gbr, X_test, y_test, cv=5)\n",
    "print('Cross Validation Accuracy score for Test set {:.3f}(+/-){:.2f})'. format(cross_val.mean(), (cross_val.std())*2))\n"
   ]
  },
  {
   "cell_type": "code",
   "execution_count": 66,
   "metadata": {},
   "outputs": [
    {
     "data": {
      "text/plain": [
       "Text(0.5, 1.0, 'Feature Importance in Gradient Boosted Regressor')"
      ]
     },
     "execution_count": 66,
     "metadata": {},
     "output_type": "execute_result"
    },
    {
     "data": {
      "image/png": "[encoded data removed]",
      "text/plain": [
       "<Figure size 720x720 with 1 Axes>"
      ]
     },
     "metadata": {
      "needs_background": "light"
     },
     "output_type": "display_data"
    }
   ],
   "source": [
    "#Identifying the major features\n",
    "plt.figure(figsize=(10,10))\n",
    "plt.bar(features.columns[0:15], gbr.feature_importances_[0:15])\n",
    "plt.xticks(rotation=90)\n",
    "plt.xlabel('Features')\n",
    "plt.ylabel('Importance')\n",
    "plt.title('Feature Importance in Gradient Boosted Regressor')"
   ]
  },
  {
   "cell_type": "markdown",
   "metadata": {},
   "source": [
    "Gradient Boosting Regreesor seems to perform well on the test dataset in determining the housing prices out of the models I have tried here. We can see the Building area to be the dominant feature in creating the value of the house followed by built year and distance. "
   ]
  }
 ],
 "metadata": {
  "kernelspec": {
   "display_name": "Python 3",
   "language": "python",
   "name": "python3"
  },
  "language_info": {
   "codemirror_mode": {
    "name": "ipython",
    "version": 3
   },
   "file_extension": ".py",
   "mimetype": "text/x-python",
   "name": "python",
   "nbconvert_exporter": "python",
   "pygments_lexer": "ipython3",
   "version": "3.7.1"
  }
 },
 "nbformat": 4,
 "nbformat_minor": 2
}
